{
 "cells": [
  {
   "cell_type": "code",
   "execution_count": null,
   "metadata": {},
   "outputs": [],
   "source": [
    "import numpy as np\n",
    "import xarray as xr\n",
    "import matplotlib.pyplot as plt\n",
    "import cartopy.crs as ccrs\n",
    "import cmocean\n",
    "from pyproj import Proj"
   ]
  },
  {
   "cell_type": "code",
   "execution_count": null,
   "metadata": {},
   "outputs": [],
   "source": [
    "## YYYY-MM-DD\n",
    "start_date = np.datetime64('2019-01-01')\n",
    "end_date   = np.datetime64('2019-01-07')\n",
    "num_days = (end_date - start_date).tolist().days\n",
    "\n",
    "# variable to load\n",
    "VAR = 'CHL'\n",
    "\n",
    "# algorithm\n",
    "ALG = 'chl_ocx'\n",
    "\n",
    "# Binning period\n",
    "BIN = 'DAY'  # DAY, 8D, MO, R32\n",
    "\n",
    "# Spatial resolution\n",
    "SRES = '4km'   # 4km, 9km\n",
    "\n",
    "dap_urls = []\n",
    "\n",
    "url_base = \"https://oceandata.sci.gsfc.nasa.gov:443/opendap/MODISA/L3SMI/\"\n",
    "\n",
    "for ii in range(num_days):\n",
    "    curr_date = start_date + ii\n",
    "    \n",
    "    curr_year = curr_date.tolist().year\n",
    "    ref_date = np.datetime64('{0:d}-01-01'.format(curr_year))\n",
    "    \n",
    "    day_num = 1 + (curr_date - ref_date).tolist().days\n",
    "    \n",
    "    file_url = url_base + \\\n",
    "                '{0:d}/{1:03d}/A{0:d}{1:03d}'.format(curr_year, day_num) + \\\n",
    "                '.L3m_{0}_{1}_{2}_{3}'.format(BIN, VAR, ALG, SRES) + \\\n",
    "                '.nc'\n",
    "    \n",
    "    dap_urls += [file_url]\n",
    "    \n",
    "print('dap_urls containts {0:d} urls for {1} data.'.format(len(dap_urls), VAR))"
   ]
  },
  {
   "cell_type": "code",
   "execution_count": null,
   "metadata": {},
   "outputs": [],
   "source": [
    "single_set = xr.open_dataset(dap_urls[0])"
   ]
  },
  {
   "cell_type": "code",
   "execution_count": null,
   "metadata": {},
   "outputs": [],
   "source": [
    "lon_lb = -130\n",
    "lon_ub = -110\n",
    "\n",
    "lat_lb = 25\n",
    "lat_ub = 40"
   ]
  },
  {
   "cell_type": "code",
   "execution_count": null,
   "metadata": {},
   "outputs": [],
   "source": [
    "def preprocess_set(dset, time):\n",
    "    return dset.sel(lon=slice(lon_lb,lon_ub),lat=slice(lat_ub,lat_lb))"
   ]
  },
  {
   "cell_type": "code",
   "execution_count": null,
   "metadata": {},
   "outputs": [],
   "source": [
    "data_sets = [preprocess_set(xr.open_dataset(url), ind) \\\n",
    "             for (url,ind) \\\n",
    "             in zip(dap_urls, np.arange(num_days))]"
   ]
  },
  {
   "cell_type": "code",
   "execution_count": null,
   "metadata": {},
   "outputs": [],
   "source": [
    "merged = xr.concat(data_sets, 'time')"
   ]
  },
  {
   "cell_type": "code",
   "execution_count": null,
   "metadata": {},
   "outputs": [],
   "source": [
    "merged.chl_ocx.mean(dim=['lat', 'lon']).plot()\n",
    "plt.gca().set_yscale('log')"
   ]
  },
  {
   "cell_type": "code",
   "execution_count": null,
   "metadata": {},
   "outputs": [],
   "source": [
    "mean_chl = merged.chl_ocx.mean(dim='time').data\n",
    "std_chl  = merged.chl_ocx.std( dim='time').data\n",
    "\n",
    "lon = merged.lon.data\n",
    "lat = merged.lat.data"
   ]
  },
  {
   "cell_type": "code",
   "execution_count": null,
   "metadata": {},
   "outputs": [],
   "source": [
    "meridians = np.round(np.linspace(lon.min(), lon.max(), 5))\n",
    "parallels = np.round(np.linspace(lat.min(), lat.max(), 5))"
   ]
  },
  {
   "cell_type": "code",
   "execution_count": null,
   "metadata": {},
   "outputs": [],
   "source": [
    "proj = Proj(proj='wag7', lon_0 = lon.mean(), lat_0 = lat.mean())"
   ]
  },
  {
   "cell_type": "code",
   "execution_count": null,
   "metadata": {},
   "outputs": [],
   "source": [
    "LON, LAT = np.meshgrid(lon, lat)\n",
    "\n",
    "Xp, Yp = proj(LON, LAT, inverse=False)"
   ]
  },
  {
   "cell_type": "code",
   "execution_count": null,
   "metadata": {},
   "outputs": [],
   "source": [
    "def AddParallels_and_Meridians(\n",
    "        ax, proj,\n",
    "        parallels, meridians,\n",
    "        latitude, longitude,\n",
    "        label_parallels = True,\n",
    "        label_meridians = True):\n",
    "\n",
    "    for mer in meridians:\n",
    "        xs, ys = proj(mer*np.ones(latitude.shape), latitude, inverse=False)\n",
    "        ax.plot(xs, ys, '--g', linewidth=1)\n",
    "    for par in parallels:\n",
    "        xs, ys = proj(longitude, par*np.ones(longitude.shape), inverse=False)\n",
    "        ax.plot(xs, ys, '--g', linewidth=1)\n",
    "\n",
    "    xs, ys = proj(meridians, latitude.min()*np.ones(meridians.shape), inverse=False)\n",
    "    ax.set_xticks(xs)\n",
    "    if label_meridians:\n",
    "        ax.set_xticklabels(['{0:d}'.format(int(mer)) for mer in meridians])\n",
    "    else:\n",
    "        ax.set_xticklabels([])\n",
    "\n",
    "    xs, ys = proj(longitude.min()*np.ones(parallels.shape), parallels, inverse=False)\n",
    "    ax.set_yticks(ys)\n",
    "    if label_parallels:\n",
    "        ax.set_yticklabels(['{0:d}'.format(int(par)) for par in parallels])\n",
    "    else:\n",
    "        ax.set_yticklabels([])"
   ]
  },
  {
   "cell_type": "code",
   "execution_count": null,
   "metadata": {},
   "outputs": [],
   "source": [
    "fig, axes = plt.subplots(1, 3, sharex=True, figsize=(20,4))\n",
    "\n",
    "q0 = axes[0].pcolormesh(Xp, Yp, np.log10(mean_chl), vmin=0, vmax=0.2, cmap='cmo.algae')\n",
    "q1 = axes[1].pcolormesh(Xp, Yp, std_chl, vmin=0, vmax=0.4, cmap='cmo.algae')\n",
    "q2 = axes[2].pcolormesh(Xp, Yp, std_chl / (mean_chl + 1e-5), vmin=0, vmax=1, cmap='cmo.algae')\n",
    "\n",
    "plt.colorbar(q0, ax=axes[0])\n",
    "plt.colorbar(q1, ax=axes[1])\n",
    "plt.colorbar(q2, ax=axes[2])\n",
    "\n",
    "axes[0].set_title('$log_{10}(\\mu_t(\\mathrm{CHL}_{\\mathrm{ocx}})$')\n",
    "axes[1].set_title('$\\sigma_t(\\mathrm{CHL}_{\\mathrm{ocx}})$')\n",
    "axes[2].set_title('$\\sigma_t / \\mu_t$')\n",
    "\n",
    "for ax in axes:\n",
    "\n",
    "    ax.set_xticks([])\n",
    "    ax.set_yticks([])\n",
    "    \n",
    "    AddParallels_and_Meridians(ax, proj, parallels, meridians, lat, lon)\n",
    "    \n",
    "    ax.set_aspect('equal')"
   ]
  },
  {
   "cell_type": "code",
   "execution_count": null,
   "metadata": {},
   "outputs": [],
   "source": []
  }
 ],
 "metadata": {
  "kernelspec": {
   "display_name": "Python 3",
   "language": "python",
   "name": "python3"
  },
  "language_info": {
   "codemirror_mode": {
    "name": "ipython",
    "version": 3
   },
   "file_extension": ".py",
   "mimetype": "text/x-python",
   "name": "python",
   "nbconvert_exporter": "python",
   "pygments_lexer": "ipython3",
   "version": "3.7.3"
  }
 },
 "nbformat": 4,
 "nbformat_minor": 4
}
