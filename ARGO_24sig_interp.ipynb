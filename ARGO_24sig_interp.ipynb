{
 "cells": [
  {
   "cell_type": "code",
   "execution_count": 2,
   "metadata": {},
   "outputs": [],
   "source": [
    "import xarray as xr\n",
    "import datetime as dt\n",
    "import numpy as np\n",
    "import matplotlib.pyplot as plt\n",
    "import scipy\n",
    "import scipy.io as sio\n",
    "import pandas as pn\n",
    "import cartopy.crs as ccrs\n",
    "from cartopy.mpl.ticker import LongitudeFormatter, LatitudeFormatter\n",
    "import timeit\n",
    "import gsw\n",
    "import matplotlib.patches as mpatches\n",
    "from scipy import interpolate\n",
    "import timeit"
   ]
  },
  {
   "cell_type": "markdown",
   "metadata": {},
   "source": [
    "## Load the ARGO data using Opendap from the Asia Pacific Data Research Center"
   ]
  },
  {
   "cell_type": "code",
   "execution_count": 3,
   "metadata": {},
   "outputs": [],
   "source": [
    "# Import the gridded argo data as a xarray datset\n",
    "url = 'http://apdrc.soest.hawaii.edu:80/dods/public_data/Argo_Products/monthly_mean/Gridded_monthly_mean'\n",
    "argo = xr.open_dataset(url,decode_times = False)"
   ]
  },
  {
   "cell_type": "code",
   "execution_count": 4,
   "metadata": {},
   "outputs": [
    {
     "data": {
      "text/plain": [
       "<xarray.Dataset>\n",
       "Dimensions:  (lat: 180, lev: 27, lon: 360, time: 180)\n",
       "Coordinates:\n",
       "  * time     (time) float64 7.32e+05 7.32e+05 7.32e+05 ... 7.374e+05 7.374e+05\n",
       "  * lev      (lev) float64 0.0 5.0 10.0 20.0 ... 1.4e+03 1.5e+03 1.75e+03 2e+03\n",
       "  * lat      (lat) float64 -89.5 -88.5 -87.5 -86.5 -85.5 ... 86.5 87.5 88.5 89.5\n",
       "  * lon      (lon) float64 0.5 1.5 2.5 3.5 4.5 ... 355.5 356.5 357.5 358.5 359.5\n",
       "Data variables:\n",
       "    temp     (time, lev, lat, lon) float32 ...\n",
       "    salt     (time, lev, lat, lon) float32 ...\n",
       "    ptemp    (time, lev, lat, lon) float32 ...\n",
       "    pden     (time, lev, lat, lon) float32 ...\n",
       "    addep    (time, lev, lat, lon) float32 ...\n",
       "    spice    (time, lev, lat, lon) float32 ...\n",
       "Attributes:\n",
       "    title:          1x1 gridded Monthly mean on Standard Levels (from 2005)\n",
       "    Conventions:    COARDS\\nGrADS\n",
       "    dataType:       Grid\n",
       "    documentation:  http://apdrc.soest.hawaii.edu/projects/Argo/index.html\n",
       "    history:        Fri Jul 19 13:26:16 HST 2019 : imported by GrADS Data Ser..."
      ]
     },
     "execution_count": 4,
     "metadata": {},
     "output_type": "execute_result"
    }
   ],
   "source": [
    "# Look at the dataset\n",
    "argo"
   ]
  },
  {
   "cell_type": "markdown",
   "metadata": {},
   "source": [
    "### Make a subset of data within the southern Indian Ocean"
   ]
  },
  {
   "cell_type": "markdown",
   "metadata": {},
   "source": [
    "Create a subset of the upper 1000m within the box 40.5S to 0.5N and 40.5E to 130.5E"
   ]
  },
  {
   "cell_type": "code",
   "execution_count": 5,
   "metadata": {},
   "outputs": [],
   "source": [
    "argo_t = argo['ptemp'].sel(lev=slice(0,1000),lat=slice(-40.5,0.5),lon=slice(40.5,130.5))\n",
    "argo_s = argo['salt'].sel(lev=slice(0,1000),lat=slice(-40.5,0.5),lon=slice(40.5,130.5))\n",
    "argo_rho = argo['pden'].sel(lev=slice(0,1000),lat=slice(-40.5,0.5),lon=slice(40.5,130.5))"
   ]
  },
  {
   "cell_type": "code",
   "execution_count": 6,
   "metadata": {},
   "outputs": [
    {
     "data": {
      "text/plain": [
       "<xarray.DataArray 'ptemp' (time: 180, lev: 20, lat: 42, lon: 91)>\n",
       "[13759200 values with dtype=float32]\n",
       "Coordinates:\n",
       "  * time     (time) float64 7.32e+05 7.32e+05 7.32e+05 ... 7.374e+05 7.374e+05\n",
       "  * lev      (lev) float64 0.0 5.0 10.0 20.0 30.0 ... 700.0 800.0 900.0 1e+03\n",
       "  * lat      (lat) float64 -40.5 -39.5 -38.5 -37.5 -36.5 ... -2.5 -1.5 -0.5 0.5\n",
       "  * lon      (lon) float64 40.5 41.5 42.5 43.5 44.5 ... 127.5 128.5 129.5 130.5\n",
       "Attributes:\n",
       "    long_name:  argo potential temperature (degc) "
      ]
     },
     "execution_count": 6,
     "metadata": {},
     "output_type": "execute_result"
    }
   ],
   "source": [
    "argo_t"
   ]
  },
  {
   "cell_type": "markdown",
   "metadata": {},
   "source": [
    "All gridpoints where isopyncal/isotherm of interest (1024kg/m3, 20C) has outcropped are converted to NaN"
   ]
  },
  {
   "cell_type": "code",
   "execution_count": 4,
   "metadata": {},
   "outputs": [
    {
     "name": "stderr",
     "output_type": "stream",
     "text": [
      "/srv/conda/envs/notebook/lib/python3.7/site-packages/xarray/core/nputils.py:220: RuntimeWarning: All-NaN slice encountered\n",
      "  result = getattr(npmodule, name)(values, axis=axis, **kwargs)\n"
     ]
    },
    {
     "data": {
      "text/plain": [
       "<matplotlib.image.AxesImage at 0x7f37afae2e80>"
      ]
     },
     "execution_count": 4,
     "metadata": {},
     "output_type": "execute_result"
    },
    {
     "data": {
      "image/png": "[encoded data removed]",
      "text/plain": [
       "<Figure size 432x288 with 1 Axes>"
      ]
     },
     "metadata": {
      "needs_background": "light"
     },
     "output_type": "display_data"
    }
   ],
   "source": [
    "# THIS TAKES A REALLY LONG TIME, DASK FOR THIS TOO? Or some way to mask, instead?\n",
    "a = argo_rho.where(argo_rho.min(axis=1)<24)\n",
    "b = argo_s.where(argo_rho.min(axis=1)<24) \n",
    "c = argo_t.where(argo_t.max(axis=1)>20)\n",
    "plt.imshow(c[5,0,:,:])"
   ]
  },
  {
   "cell_type": "code",
   "execution_count": null,
   "metadata": {},
   "outputs": [],
   "source": [
    "#argo_rho[0,:,37,16]"
   ]
  },
  {
   "cell_type": "code",
   "execution_count": null,
   "metadata": {},
   "outputs": [],
   "source": [
    "## Interpolate Salinity to 1024 isopycnal and depth of 20C"
   ]
  },
  {
   "cell_type": "code",
   "execution_count": null,
   "metadata": {
    "scrolled": true
   },
   "outputs": [],
   "source": [
    "%%time\n",
    "s24 = np.empty([42,91,168])\n",
    "xnew = 24\n",
    "#start = timer()\n",
    "for i in range(168):\n",
    "    for j in range(42):\n",
    "        for k in range(91):\n",
    "            x = a[i,:,j,k]\n",
    "            y = b[i,:,j,k]\n",
    "            f = interpolate.interp1d(x,y,'linear')\n",
    "            s24[j,k,i] = f(xnew)\n",
    "    #end = timer()\n",
    "    #print (end - start)"
   ]
  },
  {
   "cell_type": "code",
   "execution_count": null,
   "metadata": {},
   "outputs": [],
   "source": [
    "d20 = np.empty([42,91,168])\n",
    "xnew = 20\n",
    "start = timer()\n",
    "for i in range(168):\n",
    "    for j in range(42):\n",
    "        for k in range(91):\n",
    "            x = c[i,:,j,k]\n",
    "            y = argo_t['lev']\n",
    "            f = interpolate.interp1d(x,y,'linear')\n",
    "            d20[j,k,i] = f(xnew)\n",
    "    end = timer()\n",
    "    print (end - start)"
   ]
  },
  {
   "cell_type": "code",
   "execution_count": null,
   "metadata": {},
   "outputs": [],
   "source": [
    "argo['lev'][0:20]"
   ]
  },
  {
   "cell_type": "code",
   "execution_count": 22,
   "metadata": {},
   "outputs": [],
   "source": [
    "test = dsa.from_array(a,chunks = 50)"
   ]
  },
  {
   "cell_type": "code",
   "execution_count": 23,
   "metadata": {},
   "outputs": [
    {
     "data": {
      "text/html": [
       "<table>\n",
       "<tr>\n",
       "<td>\n",
       "<table>  <thead>    <tr><td> </td><th> Array </th><th> Chunk </th></tr>\n",
       "  </thead>\n",
       "  <tbody>\n",
       "    <tr><th> Bytes </th><td> 55.04 MB </td> <td> 8.40 MB </td></tr>\n",
       "    <tr><th> Shape </th><td> (180, 20, 42, 91) </td> <td> (50, 20, 42, 50) </td></tr>\n",
       "    <tr><th> Count </th><td> 9 Tasks </td><td> 8 Chunks </td></tr>\n",
       "    <tr><th> Type </th><td> float32 </td><td> xarray.DataArray </td></tr>\n",
       "  </tbody></table>\n",
       "</td>\n",
       "<td>\n",
       "<svg width=\"513\" height=\"115\" style=\"stroke:rgb(0,0,0);stroke-width:1\" >\n",
       "\n",
       "  <!-- Horizontal lines -->\n",
       "  <line x1=\"0\" y1=\"0\" x2=\"120\" y2=\"0\" style=\"stroke-width:2\" />\n",
       "  <line x1=\"0\" y1=\"25\" x2=\"120\" y2=\"25\" style=\"stroke-width:2\" />\n",
       "\n",
       "  <!-- Vertical lines -->\n",
       "  <line x1=\"0\" y1=\"0\" x2=\"0\" y2=\"25\" style=\"stroke-width:2\" />\n",
       "  <line x1=\"33\" y1=\"0\" x2=\"33\" y2=\"25\" />\n",
       "  <line x1=\"66\" y1=\"0\" x2=\"66\" y2=\"25\" />\n",
       "  <line x1=\"100\" y1=\"0\" x2=\"100\" y2=\"25\" />\n",
       "  <line x1=\"120\" y1=\"0\" x2=\"120\" y2=\"25\" style=\"stroke-width:2\" />\n",
       "\n",
       "  <!-- Colored Rectangle -->\n",
       "  <polygon points=\"0.000000,0.000000 120.000000,0.000000 120.000000,25.412617 0.000000,25.412617\" style=\"fill:#ECB172A0;stroke-width:0\"/>\n",
       "\n",
       "  <!-- Text -->\n",
       "  <text x=\"60.000000\" y=\"45.412617\" font-size=\"1.0rem\" font-weight=\"100\" text-anchor=\"middle\" >180</text>\n",
       "  <text x=\"140.000000\" y=\"12.706308\" font-size=\"1.0rem\" font-weight=\"100\" text-anchor=\"middle\" transform=\"rotate(0,140.000000,12.706308)\">1</text>\n",
       "\n",
       "\n",
       "  <!-- Horizontal lines -->\n",
       "  <line x1=\"190\" y1=\"0\" x2=\"213\" y2=\"23\" style=\"stroke-width:2\" />\n",
       "  <line x1=\"190\" y1=\"42\" x2=\"213\" y2=\"65\" style=\"stroke-width:2\" />\n",
       "\n",
       "  <!-- Vertical lines -->\n",
       "  <line x1=\"190\" y1=\"0\" x2=\"190\" y2=\"42\" style=\"stroke-width:2\" />\n",
       "  <line x1=\"213\" y1=\"23\" x2=\"213\" y2=\"65\" style=\"stroke-width:2\" />\n",
       "\n",
       "  <!-- Colored Rectangle -->\n",
       "  <polygon points=\"190.000000,0.000000 213.042516,23.042516 213.042516,65.678062 190.000000,42.635546\" style=\"fill:#ECB172A0;stroke-width:0\"/>\n",
       "\n",
       "  <!-- Horizontal lines -->\n",
       "  <line x1=\"190\" y1=\"0\" x2=\"250\" y2=\"0\" style=\"stroke-width:2\" />\n",
       "  <line x1=\"213\" y1=\"23\" x2=\"273\" y2=\"23\" style=\"stroke-width:2\" />\n",
       "\n",
       "  <!-- Vertical lines -->\n",
       "  <line x1=\"190\" y1=\"0\" x2=\"213\" y2=\"23\" style=\"stroke-width:2\" />\n",
       "  <line x1=\"223\" y1=\"0\" x2=\"246\" y2=\"23\" />\n",
       "  <line x1=\"250\" y1=\"0\" x2=\"273\" y2=\"23\" style=\"stroke-width:2\" />\n",
       "\n",
       "  <!-- Colored Rectangle -->\n",
       "  <polygon points=\"190.000000,0.000000 250.666667,0.000000 273.709183,23.042516 213.042516,23.042516\" style=\"fill:#ECB172A0;stroke-width:0\"/>\n",
       "\n",
       "  <!-- Horizontal lines -->\n",
       "  <line x1=\"213\" y1=\"23\" x2=\"273\" y2=\"23\" style=\"stroke-width:2\" />\n",
       "  <line x1=\"213\" y1=\"65\" x2=\"273\" y2=\"65\" style=\"stroke-width:2\" />\n",
       "\n",
       "  <!-- Vertical lines -->\n",
       "  <line x1=\"213\" y1=\"23\" x2=\"213\" y2=\"65\" style=\"stroke-width:2\" />\n",
       "  <line x1=\"246\" y1=\"23\" x2=\"246\" y2=\"65\" />\n",
       "  <line x1=\"273\" y1=\"23\" x2=\"273\" y2=\"65\" style=\"stroke-width:2\" />\n",
       "\n",
       "  <!-- Colored Rectangle -->\n",
       "  <polygon points=\"213.042516,23.042516 273.709183,23.042516 273.709183,65.678062 213.042516,65.678062\" style=\"fill:#ECB172A0;stroke-width:0\"/>\n",
       "\n",
       "  <!-- Text -->\n",
       "  <text x=\"243.375850\" y=\"85.678062\" font-size=\"1.0rem\" font-weight=\"100\" text-anchor=\"middle\" >91</text>\n",
       "  <text x=\"293.709183\" y=\"44.360289\" font-size=\"1.0rem\" font-weight=\"100\" text-anchor=\"middle\" transform=\"rotate(0,293.709183,44.360289)\">42</text>\n",
       "  <text x=\"191.521258\" y=\"74.156804\" font-size=\"1.0rem\" font-weight=\"100\" text-anchor=\"middle\" transform=\"rotate(45,191.521258,74.156804)\">20</text>\n",
       "</svg>\n",
       "</td>\n",
       "</tr>\n",
       "</table>"
      ],
      "text/plain": [
       "dask.array<array, shape=(180, 20, 42, 91), dtype=float32, chunksize=(50, 20, 42, 50)>"
      ]
     },
     "execution_count": 23,
     "metadata": {},
     "output_type": "execute_result"
    }
   ],
   "source": [
    "test"
   ]
  },
  {
   "cell_type": "code",
   "execution_count": 5,
   "metadata": {},
   "outputs": [],
   "source": [
    "import dask as da\n",
    "import dask.array as dsa"
   ]
  },
  {
   "cell_type": "code",
   "execution_count": 6,
   "metadata": {},
   "outputs": [
    {
     "data": {
      "text/html": [
       "<table style=\"border: 2px solid white;\">\n",
       "<tr>\n",
       "<td style=\"vertical-align: top; border: 0px solid white\">\n",
       "<h3 style=\"text-align: left;\">Client</h3>\n",
       "<ul style=\"text-align: left; list-style: none; margin: 0; padding: 0;\">\n",
       "  <li><b>Scheduler: </b>tcp://127.0.0.1:36963</li>\n",
       "  <li><b>Dashboard: </b><a href='/user/0000-0001-5324-8593/proxy/8787/status' target='_blank'>/user/0000-0001-5324-8593/proxy/8787/status</a>\n",
       "</ul>\n",
       "</td>\n",
       "<td style=\"vertical-align: top; border: 0px solid white\">\n",
       "<h3 style=\"text-align: left;\">Cluster</h3>\n",
       "<ul style=\"text-align: left; list-style:none; margin: 0; padding: 0;\">\n",
       "  <li><b>Workers: </b>10</li>\n",
       "  <li><b>Cores: </b>20</li>\n",
       "  <li><b>Memory: </b>109.84 GB</li>\n",
       "</ul>\n",
       "</td>\n",
       "</tr>\n",
       "</table>"
      ],
      "text/plain": [
       "<Client: scheduler='tcp://127.0.0.1:36963' processes=10 cores=20>"
      ]
     },
     "execution_count": 6,
     "metadata": {},
     "output_type": "execute_result"
    }
   ],
   "source": [
    "from dask.distributed import Client, LocalCluster, progress\n",
    "cluster = LocalCluster(n_workers=10)#, threads_per_worker=8, pi='*')\n",
    "client = Client(cluster)\n",
    "client"
   ]
  },
  {
   "cell_type": "code",
   "execution_count": null,
   "metadata": {},
   "outputs": [],
   "source": [
    "%%time\n",
    "d_iso24 = np.empty([42,91,168])\n",
    "xnew = 24\n",
    "#start = timer()\n",
    "for i in range(168):\n",
    "    for j in range(42):\n",
    "        for k in range(91):\n",
    "            x = test[i,:,j,k]\n",
    "            y = argo['lev'][0:20]\n",
    "            f = interpolate.interp1d(x,y,'linear')\n",
    "            d_iso24[j,k,i] = f(xnew)\n",
    "    #end = timer()\n",
    "    #print (end - start)"
   ]
  },
  {
   "cell_type": "code",
   "execution_count": null,
   "metadata": {},
   "outputs": [],
   "source": [
    "%%time\n",
    "d_iso24 = np.empty([42,91,168])\n",
    "xnew = 24\n",
    "#start = timer()\n",
    "for i in range(1):\n",
    "    for j in range(42):\n",
    "        for k in range(91):\n",
    "            x = test[i,:,j,k]\n",
    "            y = argo['lev'][0:20]\n",
    "            f = interpolate.interp1d(x,y,'linear')\n",
    "            d_iso24[j,k,i] = f(xnew)\n",
    "    #end = timer()\n",
    "    #print (end - start)"
   ]
  },
  {
   "cell_type": "code",
   "execution_count": 1,
   "metadata": {},
   "outputs": [
    {
     "ename": "NameError",
     "evalue": "name 'test' is not defined",
     "output_type": "error",
     "traceback": [
      "\u001b[0;31m---------------------------------------------------------------------------\u001b[0m",
      "\u001b[0;31mNameError\u001b[0m                                 Traceback (most recent call last)",
      "\u001b[0;32m<ipython-input-1-4e1243bd22c6>\u001b[0m in \u001b[0;36m<module>\u001b[0;34m\u001b[0m\n\u001b[0;32m----> 1\u001b[0;31m \u001b[0mtest\u001b[0m\u001b[0;34m\u001b[0m\u001b[0;34m\u001b[0m\u001b[0m\n\u001b[0m",
      "\u001b[0;31mNameError\u001b[0m: name 'test' is not defined"
     ]
    }
   ],
   "source": [
    "test"
   ]
  },
  {
   "cell_type": "code",
   "execution_count": null,
   "metadata": {},
   "outputs": [],
   "source": [
    "#plt.imshow(d_iso24[:, :, 50].T)\n",
    "plt.contour(argo_t.lon, argo_t.lat, d_iso24[:, :, 50], colors='k')\n",
    "plt.contourf(argo_t.lon, argo_t.lat, d_iso24[:, :, 50])\n",
    "plt.colorbar()"
   ]
  },
  {
   "cell_type": "code",
   "execution_count": null,
   "metadata": {},
   "outputs": [],
   "source": [
    "plt.imshow(s24[:,:,25],cmap = 'coolwarm')"
   ]
  },
  {
   "cell_type": "code",
   "execution_count": null,
   "metadata": {},
   "outputs": [],
   "source": [
    "salt24 = xr.Dataset(data_vars = {'salt':(['LATITUDE','LONGITUDE','TIME'],s24)},\n",
    "                    coords = {'LATITUDE':a['LATITUDE'],\n",
    "                              'LONGITUDE':a['LONGITUDE'],\n",
    "                              'TIME':pn.date_range(start='1/1/2005', end='12/1/2018', freq='MS')})\n",
    "salt24.to_netcdf('argo_salinity_24sig')"
   ]
  },
  {
   "cell_type": "code",
   "execution_count": null,
   "metadata": {},
   "outputs": [],
   "source": [
    "d20 = xr.Dataset(data_vars = {'depth':(['LATITUDE','LONGITUDE','TIME'],d20)},\n",
    "                    coords = {'LATITUDE':a['LATITUDE'],\n",
    "                              'LONGITUDE':a['LONGITUDE'],\n",
    "                              'TIME':pn.date_range(start='1/1/2005', end='12/1/2018', freq='MS')})\n",
    "d20.to_netcdf('argo_depth_of_20C')"
   ]
  },
  {
   "cell_type": "code",
   "execution_count": null,
   "metadata": {},
   "outputs": [],
   "source": [
    "i=0\n",
    "j=7\n",
    "from timeit import default_timer as timer\n",
    "start = timer()\n",
    "for k in range(91):\n",
    "    x = argo_rho['PDEN'][i,:,j,k]\n",
    "    if min(x) > 24:\n",
    "        continue\n",
    "    else:\n",
    "        y = argo_s['SALT'][i,:,j,k]\n",
    "        f = interpolate.interp1d(x,y,'linear')\n",
    "        s24[j,k,i] = f(xnew)\n",
    "        \n",
    "end = timer()\n",
    "print (end - start)"
   ]
  },
  {
   "cell_type": "code",
   "execution_count": null,
   "metadata": {},
   "outputs": [],
   "source": [
    "argo_t"
   ]
  },
  {
   "cell_type": "code",
   "execution_count": null,
   "metadata": {},
   "outputs": [],
   "source": []
  },
  {
   "cell_type": "code",
   "execution_count": null,
   "metadata": {},
   "outputs": [],
   "source": [
    "argo_rho['PDEN'][0,:,:,:].min(axis = 0)"
   ]
  },
  {
   "cell_type": "code",
   "execution_count": null,
   "metadata": {},
   "outputs": [],
   "source": [
    "argo_rho"
   ]
  },
  {
   "cell_type": "code",
   "execution_count": null,
   "metadata": {},
   "outputs": [],
   "source": [
    "if min(x) > 24:\n",
    "    print('yes')"
   ]
  },
  {
   "cell_type": "code",
   "execution_count": null,
   "metadata": {},
   "outputs": [],
   "source": [
    "test_s = argo_s[40,:,30,60]\n",
    "test_rho = argo_rho[40,:,30,60]"
   ]
  },
  {
   "cell_type": "code",
   "execution_count": null,
   "metadata": {},
   "outputs": [],
   "source": [
    "from scipy import interpolate\n",
    "x = test_rho\n",
    "y = test_s\n",
    "f = interpolate.interp1d(x, y,'linear')\n",
    "f2 = interpolate.interp1d(x,y, 'cubic')\n",
    "f3 = interpolate.interp1d(x,y, 'nearest')"
   ]
  },
  {
   "cell_type": "code",
   "execution_count": null,
   "metadata": {},
   "outputs": [],
   "source": [
    "xnew = [24]\n",
    "ynew = f(xnew)   # use interpolation function returned by `interp1d`\n",
    "ynew2 = f2(xnew)\n",
    "ynew3 = f3(xnew)\n",
    "plt.plot(x, y, '-', xnew, ynew, '.',xnew,ynew2,'.',xnew,ynew3,'.')\n",
    "plt.show()"
   ]
  },
  {
   "cell_type": "code",
   "execution_count": null,
   "metadata": {},
   "outputs": [],
   "source": [
    "ynew"
   ]
  },
  {
   "cell_type": "code",
   "execution_count": null,
   "metadata": {},
   "outputs": [],
   "source": [
    "ynew2"
   ]
  },
  {
   "cell_type": "code",
   "execution_count": null,
   "metadata": {},
   "outputs": [],
   "source": [
    "ynew3"
   ]
  },
  {
   "cell_type": "code",
   "execution_count": null,
   "metadata": {},
   "outputs": [],
   "source": [
    "salt24['LATITUDE'][25:36] #-15.5 to -5.5\n",
    "salt24['LONGITUDE'][10:81] #50.5E to 120.5E\n",
    "salt24"
   ]
  },
  {
   "cell_type": "code",
   "execution_count": null,
   "metadata": {},
   "outputs": [],
   "source": [
    "# record the minimum salinity value at each longitude and its latitude (and depth later) monthly\n",
    "\n",
    "MINS = np.empty([11,71,168])\n",
    "LOCS = np.empty([11,71,168])\n",
    "for i in range(168):\n",
    "    k=0\n",
    "    for j in range(10,81):\n",
    "        minimum = ((salt24['salt'][25:36,j,i]*10).round()/10).min()\n",
    "        locations = np.where((salt24['salt'][25:36,j,i]*10).round()/10==((salt24['salt'][25:36,j,i]*10).round()/10).min())\n",
    "        MINS[locations,k,i]=minimum\n",
    "        k=k+1"
   ]
  },
  {
   "cell_type": "code",
   "execution_count": null,
   "metadata": {},
   "outputs": [],
   "source": [
    "plt.imshow(MINS[:,:,10])"
   ]
  },
  {
   "cell_type": "code",
   "execution_count": null,
   "metadata": {},
   "outputs": [],
   "source": [
    "MINS_h = np.empty([11,71,168])\n",
    "LOCS = np.empty([11,71,168])\n",
    "for i in range(168):\n",
    "    k=0\n",
    "    for j in range(10,81):\n",
    "        minimum = ((salt24['salt'][25:36,j,i]*100).round()/100).min()\n",
    "        locations = np.where((salt24['salt'][25:36,j,i]*100).round()/100==((salt24['salt'][25:36,j,i]*100).round()/100).min())\n",
    "        MINS_h[locations,k,i]=minimum\n",
    "        k=k+1"
   ]
  },
  {
   "cell_type": "code",
   "execution_count": null,
   "metadata": {},
   "outputs": [],
   "source": [
    "plt.imshow(MINS_h[:,:,10])"
   ]
  },
  {
   "cell_type": "code",
   "execution_count": null,
   "metadata": {},
   "outputs": [],
   "source": [
    "MINS_h[np.where(MINS_h<10)]=np.nan\n",
    "plt.imshow(MINS_h[:,:,10])"
   ]
  },
  {
   "cell_type": "code",
   "execution_count": null,
   "metadata": {},
   "outputs": [],
   "source": [
    "MINS_L_hov=np.empty([12,71,168])\n",
    "for k in range(168):\n",
    "    for j in range(71):\n",
    "        for i in range(11):\n",
    "            if MINS_h[i,j,k]>10:\n",
    "                MINS_L_hov[i,j,k]=salt24['LATITUDE'][i+25]"
   ]
  },
  {
   "cell_type": "code",
   "execution_count": null,
   "metadata": {},
   "outputs": [],
   "source": [
    "MINS_L_hov[np.where(MINS_L_hov>-2)]=np.nan\n",
    "plt.imshow(MINS_L_hov[:,:,10])"
   ]
  },
  {
   "cell_type": "code",
   "execution_count": null,
   "metadata": {},
   "outputs": [],
   "source": [
    "MINS_L_hovm = np.nanmean(MINS_L_hov,axis=0)\n",
    "np.shape(MINS_L_hovm)"
   ]
  },
  {
   "cell_type": "code",
   "execution_count": null,
   "metadata": {},
   "outputs": [],
   "source": [
    "MINS_h_hov=np.empty([12,71,168])\n",
    "for k in range(168):\n",
    "    for j in range(71):\n",
    "        for i in range(11):\n",
    "            if MINS_h[i,j,k]>10:\n",
    "                MINS_h_hov[i,j,k]=salt24['salt'][i+25,j+10,k]\n",
    "                MINS_h_hov[i-1,j,k]=salt24['salt'][i-1+25,j+10,k]\n",
    "                MINS_h_hov[i+1,j,k]=salt24['salt'][i+1+25,j+10,k]"
   ]
  },
  {
   "cell_type": "code",
   "execution_count": null,
   "metadata": {},
   "outputs": [],
   "source": [
    "MINS_h_hov[np.where(MINS_h_hov<10)]=np.nan\n",
    "plt.imshow(MINS_h_hov[:,:,10])\n",
    "MINS_h[:,60,10]\n",
    "#SOMETIMES it is only 2 boxes instead of 3 because there is LAND (nan) on the other side of the min box"
   ]
  },
  {
   "cell_type": "code",
   "execution_count": null,
   "metadata": {},
   "outputs": [],
   "source": [
    "MINS_h_hovm = np.nanmean(MINS_h_hov,axis=0)\n",
    "np.shape(MINS_h_hovm)"
   ]
  },
  {
   "cell_type": "code",
   "execution_count": null,
   "metadata": {},
   "outputs": [],
   "source": [
    "plt.imshow(MINS_h_hovm)"
   ]
  },
  {
   "cell_type": "code",
   "execution_count": null,
   "metadata": {},
   "outputs": [],
   "source": [
    "from datetime import datetime as dt\n",
    "import time\n",
    "\n",
    "def toYearFraction(date):\n",
    "    def sinceEpoch(date): # returns seconds since epoch\n",
    "        return time.mktime(date.timetuple())\n",
    "    s = sinceEpoch\n",
    "\n",
    "    year = date.year\n",
    "    startOfThisYear = dt(year=year, month=1, day=1)\n",
    "    startOfNextYear = dt(year=year+1, month=1, day=1)\n",
    "\n",
    "    yearElapsed = s(date) - s(startOfThisYear)\n",
    "    yearDuration = s(startOfNextYear) - s(startOfThisYear)\n",
    "    fraction = yearElapsed/yearDuration\n",
    "\n",
    "    return date.year + fraction"
   ]
  },
  {
   "cell_type": "code",
   "execution_count": null,
   "metadata": {},
   "outputs": [],
   "source": [
    "a=(pn.date_range(start='1/1/2005', end='12/1/2018', freq='MS'))\n",
    "c=[]\n",
    "for x in a:\n",
    "    b=toYearFraction(x)\n",
    "    c=np.append(c,b)\n",
    "len(c)"
   ]
  },
  {
   "cell_type": "code",
   "execution_count": null,
   "metadata": {},
   "outputs": [],
   "source": [
    "fig5, ax5 = plt.subplots(nrows=1,ncols=1,figsize=(10,12))\n",
    "C1 = ax5.contourf(salt24['LONGITUDE'][10:81],c,MINS_h_hovm.T,levels = np.arange(34.3,35.5,0.1),cmap='coolwarm')\n",
    "ax5.set_yticks([2005,2006,2007,2008,2009,\n",
    "                2010,2011,2012,2013,2014,2015,2016,2017,2018])\n",
    "    # Put a custom label on the y axis\n",
    "plt.xlabel('Longitude')\n",
    "\n",
    "    # Stop matplotlib providing clever axes range padding\n",
    "plt.axis('tight')\n",
    "plt.grid()\n",
    "plt.colorbar(C1)\n",
    "    # As we are plotting annual variability, put years as the y ticks\n",
    "#plt.gca().yaxis.set_major_locator(mdates.YearLocator())\n",
    "\n",
    "    # And format the ticks to just show the year\n",
    "#plt.gca().yaxis.set_major_formatter(mdates.DateFormatter('%Y'))\n",
    "\n",
    "plt.show()"
   ]
  },
  {
   "cell_type": "code",
   "execution_count": null,
   "metadata": {},
   "outputs": [],
   "source": [
    "fig5, ax5 = plt.subplots(nrows=1,ncols=1,figsize=(10,12))\n",
    "C1 = ax5.contourf(salt24['LONGITUDE'][10:81],c,MINS_L_hovm.T,levels = np.arange(-15.5,-4.5,1),cmap='coolwarm')\n",
    "ax5.set_yticks([2005,2006,2007,2008,2009,\n",
    "                2010,2011,2012,2013,2014,2015,2016,2017,2018])\n",
    "    # Put a custom label on the y axis\n",
    "plt.xlabel('Longitude')\n",
    "\n",
    "    # Stop matplotlib providing clever axes range padding\n",
    "plt.axis('tight')\n",
    "plt.grid()\n",
    "plt.colorbar(C1)\n",
    "    # As we are plotting annual variability, put years as the y ticks\n",
    "#plt.gca().yaxis.set_major_locator(mdates.YearLocator())\n",
    "\n",
    "    # And format the ticks to just show the year\n",
    "#plt.gca().yaxis.set_major_formatter(mdates.DateFormatter('%Y'))\n",
    "\n",
    "plt.show()"
   ]
  },
  {
   "cell_type": "code",
   "execution_count": null,
   "metadata": {},
   "outputs": [],
   "source": [
    "HOVS = xr.Dataset(data_vars = {'salt':(['LONGITUDE','TIME'],MINS_h_hovm),\n",
    "                              'lat':(['LONGITUDE','TIME'],MINS_L_hovm)},\n",
    "                    coords = {'LONGITUDE':salt24['LONGITUDE'][10:81],\n",
    "                              'TIME':pn.date_range(start='1/1/2005', end='12/1/2018', freq='MS')})\n",
    "HOVS"
   ]
  },
  {
   "cell_type": "code",
   "execution_count": null,
   "metadata": {},
   "outputs": [],
   "source": [
    "salt24clim = HOVS['salt'].groupby('TIME.month').mean('TIME')\n",
    "lat24clim = HOVS['lat'].groupby('TIME.month').mean('TIME')"
   ]
  },
  {
   "cell_type": "code",
   "execution_count": null,
   "metadata": {},
   "outputs": [],
   "source": [
    "fig5, ax5 = plt.subplots(nrows=1,ncols=1,figsize=(10,5))\n",
    "C1 = ax5.contourf(salt24['LONGITUDE'][10:81],np.arange(1,13),salt24clim.T,levels = np.arange(34.3,35.5,.1),cmap='coolwarm')\n",
    "ax5.set_yticks(np.arange(1,13))\n",
    "    # Put a custom label on the y axis\n",
    "plt.xlabel('Longitude')\n",
    "\n",
    "    # Stop matplotlib providing clever axes range padding\n",
    "plt.axis('tight')\n",
    "plt.grid()\n",
    "plt.colorbar(C1)\n",
    "    # As we are plotting annual variability, put years as the y ticks\n",
    "#plt.gca().yaxis.set_major_locator(mdates.YearLocator())\n",
    "\n",
    "    # And format the ticks to just show the year\n",
    "#plt.gca().yaxis.set_major_formatter(mdates.DateFormatter('%Y'))\n",
    "\n",
    "plt.show()"
   ]
  },
  {
   "cell_type": "code",
   "execution_count": null,
   "metadata": {},
   "outputs": [],
   "source": [
    "fig5, ax5 = plt.subplots(nrows=1,ncols=1,figsize=(10,5))\n",
    "C1 = ax5.contourf(salt24['LONGITUDE'][10:81],np.arange(1,13),lat24clim.T,levels = np.arange(-15.5,-5.5,1),cmap='coolwarm')\n",
    "ax5.set_yticks(np.arange(1,13))\n",
    "    # Put a custom label on the y axis\n",
    "plt.xlabel('Longitude')\n",
    "\n",
    "    # Stop matplotlib providing clever axes range padding\n",
    "plt.axis('tight')\n",
    "plt.grid()\n",
    "plt.colorbar(C1)\n",
    "    # As we are plotting annual variability, put years as the y ticks\n",
    "#plt.gca().yaxis.set_major_locator(mdates.YearLocator())\n",
    "\n",
    "    # And format the ticks to just show the year\n",
    "#plt.gca().yaxis.set_major_formatter(mdates.DateFormatter('%Y'))\n",
    "\n",
    "plt.show()"
   ]
  },
  {
   "cell_type": "code",
   "execution_count": null,
   "metadata": {},
   "outputs": [],
   "source": [
    "def moving_average(a, n) :\n",
    "    ret = np.nancumsum(a, dtype=float)\n",
    "    ret[n:] = ret[n:] - ret[:-n]\n",
    "    return ret[n - 1:] / n"
   ]
  },
  {
   "cell_type": "code",
   "execution_count": null,
   "metadata": {},
   "outputs": [],
   "source": [
    "HOV13 = np.empty([71,157])\n",
    "for i in range(71):\n",
    "    HOV13[i,:]=moving_average(MINS_h_hovm[i,:],12)"
   ]
  },
  {
   "cell_type": "code",
   "execution_count": null,
   "metadata": {},
   "outputs": [],
   "source": [
    "HOV_clim = HOVS['salt'].groupby('TIME.month').mean('TIME')\n",
    "HOV_a = HOVS['salt'].groupby('TIME.month') - HOV_clim"
   ]
  },
  {
   "cell_type": "code",
   "execution_count": null,
   "metadata": {},
   "outputs": [],
   "source": [
    "HOV13a = HOV13-np.nanmean(HOV13,0)\n",
    "np.shape(HOV13a)"
   ]
  },
  {
   "cell_type": "code",
   "execution_count": null,
   "metadata": {},
   "outputs": [],
   "source": [
    "a['LONGITUDE']"
   ]
  },
  {
   "cell_type": "code",
   "execution_count": null,
   "metadata": {},
   "outputs": [],
   "source": [
    "fig5, ax5 = plt.subplots(nrows=1,ncols=1,figsize=(10,12))\n",
    "C1 = ax5.contourf(salt24['LONGITUDE'][10:81],c,HOV_a.T,levels = np.arange(-0.5,0.6,0.08),cmap='seismic')\n",
    "ax5.set_yticks([2005,2006,2007,2008,2009,\n",
    "                2010,2011,2012,2013,2014,2015,2016,2017,2018])\n",
    "    # Put a custom label on the y axis\n",
    "plt.xlabel('Longitude')\n",
    "\n",
    "    # Stop matplotlib providing clever axes range padding\n",
    "plt.axis('tight')\n",
    "plt.grid()\n",
    "plt.colorbar(C1)\n",
    "    # As we are plotting annual variability, put years as the y ticks\n",
    "#plt.gca().yaxis.set_major_locator(mdates.YearLocator())\n",
    "\n",
    "    # And format the ticks to just show the year\n",
    "#plt.gca().yaxis.set_major_formatter(mdates.DateFormatter('%Y'))\n",
    "\n",
    "plt.show()"
   ]
  },
  {
   "cell_type": "code",
   "execution_count": null,
   "metadata": {},
   "outputs": [],
   "source": [
    "HOV3a = np.empty([71,166])\n",
    "for i in range(71):\n",
    "    HOV3a[i,:]=moving_average(HOV_a[i,:],3)"
   ]
  },
  {
   "cell_type": "code",
   "execution_count": null,
   "metadata": {},
   "outputs": [],
   "source": [
    "fig5, ax5 = plt.subplots(nrows=1,ncols=1,figsize=(10,12))\n",
    "C1 = ax5.contourf(salt24['LONGITUDE'][10:81],c[1:-1],HOV3a.T,levels = [-0.5 , -0.45, -0.4 , -0.35, -0.3 , -0.25, -0.2 , -0.15, 0.1 , 0.15, 0.2 , 0.25, 0.3 , 0.35, 0.4 , 0.45, 0.5],cmap='seismic')\n",
    "ax5.set_yticks([2005,2006,2007,2008,2009,\n",
    "                2010,2011,2012,2013,2014,2015,2016,2017,2018])\n",
    "    # Put a custom label on the y axis\n",
    "plt.xlabel('Longitude')\n",
    "\n",
    "    # Stop matplotlib providing clever axes range padding\n",
    "plt.axis('tight')\n",
    "plt.grid()\n",
    "plt.colorbar(C1)\n",
    "    # As we are plotting annual variability, put years as the y ticks\n",
    "#plt.gca().yaxis.set_major_locator(mdates.YearLocator())\n",
    "\n",
    "    # And format the ticks to just show the year\n",
    "#plt.gca().yaxis.set_major_formatter(mdates.DateFormatter('%Y'))\n",
    "\n",
    "plt.show()"
   ]
  },
  {
   "cell_type": "code",
   "execution_count": null,
   "metadata": {},
   "outputs": [],
   "source": [
    "[np.arange(-0.5,-0.1,0.05),np.arange(0.1,0.6,0.05)]"
   ]
  },
  {
   "cell_type": "code",
   "execution_count": null,
   "metadata": {},
   "outputs": [],
   "source": [
    "salt24clim = salt24['salt'].groupby('TIME.month').mean('TIME')\n",
    "d20clim = d20['depth'].groupby('TIME.month').mean('TIME')"
   ]
  },
  {
   "cell_type": "code",
   "execution_count": null,
   "metadata": {},
   "outputs": [],
   "source": [
    "np.shape(salt24clim)"
   ]
  },
  {
   "cell_type": "code",
   "execution_count": null,
   "metadata": {},
   "outputs": [],
   "source": [
    "DJFs = np.nanmean(salt24clim[:,:,[11,0,1]],axis=2)\n",
    "DJFd = np.nanmean(d20clim[:,:,[11,0,1]],axis=2)\n",
    "MAMs = np.nanmean(salt24clim[:,:,2:5],axis=2)\n",
    "MAMd = np.nanmean(d20clim[:,:,2:5],axis=2)\n",
    "JJAs = np.nanmean(salt24clim[:,:,5:8],axis=2)\n",
    "JJAd = np.nanmean(d20clim[:,:,5:8],axis=2)\n",
    "SONs = np.nanmean(salt24clim[:,:,8:11],axis=2)\n",
    "SONd = np.nanmean(d20clim[:,:,8:11],axis=2)"
   ]
  },
  {
   "cell_type": "code",
   "execution_count": null,
   "metadata": {},
   "outputs": [],
   "source": [
    "title = ['DJF','MAM','JJA','SON']\n",
    "proj = ccrs.PlateCarree()\n",
    "fig, axes = plt.subplots(nrows=2, ncols=2, figsize=(15,5), sharex='col', sharey='row',subplot_kw=dict(projection=proj))\n",
    "C = axes[0,0].contourf(salt24['LONGITUDE'],salt24['LATITUDE'],DJFs[:,:],levels = np.arange(34.3,35.6,0.1), cmap = 'coolwarm')\n",
    "axes[0,0].contour(salt24['LONGITUDE'],salt24['LATITUDE'],DJFd[:,:],levels = np.arange(80,150,10),colors = 'k',linewidths = 0.5)\n",
    "axes[0,0].set_ylim(-20,0)\n",
    "axes[0,0].set_xlim(40,130)\n",
    "axes[0,0].coastlines()\n",
    "axes[0,0].set_xticks(np.arange(40,140,10), crs=ccrs.PlateCarree())\n",
    "axes[0,0].set_yticks(np.arange(-20,5,5), crs=ccrs.PlateCarree())\n",
    "lon_formatter = LongitudeFormatter(zero_direction_label=True)\n",
    "lat_formatter = LatitudeFormatter()\n",
    "axes[0,0].xaxis.set_major_formatter(lon_formatter)\n",
    "axes[0,0].yaxis.set_major_formatter(lat_formatter)\n",
    "#axes2[i,j].invert_yaxis()\n",
    "#axes2[i,j].clabel(C,np.arange(-25,25,2),fmt='%3.0f')\n",
    "axes[0,0].set_title('DJF', fontsize=14)\n",
    "axes[0,0].clabel(C,colors = 'k')\n",
    "\n",
    "C = axes[0,1].contourf(salt24['LONGITUDE'],salt24['LATITUDE'],MAMs[:,:],levels = np.arange(34.3,35.6,0.1), cmap = 'coolwarm')\n",
    "axes[0,1].contour(salt24['LONGITUDE'],salt24['LATITUDE'],MAMd[:,:],levels = np.arange(80,150,10),colors = 'k',linewidths = 0.5)\n",
    "axes[0,1].set_ylim(-20,0)\n",
    "axes[0,1].set_xlim(40,120)\n",
    "axes[0,1].coastlines()\n",
    "axes[0,1].set_xticks(np.arange(40,130,10), crs=ccrs.PlateCarree())\n",
    "axes[0,1].set_yticks(np.arange(-20,5,5), crs=ccrs.PlateCarree())\n",
    "lon_formatter = LongitudeFormatter(zero_direction_label=True)\n",
    "lat_formatter = LatitudeFormatter()\n",
    "axes[0,1].xaxis.set_major_formatter(lon_formatter)\n",
    "axes[0,1].yaxis.set_major_formatter(lat_formatter)\n",
    "#axes2[i,j].invert_yaxis()\n",
    "#axes2[i,j].clabel(C,np.arange(-25,25,2),fmt='%3.0f')\n",
    "axes[0,1].set_title('MAM', fontsize=14)\n",
    "        #k= k+1\n",
    "#fig.subplots_adjust(right=0.8,hspace =0.4)\n",
    "#cbar_ax = fig.add_axes([0.85, 0.15, 0.05, 0.7])\n",
    "#fig.colorbar(C, cax=cbar_ax)\n",
    "#fig.suptitle('95E',fontsize=16)\n",
    "axes[0,1].clabel(C,colors = 'k')\n",
    "\n",
    "C = axes[1,0].contourf(salt24['LONGITUDE'],salt24['LATITUDE'],JJAs[:,:],levels = np.arange(34.3,35.6,0.1), cmap = 'coolwarm')\n",
    "axes[1,0].contour(salt24['LONGITUDE'],salt24['LATITUDE'],JJAd[:,:],levels = np.arange(70,150,10),colors = 'k',linewidths = 0.5,linestyles = 'dotted')\n",
    "axes[1,0].set_ylim(-20,0)\n",
    "axes[1,0].set_xlim(40,120)\n",
    "axes[1,0].coastlines()\n",
    "axes[1,0].set_xticks(np.arange(40,130,10), crs=ccrs.PlateCarree())\n",
    "axes[1,0].set_yticks(np.arange(-20,5,5), crs=ccrs.PlateCarree())\n",
    "lon_formatter = LongitudeFormatter(zero_direction_label=True)\n",
    "lat_formatter = LatitudeFormatter()\n",
    "axes[1,0].xaxis.set_major_formatter(lon_formatter)\n",
    "axes[1,0].yaxis.set_major_formatter(lat_formatter)\n",
    "#axes2[i,j].invert_yaxis()\n",
    "#axes2[i,j].clabel(C,np.arange(-25,25,2),fmt='%3.0f')\n",
    "axes[1,0].set_title('JJA', fontsize=14)\n",
    "        #k= k+1\n",
    "#fig.subplots_adjust(right=0.8,hspace =0.4)\n",
    "#cbar_ax = fig.add_axes([0.85, 0.15, 0.05, 0.7])\n",
    "#fig.colorbar(C, cax=cbar_ax)\n",
    "#fig.suptitle('95E',fontsize=16)\n",
    "axes[1,0].clabel(C,colors = 'k')\n",
    "\n",
    "C = axes[1,1].contourf(salt24['LONGITUDE'],salt24['LATITUDE'],SONs[:,:],levels = np.arange(34.6,35.6,0.1), cmap = 'coolwarm')\n",
    "axes[1,1].contour(salt24['LONGITUDE'],salt24['LATITUDE'],SONd[:,:],levels = np.arange(70,150,10),colors = 'k',linewidths = 0.5,linestyles = 'dotted')\n",
    "axes[1,1].set_ylim(-20,0)\n",
    "axes[1,1].set_xlim(40,120)\n",
    "axes[1,1].coastlines()\n",
    "axes[1,1].set_xticks(np.arange(40,130,10), crs=ccrs.PlateCarree())\n",
    "axes[1,1].set_yticks(np.arange(-20,5,5), crs=ccrs.PlateCarree())\n",
    "lon_formatter = LongitudeFormatter(zero_direction_label=True)\n",
    "lat_formatter = LatitudeFormatter()\n",
    "axes[1,1].xaxis.set_major_formatter(lon_formatter)\n",
    "axes[1,1].yaxis.set_major_formatter(lat_formatter)\n",
    "#axes2[i,j].invert_yaxis()\n",
    "#axes2[i,j].clabel(C,np.arange(-25,25,2),fmt='%3.0f')\n",
    "axes[1,1].set_title('SON', fontsize=14)\n",
    "        #k= k+1\n",
    "#fig.subplots_adjust(right=0.8,hspace =0.4)\n",
    "#cbar_ax = fig.add_axes([0.85, 0.15, 0.05, 0.7])\n",
    "#fig.colorbar(C, cax=cbar_ax)\n",
    "#fig.suptitle('95E',fontsize=16)\n",
    "axes[1,1].clabel(C,colors = 'k')\n",
    "plt.show()"
   ]
  },
  {
   "cell_type": "code",
   "execution_count": null,
   "metadata": {},
   "outputs": [],
   "source": [
    "title = ['JAN','FEB','MAR','APR','MAY','JUN','JUL','AUG','SEP','OCT','NOV','DEC']\n",
    "proj = ccrs.PlateCarree()\n",
    "fig, axes = plt.subplots(nrows=6, ncols=2, figsize=(15,15), sharex='col', sharey='row',subplot_kw=dict(projection=proj))\n",
    "for i in range(6):\n",
    "    axes[i,0].contourf(salt24['LONGITUDE'],salt24['LATITUDE'],salt24clim[:,:,i],levels = np.arange(34.6,35.6,0.05), cmap = 'coolwarm')\n",
    "    C = axes[i,0].contour(salt24['LONGITUDE'],salt24['LATITUDE'],d20clim[:,:,i],levels = np.arange(80,150,10),colors = 'k',linewidths = 0.5,linestyles = 'dotted')\n",
    "    axes[i,0].contour(salt24['LONGITUDE'],salt24['LATITUDE'],salt24clim[:,:,i],levels = [35], colors = 'k', linewidths = 0.5, linestyles = 'solid')\n",
    "    axes[i,0].set_ylim(-20,0)\n",
    "    axes[i,0].set_xlim(40,130)\n",
    "    axes[i,0].coastlines()\n",
    "    axes[i,0].set_xticks(np.arange(40,140,10), crs=ccrs.PlateCarree())\n",
    "    axes[i,0].set_yticks(np.arange(-20,5,5), crs=ccrs.PlateCarree())\n",
    "    lon_formatter = LongitudeFormatter(zero_direction_label=True)\n",
    "    lat_formatter = LatitudeFormatter()\n",
    "    axes[i,0].xaxis.set_major_formatter(lon_formatter)\n",
    "    axes[i,0].yaxis.set_major_formatter(lat_formatter)\n",
    "    axes[i,0].set_title(title[i], fontsize=14)\n",
    "    axes[i,0].clabel(C,[80,100,120],fmt='%3.0f',colors = 'k')\n",
    "    \n",
    "for i in range(6):\n",
    "    axes[i,1].contourf(salt24['LONGITUDE'],salt24['LATITUDE'],salt24clim[:,:,i+6],levels = np.arange(34.6,35.6,0.05), cmap = 'coolwarm')\n",
    "    C = axes[i,1].contour(salt24['LONGITUDE'],salt24['LATITUDE'],d20clim[:,:,i+6],levels = np.arange(80,150,10),colors = 'k',linewidths = 0.5,linestyles = 'dotted')\n",
    "    axes[i,1].contour(salt24['LONGITUDE'],salt24['LATITUDE'],salt24clim[:,:,i+6],levels = [35], colors = 'k', linewidths = 0.5, linestyles = 'solid')\n",
    "    axes[i,1].set_ylim(-20,0)\n",
    "    axes[i,1].set_xlim(40,130)\n",
    "    axes[i,1].coastlines()\n",
    "    axes[i,1].set_xticks(np.arange(40,140,10), crs=ccrs.PlateCarree())\n",
    "    axes[i,1].set_yticks(np.arange(-20,5,5), crs=ccrs.PlateCarree())\n",
    "    lon_formatter = LongitudeFormatter(zero_direction_label=True)\n",
    "    lat_formatter = LatitudeFormatter()\n",
    "    axes[i,1].xaxis.set_major_formatter(lon_formatter)\n",
    "    axes[i,1].yaxis.set_major_formatter(lat_formatter)\n",
    "    axes[i,1].set_title(title[i+6], fontsize=14)\n",
    "    axes[i,1].clabel(C,[80,100,120],fmt='%3.0f',colors = 'k')\n",
    "    #axes[i,1].add_patch(mpatches.Rectangle(xy=[50, -10], width=35, height=5,\n",
    "                                    #edgecolor='blue',\n",
    "                                    #linewidth=2,\n",
    "                                    #alpha=0.2,\n",
    "                                    #transform=ccrs.PlateCarree()))\n",
    "        \n",
    "        #k= k+1\n",
    "    #fig.subplots_ad\n",
    "plt.show()"
   ]
  },
  {
   "cell_type": "code",
   "execution_count": null,
   "metadata": {},
   "outputs": [],
   "source": [
    "title = ['JAN','FEB','MAR','APR','MAY','JUN','JUL','AUG','SEP','OCT','NOV','DEC']\n",
    "proj = ccrs.PlateCarree()\n",
    "fig, axes = plt.subplots(nrows=1, ncols=1, figsize=(15,15), sharex='col', sharey='row',subplot_kw=dict(projection=proj))\n",
    "axes.contour(salt24['LONGITUDE'],salt24['LATITUDE'],DJFs,levels = [35], colors = 'k', linewidths = 0.5, linestyles = 'solid')\n",
    "axes.contour(salt24['LONGITUDE'],salt24['LATITUDE'],MAMs,levels = [35], colors = 'r', linewidths = 0.5, linestyles = 'solid')\n",
    "axes.contour(salt24['LONGITUDE'],salt24['LATITUDE'],JJAs,levels = [35], colors = 'g', linewidths = 0.5, linestyles = 'solid')\n",
    "axes.contour(salt24['LONGITUDE'],salt24['LATITUDE'],SONs,levels = [35], colors = 'b', linewidths = 0.5, linestyles = 'solid')\n",
    "axes.set_ylim(-20,0)\n",
    "axes.set_xlim(40,130)\n",
    "axes.coastlines()\n",
    "axes.set_xticks(np.arange(40,140,10), crs=ccrs.PlateCarree())\n",
    "axes.set_yticks(np.arange(-20,5,5), crs=ccrs.PlateCarree())\n",
    "lon_formatter = LongitudeFormatter(zero_direction_label=True)\n",
    "lat_formatter = LatitudeFormatter()\n",
    "axes.xaxis.set_major_formatter(lon_formatter)\n",
    "axes.yaxis.set_major_formatter(lat_formatter)\n",
    "#axes.set_title(title[i], fontsize=14)\n",
    "#axes.clabel(C,[80,100,120],fmt='%3.0f',colors = 'k')"
   ]
  },
  {
   "cell_type": "code",
   "execution_count": null,
   "metadata": {},
   "outputs": [],
   "source": [
    "title = ['JAN','FEB','MAR','APR','MAY','JUN','JUL','AUG','SEP','OCT','NOV','DEC']\n",
    "proj = ccrs.PlateCarree()\n",
    "fig, axes = plt.subplots(nrows=1, ncols=1, figsize=(15,15), sharex='col', sharey='row',subplot_kw=dict(projection=proj))\n",
    "axes.contour(salt24['LONGITUDE'],salt24['LATITUDE'],salt24clim[:,:,0],levels = [35], colors = 'pink', linewidths = 0.5, linestyles = 'solid')\n",
    "axes.contour(salt24['LONGITUDE'],salt24['LATITUDE'],salt24clim[:,:,1],levels = [35], colors = 'r', linewidths = 0.5, linestyles = 'solid')\n",
    "axes.contour(salt24['LONGITUDE'],salt24['LATITUDE'],salt24clim[:,:,2],levels = [35], colors = 'orange', linewidths = 0.5, linestyles = 'solid')\n",
    "axes.contour(salt24['LONGITUDE'],salt24['LATITUDE'],salt24clim[:,:,3],levels = [35], colors = 'gold', linewidths = 0.5, linestyles = 'solid')\n",
    "axes.contour(salt24['LONGITUDE'],salt24['LATITUDE'],salt24clim[:,:,4],levels = [35], colors = 'lightgreen', linewidths = 0.5, linestyles = 'solid')\n",
    "axes.contour(salt24['LONGITUDE'],salt24['LATITUDE'],salt24clim[:,:,5],levels = [35], colors = 'forestgreen', linewidths = 0.5, linestyles = 'solid')\n",
    "axes.contour(salt24['LONGITUDE'],salt24['LATITUDE'],salt24clim[:,:,6],levels = [35], colors = 'c', linewidths = 0.5, linestyles = 'solid')\n",
    "axes.contour(salt24['LONGITUDE'],salt24['LATITUDE'],salt24clim[:,:,7],levels = [35], colors = 'b', linewidths = 0.5, linestyles = 'solid')\n",
    "axes.contour(salt24['LONGITUDE'],salt24['LATITUDE'],salt24clim[:,:,8],levels = [35], colors = 'orchid', linewidths = 0.5, linestyles = 'solid')\n",
    "axes.contour(salt24['LONGITUDE'],salt24['LATITUDE'],salt24clim[:,:,9],levels = [35], colors = 'violet', linewidths = 0.5, linestyles = 'solid')\n",
    "axes.contour(salt24['LONGITUDE'],salt24['LATITUDE'],salt24clim[:,:,10],levels = [35], colors = 'brown', linewidths = 0.5, linestyles = 'solid')\n",
    "axes.contour(salt24['LONGITUDE'],salt24['LATITUDE'],salt24clim[:,:,11],levels = [35], colors = 'k', linewidths = 0.5, linestyles = 'solid')\n",
    "axes.set_ylim(-20,0)\n",
    "axes.set_xlim(40,130)\n",
    "axes.coastlines()\n",
    "axes.set_xticks(np.arange(40,140,10), crs=ccrs.PlateCarree())\n",
    "axes.set_yticks(np.arange(-20,5,5), crs=ccrs.PlateCarree())\n",
    "lon_formatter = LongitudeFormatter(zero_direction_label=True)\n",
    "lat_formatter = LatitudeFormatter()\n",
    "axes.xaxis.set_major_formatter(lon_formatter)\n",
    "axes.yaxis.set_major_formatter(lat_formatter)\n",
    "plt.title('35 psu Salinity Contour', fontsize = 14)\n",
    "#axes.legend(['J','F','M','A','M','J','J','A','S','O','N','D'])\n",
    "#axes.set_title(title[i], fontsize=14)\n",
    "#axes.clabel(C,[80,100,120],fmt='%3.0f',colors = 'k')"
   ]
  },
  {
   "cell_type": "code",
   "execution_count": null,
   "metadata": {},
   "outputs": [],
   "source": [
    "title = ['JAN','FEB','MAR','APR','MAY','JUN','JUL','AUG','SEP','OCT','NOV','DEC']\n",
    "proj = ccrs.PlateCarree()\n",
    "fig, axes = plt.subplots(nrows=1, ncols=1, figsize=(15,15), sharex='col', sharey='row',subplot_kw=dict(projection=proj))\n",
    "axes.contour(salt24['LONGITUDE'],salt24['LATITUDE'],salt24clim[:,:,0],levels = [34.8], colors = 'pink', linewidths = 0.5, linestyles = 'solid')\n",
    "axes.contour(salt24['LONGITUDE'],salt24['LATITUDE'],salt24clim[:,:,1],levels = [34.8], colors = 'r', linewidths = 0.5, linestyles = 'solid')\n",
    "axes.contour(salt24['LONGITUDE'],salt24['LATITUDE'],salt24clim[:,:,2],levels = [34.8], colors = 'orange', linewidths = 0.5, linestyles = 'solid')\n",
    "axes.contour(salt24['LONGITUDE'],salt24['LATITUDE'],salt24clim[:,:,3],levels = [34.8], colors = 'gold', linewidths = 0.5, linestyles = 'solid')\n",
    "axes.contour(salt24['LONGITUDE'],salt24['LATITUDE'],salt24clim[:,:,4],levels = [34.8], colors = 'lightgreen', linewidths = 0.5, linestyles = 'solid')\n",
    "axes.contour(salt24['LONGITUDE'],salt24['LATITUDE'],salt24clim[:,:,5],levels = [34.8], colors = 'forestgreen', linewidths = 0.5, linestyles = 'solid')\n",
    "axes.contour(salt24['LONGITUDE'],salt24['LATITUDE'],salt24clim[:,:,6],levels = [34.8], colors = 'c', linewidths = 0.5, linestyles = 'solid')\n",
    "axes.contour(salt24['LONGITUDE'],salt24['LATITUDE'],salt24clim[:,:,7],levels = [34.8], colors = 'b', linewidths = 0.5, linestyles = 'solid')\n",
    "axes.contour(salt24['LONGITUDE'],salt24['LATITUDE'],salt24clim[:,:,8],levels = [34.8], colors = 'orchid', linewidths = 0.5, linestyles = 'solid')\n",
    "axes.contour(salt24['LONGITUDE'],salt24['LATITUDE'],salt24clim[:,:,9],levels = [34.8], colors = 'violet', linewidths = 0.5, linestyles = 'solid')\n",
    "axes.contour(salt24['LONGITUDE'],salt24['LATITUDE'],salt24clim[:,:,10],levels = [34.8], colors = 'brown', linewidths = 0.5, linestyles = 'solid')\n",
    "axes.contour(salt24['LONGITUDE'],salt24['LATITUDE'],salt24clim[:,:,11],levels = [34.8], colors = 'k', linewidths = 0.5, linestyles = 'solid')\n",
    "axes.set_ylim(-20,0)\n",
    "axes.set_xlim(40,130)\n",
    "axes.coastlines()\n",
    "axes.set_xticks(np.arange(40,140,10), crs=ccrs.PlateCarree())\n",
    "axes.set_yticks(np.arange(-20,5,5), crs=ccrs.PlateCarree())\n",
    "lon_formatter = LongitudeFormatter(zero_direction_label=True)\n",
    "lat_formatter = LatitudeFormatter()\n",
    "axes.xaxis.set_major_formatter(lon_formatter)\n",
    "axes.yaxis.set_major_formatter(lat_formatter)\n",
    "plt.title('34.8 psu Salinity Contour', fontsize = 14)\n",
    "#axes.set_title(title[i], fontsize=14)\n",
    "#axes.clabel(C,[80,100,120],fmt='%3.0f',colors = 'k')"
   ]
  },
  {
   "cell_type": "code",
   "execution_count": null,
   "metadata": {},
   "outputs": [],
   "source": [
    "title = ['JAN','FEB','MAR','APR','MAY','JUN','JUL','AUG','SEP','OCT','NOV','DEC']\n",
    "proj = ccrs.PlateCarree()\n",
    "fig, axes = plt.subplots(nrows=1, ncols=1, figsize=(15,15), sharex='col', sharey='row',subplot_kw=dict(projection=proj))\n",
    "axes.contour(salt24['LONGITUDE'],salt24['LATITUDE'],salt24clim[:,:,0],levels = [34.9], colors = 'pink', linewidths = 0.5, linestyles = 'solid')\n",
    "axes.contour(salt24['LONGITUDE'],salt24['LATITUDE'],salt24clim[:,:,1],levels = [34.9], colors = 'r', linewidths = 0.5, linestyles = 'solid')\n",
    "axes.contour(salt24['LONGITUDE'],salt24['LATITUDE'],salt24clim[:,:,2],levels = [34.9], colors = 'orange', linewidths = 0.5, linestyles = 'solid')\n",
    "axes.contour(salt24['LONGITUDE'],salt24['LATITUDE'],salt24clim[:,:,3],levels = [34.9], colors = 'gold', linewidths = 0.5, linestyles = 'solid')\n",
    "axes.contour(salt24['LONGITUDE'],salt24['LATITUDE'],salt24clim[:,:,4],levels = [34.9], colors = 'lightgreen', linewidths = 0.5, linestyles = 'solid')\n",
    "axes.contour(salt24['LONGITUDE'],salt24['LATITUDE'],salt24clim[:,:,5],levels = [34.9], colors = 'forestgreen', linewidths = 0.5, linestyles = 'solid')\n",
    "axes.contour(salt24['LONGITUDE'],salt24['LATITUDE'],salt24clim[:,:,6],levels = [34.9], colors = 'c', linewidths = 0.5, linestyles = 'solid')\n",
    "axes.contour(salt24['LONGITUDE'],salt24['LATITUDE'],salt24clim[:,:,7],levels = [34.9], colors = 'b', linewidths = 0.5, linestyles = 'solid')\n",
    "axes.contour(salt24['LONGITUDE'],salt24['LATITUDE'],salt24clim[:,:,8],levels = [34.9], colors = 'orchid', linewidths = 0.5, linestyles = 'solid')\n",
    "axes.contour(salt24['LONGITUDE'],salt24['LATITUDE'],salt24clim[:,:,9],levels = [34.9], colors = 'violet', linewidths = 0.5, linestyles = 'solid')\n",
    "axes.contour(salt24['LONGITUDE'],salt24['LATITUDE'],salt24clim[:,:,10],levels = [34.9], colors = 'brown', linewidths = 0.5, linestyles = 'solid')\n",
    "axes.contour(salt24['LONGITUDE'],salt24['LATITUDE'],salt24clim[:,:,11],levels = [34.9], colors = 'k', linewidths = 0.5, linestyles = 'solid')\n",
    "axes.set_ylim(-20,0)\n",
    "axes.set_xlim(40,130)\n",
    "axes.coastlines()\n",
    "axes.set_xticks(np.arange(40,140,10), crs=ccrs.PlateCarree())\n",
    "axes.set_yticks(np.arange(-20,5,5), crs=ccrs.PlateCarree())\n",
    "lon_formatter = LongitudeFormatter(zero_direction_label=True)\n",
    "lat_formatter = LatitudeFormatter()\n",
    "axes.xaxis.set_major_formatter(lon_formatter)\n",
    "axes.yaxis.set_major_formatter(lat_formatter)\n",
    "plt.title('34.9 psu Salinity Contour', fontsize = 14)\n",
    "#axes.set_title(title[i], fontsize=14)\n",
    "#axes.clabel(C,[80,100,120],fmt='%3.0f',colors = 'k')"
   ]
  },
  {
   "cell_type": "code",
   "execution_count": null,
   "metadata": {},
   "outputs": [],
   "source": [
    "title = ['JAN','FEB','MAR','APR','MAY','JUN','JUL','AUG','SEP','OCT','NOV','DEC']\n",
    "proj = ccrs.PlateCarree()\n",
    "fig, axes = plt.subplots(nrows=1, ncols=1, figsize=(15,15), sharex='col', sharey='row',subplot_kw=dict(projection=proj))\n",
    "axes.contour(salt24['LONGITUDE'],salt24['LATITUDE'],salt24clim[:,:,0],levels = [34.7], colors = 'pink', linewidths = 0.5, linestyles = 'solid')\n",
    "axes.contour(salt24['LONGITUDE'],salt24['LATITUDE'],salt24clim[:,:,1],levels = [34.7], colors = 'r', linewidths = 0.5, linestyles = 'solid')\n",
    "axes.contour(salt24['LONGITUDE'],salt24['LATITUDE'],salt24clim[:,:,2],levels = [34.7], colors = 'orange', linewidths = 0.5, linestyles = 'solid')\n",
    "axes.contour(salt24['LONGITUDE'],salt24['LATITUDE'],salt24clim[:,:,3],levels = [34.7], colors = 'gold', linewidths = 0.5, linestyles = 'solid')\n",
    "axes.contour(salt24['LONGITUDE'],salt24['LATITUDE'],salt24clim[:,:,4],levels = [34.7], colors = 'lightgreen', linewidths = 0.5, linestyles = 'solid')\n",
    "axes.contour(salt24['LONGITUDE'],salt24['LATITUDE'],salt24clim[:,:,5],levels = [34.7], colors = 'forestgreen', linewidths = 0.5, linestyles = 'solid')\n",
    "axes.contour(salt24['LONGITUDE'],salt24['LATITUDE'],salt24clim[:,:,6],levels = [34.7], colors = 'c', linewidths = 0.5, linestyles = 'solid')\n",
    "axes.contour(salt24['LONGITUDE'],salt24['LATITUDE'],salt24clim[:,:,7],levels = [34.7], colors = 'b', linewidths = 0.5, linestyles = 'solid')\n",
    "axes.contour(salt24['LONGITUDE'],salt24['LATITUDE'],salt24clim[:,:,8],levels = [34.7], colors = 'orchid', linewidths = 0.5, linestyles = 'solid')\n",
    "axes.contour(salt24['LONGITUDE'],salt24['LATITUDE'],salt24clim[:,:,9],levels = [34.7], colors = 'violet', linewidths = 0.5, linestyles = 'solid')\n",
    "axes.contour(salt24['LONGITUDE'],salt24['LATITUDE'],salt24clim[:,:,10],levels = [34.7], colors = 'brown', linewidths = 0.5, linestyles = 'solid')\n",
    "axes.contour(salt24['LONGITUDE'],salt24['LATITUDE'],salt24clim[:,:,11],levels = [34.7], colors = 'k', linewidths = 0.5, linestyles = 'solid')\n",
    "axes.set_ylim(-20,0)\n",
    "axes.set_xlim(40,130)\n",
    "axes.coastlines()\n",
    "axes.set_xticks(np.arange(40,140,10), crs=ccrs.PlateCarree())\n",
    "axes.set_yticks(np.arange(-20,5,5), crs=ccrs.PlateCarree())\n",
    "lon_formatter = LongitudeFormatter(zero_direction_label=True)\n",
    "lat_formatter = LatitudeFormatter()\n",
    "axes.xaxis.set_major_formatter(lon_formatter)\n",
    "axes.yaxis.set_major_formatter(lat_formatter)\n",
    "plt.title('34.7 psu Salinity Contour', fontsize = 14)\n",
    "#axes.set_title(title[i], fontsize=14)\n",
    "#axes.clabel(C,[80,100,120],fmt='%3.0f',colors = 'k')"
   ]
  },
  {
   "cell_type": "code",
   "execution_count": null,
   "metadata": {},
   "outputs": [],
   "source": [
    "title = ['JAN','FEB','MAR','APR','MAY','JUN','JUL','AUG','SEP','OCT','NOV','DEC']\n",
    "proj = ccrs.PlateCarree()\n",
    "fig, axes = plt.subplots(nrows=1, ncols=1, figsize=(15,15), sharex='col', sharey='row',subplot_kw=dict(projection=proj))\n",
    "axes.contour(salt24['LONGITUDE'],salt24['LATITUDE'],salt24clim[:,:,0],levels = [34.6], colors = 'pink', linewidths = 0.5, linestyles = 'solid')\n",
    "axes.contour(salt24['LONGITUDE'],salt24['LATITUDE'],salt24clim[:,:,1],levels = [34.6], colors = 'r', linewidths = 0.5, linestyles = 'solid')\n",
    "axes.contour(salt24['LONGITUDE'],salt24['LATITUDE'],salt24clim[:,:,2],levels = [34.6], colors = 'orange', linewidths = 0.5, linestyles = 'solid')\n",
    "axes.contour(salt24['LONGITUDE'],salt24['LATITUDE'],salt24clim[:,:,3],levels = [34.6], colors = 'gold', linewidths = 0.5, linestyles = 'solid')\n",
    "axes.contour(salt24['LONGITUDE'],salt24['LATITUDE'],salt24clim[:,:,4],levels = [34.6], colors = 'lightgreen', linewidths = 0.5, linestyles = 'solid')\n",
    "axes.contour(salt24['LONGITUDE'],salt24['LATITUDE'],salt24clim[:,:,5],levels = [34.6], colors = 'forestgreen', linewidths = 0.5, linestyles = 'solid')\n",
    "axes.contour(salt24['LONGITUDE'],salt24['LATITUDE'],salt24clim[:,:,6],levels = [34.6], colors = 'c', linewidths = 0.5, linestyles = 'solid')\n",
    "axes.contour(salt24['LONGITUDE'],salt24['LATITUDE'],salt24clim[:,:,7],levels = [34.6], colors = 'b', linewidths = 0.5, linestyles = 'solid')\n",
    "axes.contour(salt24['LONGITUDE'],salt24['LATITUDE'],salt24clim[:,:,8],levels = [34.6], colors = 'orchid', linewidths = 0.5, linestyles = 'solid')\n",
    "axes.contour(salt24['LONGITUDE'],salt24['LATITUDE'],salt24clim[:,:,9],levels = [34.6], colors = 'violet', linewidths = 0.5, linestyles = 'solid')\n",
    "axes.contour(salt24['LONGITUDE'],salt24['LATITUDE'],salt24clim[:,:,10],levels = [34.6], colors = 'brown', linewidths = 0.5, linestyles = 'solid')\n",
    "axes.contour(salt24['LONGITUDE'],salt24['LATITUDE'],salt24clim[:,:,11],levels = [34.6], colors = 'k', linewidths = 0.5, linestyles = 'solid')\n",
    "axes.set_ylim(-20,0)\n",
    "axes.set_xlim(40,130)\n",
    "axes.coastlines()\n",
    "axes.set_xticks(np.arange(40,140,10), crs=ccrs.PlateCarree())\n",
    "axes.set_yticks(np.arange(-20,5,5), crs=ccrs.PlateCarree())\n",
    "lon_formatter = LongitudeFormatter(zero_direction_label=True)\n",
    "lat_formatter = LatitudeFormatter()\n",
    "axes.xaxis.set_major_formatter(lon_formatter)\n",
    "axes.yaxis.set_major_formatter(lat_formatter)\n",
    "plt.title('34.6 psu Salinity Contour', fontsize = 14)\n",
    "#axes.set_title(title[i], fontsize=14)\n",
    "#axes.clabel(C,[80,100,120],fmt='%3.0f',colors = 'k')"
   ]
  },
  {
   "cell_type": "code",
   "execution_count": null,
   "metadata": {},
   "outputs": [],
   "source": [
    "title = ['JAN','FEB','MAR','APR','MAY','JUN','JUL','AUG','SEP','OCT','NOV','DEC']\n",
    "proj = ccrs.PlateCarree()\n",
    "fig, axes = plt.subplots(nrows=6, ncols=2, figsize=(15,15), sharex='col', sharey='row',subplot_kw=dict(projection=proj))\n",
    "for i in range(6):\n",
    "    axes[i,0].contourf(salt24['LONGITUDE'],salt24['LATITUDE'],salt24clim[:,:,i],levels = np.arange(34.6,35.6,0.1), cmap = 'coolwarm')\n",
    "    C = axes[i,0].contour(salt24['LONGITUDE'],salt24['LATITUDE'],d20clim[:,:,i],levels = np.arange(80,150,10),colors = 'k',linewidths = 0.5,linestyles = 'dotted')\n",
    "    axes[i,0].contour(salt24['LONGITUDE'],salt24['LATITUDE'],salt24clim[:,:,i],levels = [34.9], colors = 'k', linewidths = 0.5, linestyles = 'solid')\n",
    "    axes[i,0].set_ylim(-20,0)\n",
    "    axes[i,0].set_xlim(40,130)\n",
    "    axes[i,0].coastlines()\n",
    "    axes[i,0].set_xticks(np.arange(40,140,10), crs=ccrs.PlateCarree())\n",
    "    axes[i,0].set_yticks(np.arange(-20,5,5), crs=ccrs.PlateCarree())\n",
    "    lon_formatter = LongitudeFormatter(zero_direction_label=True)\n",
    "    lat_formatter = LatitudeFormatter()\n",
    "    axes[i,0].xaxis.set_major_formatter(lon_formatter)\n",
    "    axes[i,0].yaxis.set_major_formatter(lat_formatter)\n",
    "    axes[i,0].set_title(title[i], fontsize=14)\n",
    "    axes[i,0].clabel(C,[80,100,120],fmt='%3.0f',colors = 'k')\n",
    "    \n",
    "for i in range(6):\n",
    "    axes[i,1].contourf(salt24['LONGITUDE'],salt24['LATITUDE'],salt24clim[:,:,i+6],levels = np.arange(34.6,35.6,0.1), cmap = 'coolwarm')\n",
    "    C = axes[i,1].contour(salt24['LONGITUDE'],salt24['LATITUDE'],d20clim[:,:,i+6],levels = np.arange(80,150,10),colors = 'k',linewidths = 0.5,linestyles = 'dotted')\n",
    "    axes[i,1].contour(salt24['LONGITUDE'],salt24['LATITUDE'],salt24clim[:,:,i],levels = [34.9], colors = 'k', linewidths = 0.5, linestyles = 'solid')\n",
    "    axes[i,1].set_ylim(-20,0)\n",
    "    axes[i,1].set_xlim(40,130)\n",
    "    axes[i,1].coastlines()\n",
    "    axes[i,1].set_xticks(np.arange(40,140,10), crs=ccrs.PlateCarree())\n",
    "    axes[i,1].set_yticks(np.arange(-20,5,5), crs=ccrs.PlateCarree())\n",
    "    lon_formatter = LongitudeFormatter(zero_direction_label=True)\n",
    "    lat_formatter = LatitudeFormatter()\n",
    "    axes[i,1].xaxis.set_major_formatter(lon_formatter)\n",
    "    axes[i,1].yaxis.set_major_formatter(lat_formatter)\n",
    "    axes[i,1].set_title(title[i+6], fontsize=14)\n",
    "    axes[i,0].clabel(C,[80,100,120],fmt='%3.0f',colors = 'k')\n",
    "\n",
    "plt.show()"
   ]
  },
  {
   "cell_type": "code",
   "execution_count": null,
   "metadata": {},
   "outputs": [],
   "source": [
    "d20clim[\"LATITUDE\"][30:36] #-10.5:-5.5\n",
    "d20clim['LONGITUDE'][10:46] #50.5:85.5\n",
    "d20clim"
   ]
  },
  {
   "cell_type": "code",
   "execution_count": null,
   "metadata": {},
   "outputs": [],
   "source": [
    "SCTR = np.nanmean(np.nanmean(d20clim[30:36,20:46,:],0),0)\n",
    "np.shape(SCTR)"
   ]
  },
  {
   "cell_type": "code",
   "execution_count": null,
   "metadata": {},
   "outputs": [],
   "source": [
    "plt.plot(SCTR)"
   ]
  },
  {
   "cell_type": "code",
   "execution_count": null,
   "metadata": {},
   "outputs": [],
   "source": [
    "salt24clim"
   ]
  },
  {
   "cell_type": "code",
   "execution_count": null,
   "metadata": {},
   "outputs": [],
   "source": []
  },
  {
   "cell_type": "code",
   "execution_count": null,
   "metadata": {},
   "outputs": [],
   "source": []
  },
  {
   "cell_type": "code",
   "execution_count": null,
   "metadata": {},
   "outputs": [],
   "source": []
  },
  {
   "cell_type": "code",
   "execution_count": null,
   "metadata": {},
   "outputs": [],
   "source": []
  },
  {
   "cell_type": "code",
   "execution_count": null,
   "metadata": {},
   "outputs": [],
   "source": []
  },
  {
   "cell_type": "code",
   "execution_count": null,
   "metadata": {},
   "outputs": [],
   "source": []
  },
  {
   "cell_type": "code",
   "execution_count": null,
   "metadata": {},
   "outputs": [],
   "source": []
  }
 ],
 "metadata": {
  "kernelspec": {
   "display_name": "Python 3",
   "language": "python",
   "name": "python3"
  },
  "language_info": {
   "codemirror_mode": {
    "name": "ipython",
    "version": 3
   },
   "file_extension": ".py",
   "mimetype": "text/x-python",
   "name": "python",
   "nbconvert_exporter": "python",
   "pygments_lexer": "ipython3",
   "version": "3.7.3"
  }
 },
 "nbformat": 4,
 "nbformat_minor": 4
}
