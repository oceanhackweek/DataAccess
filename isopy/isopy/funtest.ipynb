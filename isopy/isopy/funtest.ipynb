{
 "cells": [
  {
   "cell_type": "code",
   "execution_count": 1,
   "metadata": {},
   "outputs": [],
   "source": [
    "import numpy as np\n",
    "import xarray as xr\n",
    "from matplotlib import pyplot as plt\n",
    "%matplotlib inline"
   ]
  },
  {
   "cell_type": "code",
   "execution_count": 2,
   "metadata": {},
   "outputs": [
    {
     "data": {
      "text/plain": [
       "<xarray.Dataset>\n",
       "Dimensions:  (lat: 180, lev: 27, lon: 360, time: 180)\n",
       "Coordinates:\n",
       "  * time     (time) datetime64[ns] 2005-01-15 2005-02-15 ... 2019-12-15\n",
       "  * lev      (lev) float64 0.0 5.0 10.0 20.0 ... 1.4e+03 1.5e+03 1.75e+03 2e+03\n",
       "  * lat      (lat) float64 -89.5 -88.5 -87.5 -86.5 -85.5 ... 86.5 87.5 88.5 89.5\n",
       "  * lon      (lon) float64 0.5 1.5 2.5 3.5 4.5 ... 355.5 356.5 357.5 358.5 359.5\n",
       "Data variables:\n",
       "    temp     (time, lev, lat, lon) float32 ...\n",
       "    salt     (time, lev, lat, lon) float32 ...\n",
       "    ptemp    (time, lev, lat, lon) float32 ...\n",
       "    pden     (time, lev, lat, lon) float32 ...\n",
       "    addep    (time, lev, lat, lon) float32 ...\n",
       "    spice    (time, lev, lat, lon) float32 ...\n",
       "Attributes:\n",
       "    title:          1x1 gridded Monthly mean on Standard Levels (from 2005)\n",
       "    Conventions:    COARDS\\nGrADS\n",
       "    dataType:       Grid\n",
       "    documentation:  http://apdrc.soest.hawaii.edu/projects/Argo/index.html\n",
       "    history:        Fri Jul 19 13:26:16 HST 2019 : imported by GrADS Data Ser..."
      ]
     },
     "execution_count": 2,
     "metadata": {},
     "output_type": "execute_result"
    }
   ],
   "source": [
    "url = 'http://apdrc.soest.hawaii.edu:80/dods/public_data/Argo_Products/monthly_mean/Gridded_monthly_mean'\n",
    "ds = xr.open_dataset(url)\n",
    "ds"
   ]
  },
  {
   "cell_type": "code",
   "execution_count": 38,
   "metadata": {},
   "outputs": [],
   "source": [
    "def compute_iso(data, iso, lev, d_or_t):\n",
    "\n",
    "    \"\"\" compute the depth of some isopycnal/isotherm.\n",
    "    \n",
    "    Parameters:\n",
    "    ----------------\n",
    "    \n",
    "    data: the input variable (Temperature, Density),\n",
    "        array_like (3D), shape (N, M, L).\n",
    "    iso: the objective isosurface layer,\n",
    "        float.\n",
    "    lev: the vertical depth,\n",
    "        array_like (1D), shape (N).\n",
    "    d_or_t: input d or t for density or temperature (lowercase)\n",
    "        string\n",
    "        \n",
    "    Returns:\n",
    "    ----------------\n",
    "    \n",
    "    var_iso: the output variable,\n",
    "        array_like (2D), shape (M, L).\n",
    "        \n",
    "    \"\"\"\n",
    "        \n",
    "    size = data.shape\n",
    "    L = size[2]\n",
    "    M = size[1]\n",
    "    N = size[0] #this should be the same length as lev\n",
    "    var_iso = np.zeros((M, L)) # define the output var\n",
    "    \n",
    "    # check that the input data is in the for depth lat lon (or depth lon lat)\n",
    "    if len(lev) != N:\n",
    "        print('Error: either data input variable does not have depth as dimension 0, or lev variable is not same length as depth')\n",
    "        \n",
    "    # check input label of 'depth' or 'temp'\n",
    "    if d_or_t != 'd' or 't':\n",
    "        print('Is this density or temperature?')\n",
    "        \n",
    "    else:\n",
    "        print('correct input')\n",
    "        \n",
    "        var_iso[:, :] = np.nan # NaN fill to avoid any later computation errors with zeros\n",
    "\n",
    "        for i in np.arange(L): #loop through dimension 1\n",
    "            for j in np.arange(M): #loop through dimension 2\n",
    "\n",
    "                    data_prof = data[:, j, i] #select one profile\n",
    "                    if d_or_t == 'd':\n",
    "                        id1 = np.where(data_prof < iso)\n",
    "                        if np.size(id1) > 0 and np.size(id1) < len(z):\n",
    "\n",
    "                            var1 = data_prof[id1[0][-1]]\n",
    "                            var2 = data_prof[id1[0][-1] + 1]\n",
    "\n",
    "                        if var1 < var2:\n",
    "                            func = interpolate.interp1d([var1, var2], [lev[id1[0][-1]], lev[id1[0][-1] + 1]])\n",
    "                            var_iso[j, i] = func(iso)\n",
    "\n",
    "                    else:\n",
    "                        id1 = np.where(data_prof > iso)\n",
    "\n",
    "                        if np.size(id1) > 0 and np.size(id1) < len(z):\n",
    "\n",
    "                            var1 = data_prof[id1[0][-1]]\n",
    "                            var2 = data_prof[id1[0][-1] + 1]\n",
    "\n",
    "                            if var1 > var2:\n",
    "                                func = interpolate.interp1d([var1, var2], [lev[id1[0][-1]], lev[id1[0][-1] + 1]])\n",
    "                                var_iso[j, i] = func(iso)\n",
    "\n",
    "    return var_iso"
   ]
  },
  {
   "cell_type": "code",
   "execution_count": 39,
   "metadata": {},
   "outputs": [
    {
     "name": "stdout",
     "output_type": "stream",
     "text": [
      "Is this density or temperature?\n",
      "CPU times: user 71 ms, sys: 52.6 ms, total: 124 ms\n",
      "Wall time: 3.57 s\n"
     ]
    }
   ],
   "source": [
    "%%time\n",
    "\n",
    "pden = ds.pden #.chunk(chunks={'lat' : 30, 'lon' : 30})\n",
    "z = pden.lev.values\n",
    "iso = [24]\n",
    "\n",
    "#for t in np.arange(size[0]):\n",
    "for t in np.arange(1):\n",
    "    data = pden[0, :, :].values\n",
    "    dep_iso = compute_iso(data, iso, z, 't')\n",
    "    #print(str(pden.time[t].values))\n",
    "\n",
    "#ds_dep_iso = xr.DataArray(dep_iso, coords={'time': pden.time, 'lat': pden.lat, 'lon': pden.lon}, dims=['time', 'lat', 'lon'])\n"
   ]
  },
  {
   "cell_type": "code",
   "execution_count": null,
   "metadata": {},
   "outputs": [],
   "source": []
  }
 ],
 "metadata": {
  "kernelspec": {
   "display_name": "Python 3",
   "language": "python",
   "name": "python3"
  },
  "language_info": {
   "codemirror_mode": {
    "name": "ipython",
    "version": 3
   },
   "file_extension": ".py",
   "mimetype": "text/x-python",
   "name": "python",
   "nbconvert_exporter": "python",
   "pygments_lexer": "ipython3",
   "version": "3.7.3"
  }
 },
 "nbformat": 4,
 "nbformat_minor": 4
}
