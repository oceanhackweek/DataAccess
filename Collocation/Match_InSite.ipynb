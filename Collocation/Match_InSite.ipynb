{
 "cells": [
  {
   "cell_type": "markdown",
   "metadata": {},
   "source": [
    "# [SC57 - Working with big, multi-dimensional geoscientific datasets in Python: a tutorial introduction to xarray](http://meetingorganizer.copernicus.org/EGU2017/session/25651)  \n",
    "  \n",
    "  \n",
    "Original notebook by [Stephan Hoyer](http://stephanhoyer.com), Rossbypalooza, 2016.  \n",
    "Modified by Edward Byers, Matthew Gidden and [Fabien Maussion](http://fabienmaussion.info/) for EGU General Assembly 2017, Vienna, Austria\n",
    "Modified by C. Gentemann for GHRSST Science Team Tutorial 2019, Rome, Italy\n",
    "Modified to include podaacpy by C.Gentemann with help from @lewismc for OceanObs19\n",
    "  \n",
    "**Convenors**\n",
    "* [Dr Chelle Gentemann](mailto:gentemann@esr.org)    - Earth and Space Research, USA\n",
    "* [Dr Marisol Garcia-Reyes](mailto:marisolgr@faralloninstitute.org)  - Farallon Institute, USA \n",
    "-------------"
   ]
  },
  {
   "cell_type": "markdown",
   "metadata": {},
   "source": [
    "# Structure of this tutorial\n",
    "\n",
    "1. Opening data\n",
    "1. Collocating satellite data with a cruise dataset\n",
    "\n"
   ]
  },
  {
   "cell_type": "markdown",
   "metadata": {},
   "source": [
    "# 1. Key features of `xarray`"
   ]
  },
  {
   "cell_type": "markdown",
   "metadata": {},
   "source": [
    "-------------------\n",
    "\n",
    "## Import python packages\n",
    "\n",
    "You are going to want numpy, pandas, matplotlib.pyplot and xarray"
   ]
  },
  {
   "cell_type": "code",
   "execution_count": 1,
   "metadata": {},
   "outputs": [],
   "source": [
    "import warnings\n",
    "warnings.simplefilter('ignore') # filter some warning messages\n",
    "\n",
    "import numpy as np\n",
    "import pandas as pd\n",
    "import matplotlib.pyplot as plt\n",
    "import xarray as xr\n",
    "\n",
    "#for search capabilites import podaacpy\n",
    "import podaac.podaac as podaac\n",
    "import podaac.podaac_utils as putil\n",
    "# then create an instance of the Podaac class\n",
    "p = podaac.Podaac()"
   ]
  },
  {
   "cell_type": "markdown",
   "metadata": {},
   "source": [
    "## A nice cartopy tutorial is [here](http://earthpy.org/tag/visualization.html)"
   ]
  },
  {
   "cell_type": "markdown",
   "metadata": {},
   "source": [
    "# Collocate a Saildrone cruise with PODAAC MUR SST data"
   ]
  },
  {
   "cell_type": "markdown",
   "metadata": {},
   "source": [
    "### The Saildrone cruise is 2 months long.  The MUR SST data is daily 1 km global SSTs"
   ]
  },
  {
   "cell_type": "markdown",
   "metadata": {},
   "source": [
    "`xarray`can open multiple files at once using string pattern matching.  \n",
    "  \n",
    "  In this case we open all the files that match our `filestr`, i.e. all the files for the 2080s. \n",
    "  \n",
    "  Each of these files (compressed) is approximately 800 MB."
   ]
  },
  {
   "cell_type": "markdown",
   "metadata": {},
   "source": [
    "# Collocating Saildrone cruise data with MUR SSTs \n",
    "\n",
    "* read in the Saildrone data "
   ]
  },
  {
   "cell_type": "code",
   "execution_count": 3,
   "metadata": {},
   "outputs": [
    {
     "data": {
      "text/plain": [
       "<xarray.Dataset>\n",
       "Dimensions:               (obs: 86839, trajectory: 1)\n",
       "Coordinates:\n",
       "  * trajectory            (trajectory) float32 1002.0\n",
       "    time                  (trajectory, obs) datetime64[ns] ...\n",
       "    latitude              (trajectory, obs) float64 ...\n",
       "    longitude             (trajectory, obs) float64 ...\n",
       "Dimensions without coordinates: obs\n",
       "Data variables:\n",
       "    SOG                   (trajectory, obs) float64 ...\n",
       "    COG                   (trajectory, obs) float64 ...\n",
       "    HDG                   (trajectory, obs) float64 ...\n",
       "    HDG_WING              (trajectory, obs) float64 ...\n",
       "    ROLL                  (trajectory, obs) float64 ...\n",
       "    PITCH                 (trajectory, obs) float64 ...\n",
       "    WING_ANGLE            (trajectory, obs) float64 ...\n",
       "    BARO_PRES_MEAN        (trajectory, obs) float64 ...\n",
       "    BARO_PRES_STDDEV      (trajectory, obs) float64 ...\n",
       "    TEMP_AIR_MEAN         (trajectory, obs) float64 ...\n",
       "    TEMP_AIR_STDDEV       (trajectory, obs) float64 ...\n",
       "    RH_MEAN               (trajectory, obs) float64 ...\n",
       "    RH_STDDEV             (trajectory, obs) float64 ...\n",
       "    TEMP_IR_UNCOR_MEAN    (trajectory, obs) float64 ...\n",
       "    TEMP_IR_UNCOR_STDDEV  (trajectory, obs) float64 ...\n",
       "    UWND_MEAN             (trajectory, obs) float64 ...\n",
       "    UWND_STDDEV           (trajectory, obs) float64 ...\n",
       "    VWND_MEAN             (trajectory, obs) float64 ...\n",
       "    VWND_STDDEV           (trajectory, obs) float64 ...\n",
       "    WWND_MEAN             (trajectory, obs) float64 ...\n",
       "    WWND_STDDEV           (trajectory, obs) float64 ...\n",
       "    GUST_WND_MEAN         (trajectory, obs) float64 ...\n",
       "    GUST_WND_STDDEV       (trajectory, obs) float64 ...\n",
       "    TEMP_CTD_MEAN         (trajectory, obs) float64 ...\n",
       "    TEMP_CTD_STDDEV       (trajectory, obs) float64 ...\n",
       "    COND_MEAN             (trajectory, obs) float64 ...\n",
       "    COND_STDDEV           (trajectory, obs) float64 ...\n",
       "    SAL_MEAN              (trajectory, obs) float64 ...\n",
       "    SAL_STDDEV            (trajectory, obs) float64 ...\n",
       "    O2_CONC_UNCOR_MEAN    (trajectory, obs) float64 ...\n",
       "    O2_CONC_UNCOR_STDDEV  (trajectory, obs) float64 ...\n",
       "    O2_SAT_MEAN           (trajectory, obs) float64 ...\n",
       "    O2_SAT_STDDEV         (trajectory, obs) float64 ...\n",
       "    TEMP_O2_MEAN          (trajectory, obs) float64 ...\n",
       "    TEMP_O2_STDDEV        (trajectory, obs) float64 ...\n",
       "    CHLOR_MEAN            (trajectory, obs) float64 ...\n",
       "    CHLOR_STDDEV          (trajectory, obs) float64 ...\n",
       "    CDOM_MEAN             (trajectory, obs) float64 ...\n",
       "    CDOM_STDDEV           (trajectory, obs) float64 ...\n",
       "    BKSCT_RED_MEAN        (trajectory, obs) float64 ...\n",
       "    BKSCT_RED_STDDEV      (trajectory, obs) float64 ...\n",
       "Attributes:\n",
       "    _NCProperties:             version=1|netcdflibversion=4.4.1.1|hdf5libvers...\n",
       "    title:                     Baja 2018 Near-Real-Time Mission Data\n",
       "    ncei_template_version:     NCEI_NetCDF_Trajectory_Template_v2.0\n",
       "    Conventions:               CF-1.6, ACDD-1.3\n",
       "    netcdf_version:            4.4.1.1\n",
       "    featureType:               trajectory\n",
       "    cdm_data_type:             Trajectory\n",
       "    standard_name_vocabulary:  CF Standard Name Table v58\n",
       "    description:               Saildrone NetCDF Format\n",
       "    creator_name:              Saildrone\n",
       "    platform:                  Saildrone\n",
       "    institution:               Saildrone\n",
       "    creator_email:             support@saildrone.com\n",
       "    creator_url:               http://saildrone.com/\n",
       "    date_created:              2018-08-29T21:02:49.774718Z\n",
       "    interval:                  60.0\n",
       "    time_coverage_resolution:  PT1M\n",
       "    time_coverage_start:       2018-04-11T18:00:00.000000Z\n",
       "    time_coverage_end:         2018-06-11T05:59:59.000000Z\n",
       "    time_coverage_duration:    P60DT11H59M59S\n",
       "    data_mode:                 realtime\n",
       "    drone_id:                  1002\n",
       "    id:                        3860\n",
       "    naming_authority:          com.saildrone\n",
       "    uuid:                      b98a9a81-d9f0-4751-aad6-8ea5b8cea963\n",
       "    geospatial_lat_min:        28.0176832\n",
       "    geospatial_lat_max:        37.8174912\n",
       "    geospatial_lat_units:      degrees_north\n",
       "    geospatial_lon_min:        -125.5529728\n",
       "    geospatial_lon_max:        -115.5226624\n",
       "    geospatial_lon_units:      degrees_east\n",
       "    area:                      Baja California Coast\n",
       "    project:                   baja_2018\n",
       "    product_version:           1\n",
       "    summary:                   The Saildrone unmanned surface vehicle (USV) c..."
      ]
     },
     "execution_count": 3,
     "metadata": {},
     "output_type": "execute_result"
    }
   ],
   "source": [
    "url = 'https://podaac-opendap.jpl.nasa.gov/opendap/hyrax/allData/insitu/L2/saildrone/Baja/saildrone-gen_4-baja_2018-sd1002-20180411T180000-20180611T055959-1_minutes-v1.nc'\n",
    "ds_usv = xr.open_dataset(url)\n",
    "ds_usv"
   ]
  },
  {
   "cell_type": "markdown",
   "metadata": {},
   "source": [
    "Input in the start and end time manually"
   ]
  },
  {
   "cell_type": "code",
   "execution_count": 6,
   "metadata": {},
   "outputs": [
    {
     "name": "stdout",
     "output_type": "stream",
     "text": [
      "start:  2018-04-11T18:04:00Z end:  2018-06-11T05:06:00Z\n"
     ]
    }
   ],
   "source": [
    "str_start_time = '2018-04-12T02'\n",
    "str_end_time = '2018-06-10T18'"
   ]
  },
  {
   "cell_type": "code",
   "execution_count": 8,
   "metadata": {},
   "outputs": [
    {
     "name": "stdout",
     "output_type": "stream",
     "text": [
      "start:  2018-04-11T18:04:00Z end:  2018-06-11T05:06:00Z\n"
     ]
    }
   ],
   "source": [
    "ds_usv2 = ds_usv.isel(trajectory=0).swap_dims({'obs':'time'}).rename({'longitude':'lon','latitude':'lat'})\n",
    "ds_usv_subset = ds_usv2.sel(time=slice(str_start_time,str_end_time)) \n",
    "start_time=pd.to_datetime(str(ds_usv2.time.min().data)).strftime('%Y-%m-%dT%H:%m:%SZ') \n",
    "end_time=pd.to_datetime(str(ds_usv2.time.max().data)).strftime('%Y-%m-%dT%H:%m:%SZ') \n",
    "ds_usv_subset\n",
    "print('start: ',start_time,'end: ',end_time)"
   ]
  },
  {
   "cell_type": "markdown",
   "metadata": {},
   "source": [
    "Collocate with Ocean Color Observations"
   ]
  },
  {
   "cell_type": "code",
   "execution_count": 11,
   "metadata": {},
   "outputs": [],
   "source": [
    "## YYYY-MM-DD\n",
    "start_date = np.datetime64(str_start_time)\n",
    "end_date   = np.datetime64(str_end_time)\n",
    "num_days = (end_date - start_date).tolist().days\n",
    "\n",
    "# variable to load\n",
    "VAR = 'CHL'\n",
    "\n",
    "# algorithm\n",
    "ALG = 'chl_ocx'\n",
    "\n",
    "# Binning period\n",
    "BIN = 'DAY'  # DAY, 8D, MO, R32\n",
    "\n",
    "# Spatial resolution\n",
    "SRES = '9km'   # 4km, 9km\n",
    "\n",
    "dap_urls = []\n",
    "\n",
    "url_base = \"https://oceandata.sci.gsfc.nasa.gov:443/opendap/MODISA/L3SMI/\""
   ]
  },
  {
   "cell_type": "code",
   "execution_count": 12,
   "metadata": {},
   "outputs": [],
   "source": [
    "for ii in range(num_days):\n",
    "    curr_date = start_date + ii\n",
    "    \n",
    "    curr_year = curr_date.tolist().year\n",
    "    ref_date = np.datetime64('{0:d}-01-01'.format(curr_year))\n",
    "    \n",
    "    day_num = 1 + (curr_date - ref_date).tolist().days\n",
    "    \n",
    "    file_url = url_base + \\\n",
    "                '{0:d}/{1:03d}/A{0:d}{1:03d}'.format(curr_year, day_num) + \\\n",
    "                '.L3m_{0}_{1}_{2}_{3}'.format(BIN, VAR, ALG, SRES) + \\\n",
    "                '.nc'\n",
    "    \n",
    "    dap_urls += [file_url]\n",
    "    ds = xr.open_dataset(file_url)"
   ]
  },
  {
   "cell_type": "code",
   "execution_count": 13,
   "metadata": {},
   "outputs": [
    {
     "data": {
      "text/plain": [
       "<xarray.Dataset>\n",
       "Dimensions:  (eightbitcolor: 256, lat: 2160, lon: 4320, rgb: 3)\n",
       "Coordinates:\n",
       "  * lat      (lat) float32 89.958336 89.875 89.79167 ... -89.87501 -89.958336\n",
       "  * lon      (lon) float32 -179.95833 -179.875 ... 179.87502 179.95836\n",
       "Dimensions without coordinates: eightbitcolor, rgb\n",
       "Data variables:\n",
       "    palette  (rgb, eightbitcolor) int8 ...\n",
       "    chl_ocx  (lat, lon) float32 ...\n",
       "Attributes:\n",
       "    _NCProperties:                     version=1|netcdflibversion=4.4.1.1|hdf...\n",
       "    product_name:                      A2018104.L3m_DAY_CHL_chl_ocx_9km.nc\n",
       "    instrument:                        MODIS\n",
       "    title:                             MODISA Level-3 Standard Mapped Image\n",
       "    project:                           Ocean Biology Processing Group (NASA/G...\n",
       "    platform:                          Aqua\n",
       "    temporal_range:                    day\n",
       "    processing_version:                2018.0\n",
       "    date_created:                      2018-06-05T21:06:46.000Z\n",
       "    history:                           l3mapgen par=A2018104.L3m_DAY_CHL_chl_...\n",
       "    l2_flag_names:                     ATMFAIL,LAND,HILT,HISATZEN,STRAYLIGHT,...\n",
       "    time_coverage_start:               2018-04-14T00:05:01.000Z\n",
       "    time_coverage_end:                 2018-04-15T02:45:00.000Z\n",
       "    start_orbit_number:                84809\n",
       "    end_orbit_number:                  84825\n",
       "    map_projection:                    Equidistant Cylindrical\n",
       "    latitude_units:                    degrees_north\n",
       "    longitude_units:                   degrees_east\n",
       "    northernmost_latitude:             90.0\n",
       "    southernmost_latitude:             -90.0\n",
       "    westernmost_longitude:             -180.0\n",
       "    easternmost_longitude:             180.0\n",
       "    geospatial_lat_max:                90.0\n",
       "    geospatial_lat_min:                -90.0\n",
       "    geospatial_lon_max:                180.0\n",
       "    geospatial_lon_min:                -180.0\n",
       "    grid_mapping_name:                 latitude_longitude\n",
       "    latitude_step:                     0.083333336\n",
       "    longitude_step:                    0.083333336\n",
       "    sw_point_latitude:                 -89.958336\n",
       "    sw_point_longitude:                -179.95833\n",
       "    geospatial_lon_resolution:         9.276625\n",
       "    geospatial_lat_resolution:         9.276625\n",
       "    geospatial_lat_units:              degrees_north\n",
       "    geospatial_lon_units:              degrees_east\n",
       "    spatialResolution:                 9.28 km\n",
       "    number_of_lines:                   2160\n",
       "    number_of_columns:                 4320\n",
       "    measure:                           Mean\n",
       "    suggested_image_scaling_minimum:   0.01\n",
       "    suggested_image_scaling_maximum:   20.0\n",
       "    suggested_image_scaling_type:      LOG\n",
       "    suggested_image_scaling_applied:   No\n",
       "    _lastModified:                     2018-06-05T21:06:46.000Z\n",
       "    Conventions:                       CF-1.6 ACDD-1.3\n",
       "    institution:                       NASA Goddard Space Flight Center, Ocea...\n",
       "    standard_name_vocabulary:          CF Standard Name Table v36\n",
       "    naming_authority:                  gov.nasa.gsfc.sci.oceandata\n",
       "    id:                                A2018104.L3b_DAY_CHL.nc/L3/A2018104.L3...\n",
       "    license:                           http://science.nasa.gov/earth-science/...\n",
       "    creator_name:                      NASA/GSFC/OBPG\n",
       "    publisher_name:                    NASA/GSFC/OBPG\n",
       "    creator_email:                     data@oceancolor.gsfc.nasa.gov\n",
       "    publisher_email:                   data@oceancolor.gsfc.nasa.gov\n",
       "    creator_url:                       http://oceandata.sci.gsfc.nasa.gov\n",
       "    publisher_url:                     http://oceandata.sci.gsfc.nasa.gov\n",
       "    processing_level:                  L3 Mapped\n",
       "    cdm_data_type:                     grid\n",
       "    identifier_product_doi_authority:  http://dx.doi.org\n",
       "    identifier_product_doi:            10.5067/AQUA/MODIS/L3M/CHL/2018\n",
       "    keywords:                          Earth Science > Oceans > Ocean Chemist...\n",
       "    keywords_vocabulary:               NASA Global Change Master Directory (G...\n",
       "    data_bins:                         662217\n",
       "    data_minimum:                      0.001\n",
       "    data_maximum:                      99.20466"
      ]
     },
     "execution_count": 13,
     "metadata": {},
     "output_type": "execute_result"
    }
   ],
   "source": [
    "ds"
   ]
  },
  {
   "cell_type": "code",
   "execution_count": 4,
   "metadata": {},
   "outputs": [],
   "source": []
  },
  {
   "cell_type": "code",
   "execution_count": null,
   "metadata": {},
   "outputs": [],
   "source": []
  },
  {
   "cell_type": "code",
   "execution_count": null,
   "metadata": {},
   "outputs": [],
   "source": []
  },
  {
   "cell_type": "code",
   "execution_count": 9,
   "metadata": {},
   "outputs": [],
   "source": [
    "#dataset_id = 'PODAAC-GHGMR-4FJ04'  #MUR SST looked up on podaac website\n",
    "dataset_id = 'PODAAC-GHK10-41N01'  #smaller data\n",
    "gresult = p.granule_search(dataset_id=dataset_id,\n",
    "                           start_time=start_time,\n",
    "                           end_time=end_time,\n",
    "                           items_per_page='100')\n",
    "urls = putil.PodaacUtils.mine_opendap_urls_from_granule_search(gresult)\n",
    "urls = [w[:-5] for w in urls]  #remove html from urls"
   ]
  },
  {
   "cell_type": "code",
   "execution_count": 5,
   "metadata": {},
   "outputs": [
    {
     "data": {
      "text/plain": [
       "<xarray.Dataset>\n",
       "Dimensions:         (lat: 1801, lon: 3600, time: 62)\n",
       "Coordinates:\n",
       "  * lat             (lat) float32 90.0 89.9 89.8 89.700005 ... -89.8 -89.9 -90.0\n",
       "  * lon             (lon) float32 -180.0 -179.90001 -179.8 ... 179.8 179.90001\n",
       "  * time            (time) object 2018-04-12 00:00:00 ... 2018-06-12 00:00:00\n",
       "Data variables:\n",
       "    analysed_sst    (time, lat, lon) float32 dask.array<shape=(62, 1801, 3600), chunksize=(1, 1801, 3600)>\n",
       "    analysis_error  (time, lat, lon) float32 dask.array<shape=(62, 1801, 3600), chunksize=(1, 1801, 3600)>\n",
       "    mask            (time, lat, lon) int16 dask.array<shape=(62, 1801, 3600), chunksize=(1, 1801, 3600)>\n",
       "Attributes:\n",
       "    Conventions:            NAVO_netcdf_v3.4\n",
       "    title:                  NAVOCEANO 10km Analyzed Sea Surface Temperature\n",
       "    DSD_entry_id:           NAVO-L4HR1m-GLOB-K10_SST\n",
       "    reference:              https://oceanography.navy.mil/legacy/web\n",
       "    institution:            Naval Oceanographic Office\n",
       "    contact:                doug.may@navy.mil\n",
       "    GDS_version_id:         v1.0-rev1.7\n",
       "    netcdf_version_id:      netcdf v3.4\n",
       "    creation_date:          created: 2018-04-12 07:00:03\n",
       "    history:                Created from k10.out, k10a.out\n",
       "    operational_status:     operational\n",
       "    spatial_resolution:     10 km\n",
       "    source_data:            AVHRR18_G-NAVO, AVHRR19_G-NAVO, AVHRRMTA_G-NAVO, ...\n",
       "    comment:                Distribution Statement: Approved for public relea...\n",
       "    start_date:             2018-04-11 UTC\n",
       "    start_time:             00:00:00 UTC\n",
       "    stop_date:              2018-04-11 UTC\n",
       "    stop_time:              23:59:59 UTC\n",
       "    southernmost_latitude:  -90.0\n",
       "    northernmost_latitude:  90.0\n",
       "    westernmost_longitude:  -180.0\n",
       "    easternmost_longitude:  179.9\n",
       "    file_quality_index:     1"
      ]
     },
     "execution_count": 5,
     "metadata": {},
     "output_type": "execute_result"
    }
   ],
   "source": [
    "ds_sst = xr.open_mfdataset(urls,coords='minimal')\n",
    "ds_sst"
   ]
  },
  {
   "cell_type": "markdown",
   "metadata": {},
   "source": [
    "How big is all this data uncompressed? Will it fit into memory?\n",
    "Use `.nbytes` / 1e9  to convert it into gigabytes"
   ]
  },
  {
   "cell_type": "code",
   "execution_count": 6,
   "metadata": {},
   "outputs": [
    {
     "data": {
      "text/plain": [
       "4.0198541"
      ]
     },
     "execution_count": 6,
     "metadata": {},
     "output_type": "execute_result"
    }
   ],
   "source": [
    "ds_sst.nbytes / 1e9  "
   ]
  },
  {
   "cell_type": "markdown",
   "metadata": {},
   "source": [
    "## The NCEI trajectory format uses 'obs' as the coordinate.  This is an example of an 'older' style of data formatting that doesn't really mesh well with modern software capabilities. \n",
    "\n",
    "* So, let's change that by using [.swap_dims](http://xarray.pydata.org/en/stable/generated/xarray.DataArray.swap_dims.html) to change the coordinate from `obs` to `time`\n",
    "* Another thing, `latitude` and `longitude` are just long and annoying, lets [.rename](http://xarray.pydata.org/en/stable/generated/xarray.Dataset.rename.html) them to `lat` and `lon`\n",
    "\n",
    "* Finally, the first and last part of the cruise the USV is being towed, so let's only include data from `2018-04-12T02` to `2018-06-10T18`\n"
   ]
  },
  {
   "cell_type": "markdown",
   "metadata": {},
   "source": [
    "# Xarray interpolation won't run on chunked dimensions.  \n",
    "1. First let's subset the data to make it smaller to deal with by using the cruise lat/lons\n",
    "    * Find the max/min of the lat/lon using `.lon.min().data`\n",
    "\n",
    "1. Now load the data into memory (de-Dask-ify) it using `.load()`  \n"
   ]
  },
  {
   "cell_type": "code",
   "execution_count": 7,
   "metadata": {},
   "outputs": [
    {
     "name": "stdout",
     "output_type": "stream",
     "text": [
      "min max lat lon: -125.55297279999999 -115.5226624 28.0176832 37.6797408\n"
     ]
    },
    {
     "data": {
      "text/plain": [
       "<xarray.Dataset>\n",
       "Dimensions:         (lat: 0, lon: 100, time: 62)\n",
       "Coordinates:\n",
       "  * lat             (lat) float32 \n",
       "  * lon             (lon) float32 -125.5 -125.4 -125.3 ... -115.700005 -115.6\n",
       "  * time            (time) object 2018-04-12 00:00:00 ... 2018-06-12 00:00:00\n",
       "Data variables:\n",
       "    analysed_sst    (time, lat, lon) float32 \n",
       "    analysis_error  (time, lat, lon) float32 \n",
       "    mask            (time, lat, lon) int16 \n",
       "Attributes:\n",
       "    Conventions:            NAVO_netcdf_v3.4\n",
       "    title:                  NAVOCEANO 10km Analyzed Sea Surface Temperature\n",
       "    DSD_entry_id:           NAVO-L4HR1m-GLOB-K10_SST\n",
       "    reference:              https://oceanography.navy.mil/legacy/web\n",
       "    institution:            Naval Oceanographic Office\n",
       "    contact:                doug.may@navy.mil\n",
       "    GDS_version_id:         v1.0-rev1.7\n",
       "    netcdf_version_id:      netcdf v3.4\n",
       "    creation_date:          created: 2018-04-12 07:00:03\n",
       "    history:                Created from k10.out, k10a.out\n",
       "    operational_status:     operational\n",
       "    spatial_resolution:     10 km\n",
       "    source_data:            AVHRR18_G-NAVO, AVHRR19_G-NAVO, AVHRRMTA_G-NAVO, ...\n",
       "    comment:                Distribution Statement: Approved for public relea...\n",
       "    start_date:             2018-04-11 UTC\n",
       "    start_time:             00:00:00 UTC\n",
       "    stop_date:              2018-04-11 UTC\n",
       "    stop_time:              23:59:59 UTC\n",
       "    southernmost_latitude:  -90.0\n",
       "    northernmost_latitude:  90.0\n",
       "    westernmost_longitude:  -180.0\n",
       "    easternmost_longitude:  179.9\n",
       "    file_quality_index:     1"
      ]
     },
     "execution_count": 7,
     "metadata": {},
     "output_type": "execute_result"
    }
   ],
   "source": [
    "#Step 1 from above\n",
    "print('min max lat lon:', ds_usv_subset.lon.min().data,ds_usv_subset.lon.max().data,ds_usv_subset.lat.min().data,ds_usv_subset.lat.max().data)\n",
    "lon_min,lon_max = ds_usv_subset.lon.min().data,ds_usv_subset.lon.max().data\n",
    "lat_min,lat_max = ds_usv_subset.lat.min().data,ds_usv_subset.lat.max().data\n",
    "subset = ds_sst.sel(lon=slice(lon_min,lon_max),\n",
    "                    lat=slice(lat_min,lat_max))\n",
    "\n",
    "#Step 2 from above\n",
    "subset.load()"
   ]
  },
  {
   "cell_type": "markdown",
   "metadata": {},
   "source": [
    "# Collocate USV data with MUR data\n",
    "There are different options when you interpolate.  First, let's just do a linear interpolation using [.interp()](http://xarray.pydata.org/en/stable/generated/xarray.Dataset.interp.html#xarray.Dataset.interp)\n",
    "\n",
    "`Dataset.interp(coords=None, method='linear', assume_sorted=False, kwargs={}, **coords_kwargs))`\n",
    "\n"
   ]
  },
  {
   "cell_type": "code",
   "execution_count": 8,
   "metadata": {},
   "outputs": [
    {
     "ename": "IndexError",
     "evalue": "index -1 is out of bounds for axis 0 with size 0",
     "output_type": "error",
     "traceback": [
      "\u001b[0;31m---------------------------------------------------------------------------\u001b[0m",
      "\u001b[0;31mIndexError\u001b[0m                                Traceback (most recent call last)",
      "\u001b[0;32m<ipython-input-8-50a33a8976bb>\u001b[0m in \u001b[0;36m<module>\u001b[0;34m\u001b[0m\n\u001b[0;32m----> 1\u001b[0;31m \u001b[0mds_collocated\u001b[0m \u001b[0;34m=\u001b[0m \u001b[0msubset\u001b[0m\u001b[0;34m.\u001b[0m\u001b[0minterp\u001b[0m\u001b[0;34m(\u001b[0m\u001b[0mlat\u001b[0m\u001b[0;34m=\u001b[0m\u001b[0mds_usv_subset\u001b[0m\u001b[0;34m.\u001b[0m\u001b[0mlat\u001b[0m\u001b[0;34m,\u001b[0m\u001b[0mlon\u001b[0m\u001b[0;34m=\u001b[0m\u001b[0mds_usv_subset\u001b[0m\u001b[0;34m.\u001b[0m\u001b[0mlon\u001b[0m\u001b[0;34m,\u001b[0m\u001b[0mtime\u001b[0m\u001b[0;34m=\u001b[0m\u001b[0mds_usv_subset\u001b[0m\u001b[0;34m.\u001b[0m\u001b[0mtime\u001b[0m\u001b[0;34m,\u001b[0m\u001b[0mmethod\u001b[0m\u001b[0;34m=\u001b[0m\u001b[0;34m'linear'\u001b[0m\u001b[0;34m)\u001b[0m\u001b[0;34m\u001b[0m\u001b[0;34m\u001b[0m\u001b[0m\n\u001b[0m",
      "\u001b[0;32m/srv/conda/envs/notebook/lib/python3.7/site-packages/xarray/core/dataset.py\u001b[0m in \u001b[0;36minterp\u001b[0;34m(self, coords, method, assume_sorted, kwargs, **coords_kwargs)\u001b[0m\n\u001b[1;32m   2191\u001b[0m                     }\n\u001b[1;32m   2192\u001b[0m                     variables[name] = missing.interp(\n\u001b[0;32m-> 2193\u001b[0;31m                         var, var_indexers, method, **kwargs)\n\u001b[0m\u001b[1;32m   2194\u001b[0m                 \u001b[0;32melif\u001b[0m \u001b[0mall\u001b[0m\u001b[0;34m(\u001b[0m\u001b[0md\u001b[0m \u001b[0;32mnot\u001b[0m \u001b[0;32min\u001b[0m \u001b[0mindexers\u001b[0m \u001b[0;32mfor\u001b[0m \u001b[0md\u001b[0m \u001b[0;32min\u001b[0m \u001b[0mvar\u001b[0m\u001b[0;34m.\u001b[0m\u001b[0mdims\u001b[0m\u001b[0;34m)\u001b[0m\u001b[0;34m:\u001b[0m\u001b[0;34m\u001b[0m\u001b[0;34m\u001b[0m\u001b[0m\n\u001b[1;32m   2195\u001b[0m                     \u001b[0;31m# keep unrelated object array\u001b[0m\u001b[0;34m\u001b[0m\u001b[0;34m\u001b[0m\u001b[0;34m\u001b[0m\u001b[0m\n",
      "\u001b[0;32m/srv/conda/envs/notebook/lib/python3.7/site-packages/xarray/core/missing.py\u001b[0m in \u001b[0;36minterp\u001b[0;34m(var, indexes_coords, method, **kwargs)\u001b[0m\n\u001b[1;32m    437\u001b[0m     \u001b[0;31m# simple speed up for the local interpolation\u001b[0m\u001b[0;34m\u001b[0m\u001b[0;34m\u001b[0m\u001b[0;34m\u001b[0m\u001b[0m\n\u001b[1;32m    438\u001b[0m     \u001b[0;32mif\u001b[0m \u001b[0mmethod\u001b[0m \u001b[0;32min\u001b[0m \u001b[0;34m[\u001b[0m\u001b[0;34m'linear'\u001b[0m\u001b[0;34m,\u001b[0m \u001b[0;34m'nearest'\u001b[0m\u001b[0;34m]\u001b[0m\u001b[0;34m:\u001b[0m\u001b[0;34m\u001b[0m\u001b[0;34m\u001b[0m\u001b[0m\n\u001b[0;32m--> 439\u001b[0;31m         \u001b[0mvar\u001b[0m\u001b[0;34m,\u001b[0m \u001b[0mindexes_coords\u001b[0m \u001b[0;34m=\u001b[0m \u001b[0m_localize\u001b[0m\u001b[0;34m(\u001b[0m\u001b[0mvar\u001b[0m\u001b[0;34m,\u001b[0m \u001b[0mindexes_coords\u001b[0m\u001b[0;34m)\u001b[0m\u001b[0;34m\u001b[0m\u001b[0;34m\u001b[0m\u001b[0m\n\u001b[0m\u001b[1;32m    440\u001b[0m \u001b[0;34m\u001b[0m\u001b[0m\n\u001b[1;32m    441\u001b[0m     \u001b[0;31m# default behavior\u001b[0m\u001b[0;34m\u001b[0m\u001b[0;34m\u001b[0m\u001b[0;34m\u001b[0m\u001b[0m\n",
      "\u001b[0;32m/srv/conda/envs/notebook/lib/python3.7/site-packages/xarray/core/missing.py\u001b[0m in \u001b[0;36m_localize\u001b[0;34m(var, indexes_coords)\u001b[0m\n\u001b[1;32m    378\u001b[0m     \u001b[0;32mfor\u001b[0m \u001b[0mdim\u001b[0m\u001b[0;34m,\u001b[0m \u001b[0;34m[\u001b[0m\u001b[0mx\u001b[0m\u001b[0;34m,\u001b[0m \u001b[0mnew_x\u001b[0m\u001b[0;34m]\u001b[0m \u001b[0;32min\u001b[0m \u001b[0mindexes_coords\u001b[0m\u001b[0;34m.\u001b[0m\u001b[0mitems\u001b[0m\u001b[0;34m(\u001b[0m\u001b[0;34m)\u001b[0m\u001b[0;34m:\u001b[0m\u001b[0;34m\u001b[0m\u001b[0;34m\u001b[0m\u001b[0m\n\u001b[1;32m    379\u001b[0m         \u001b[0mindex\u001b[0m \u001b[0;34m=\u001b[0m \u001b[0mx\u001b[0m\u001b[0;34m.\u001b[0m\u001b[0mto_index\u001b[0m\u001b[0;34m(\u001b[0m\u001b[0;34m)\u001b[0m\u001b[0;34m\u001b[0m\u001b[0;34m\u001b[0m\u001b[0m\n\u001b[0;32m--> 380\u001b[0;31m         \u001b[0mimin\u001b[0m \u001b[0;34m=\u001b[0m \u001b[0mindex\u001b[0m\u001b[0;34m.\u001b[0m\u001b[0mget_loc\u001b[0m\u001b[0;34m(\u001b[0m\u001b[0mnp\u001b[0m\u001b[0;34m.\u001b[0m\u001b[0mmin\u001b[0m\u001b[0;34m(\u001b[0m\u001b[0mnew_x\u001b[0m\u001b[0;34m.\u001b[0m\u001b[0mvalues\u001b[0m\u001b[0;34m)\u001b[0m\u001b[0;34m,\u001b[0m \u001b[0mmethod\u001b[0m\u001b[0;34m=\u001b[0m\u001b[0;34m'nearest'\u001b[0m\u001b[0;34m)\u001b[0m\u001b[0;34m\u001b[0m\u001b[0;34m\u001b[0m\u001b[0m\n\u001b[0m\u001b[1;32m    381\u001b[0m         \u001b[0mimax\u001b[0m \u001b[0;34m=\u001b[0m \u001b[0mindex\u001b[0m\u001b[0;34m.\u001b[0m\u001b[0mget_loc\u001b[0m\u001b[0;34m(\u001b[0m\u001b[0mnp\u001b[0m\u001b[0;34m.\u001b[0m\u001b[0mmax\u001b[0m\u001b[0;34m(\u001b[0m\u001b[0mnew_x\u001b[0m\u001b[0;34m.\u001b[0m\u001b[0mvalues\u001b[0m\u001b[0;34m)\u001b[0m\u001b[0;34m,\u001b[0m \u001b[0mmethod\u001b[0m\u001b[0;34m=\u001b[0m\u001b[0;34m'nearest'\u001b[0m\u001b[0;34m)\u001b[0m\u001b[0;34m\u001b[0m\u001b[0;34m\u001b[0m\u001b[0m\n\u001b[1;32m    382\u001b[0m \u001b[0;34m\u001b[0m\u001b[0m\n",
      "\u001b[0;32m/srv/conda/envs/notebook/lib/python3.7/site-packages/pandas/core/indexes/numeric.py\u001b[0m in \u001b[0;36mget_loc\u001b[0;34m(self, key, method, tolerance)\u001b[0m\n\u001b[1;32m    434\u001b[0m             \u001b[0;32mpass\u001b[0m\u001b[0;34m\u001b[0m\u001b[0;34m\u001b[0m\u001b[0m\n\u001b[1;32m    435\u001b[0m         return super(Float64Index, self).get_loc(key, method=method,\n\u001b[0;32m--> 436\u001b[0;31m                                                  tolerance=tolerance)\n\u001b[0m\u001b[1;32m    437\u001b[0m \u001b[0;34m\u001b[0m\u001b[0m\n\u001b[1;32m    438\u001b[0m     \u001b[0;34m@\u001b[0m\u001b[0mcache_readonly\u001b[0m\u001b[0;34m\u001b[0m\u001b[0;34m\u001b[0m\u001b[0m\n",
      "\u001b[0;32m/srv/conda/envs/notebook/lib/python3.7/site-packages/pandas/core/indexes/base.py\u001b[0m in \u001b[0;36mget_loc\u001b[0;34m(self, key, method, tolerance)\u001b[0m\n\u001b[1;32m   2658\u001b[0m             \u001b[0;32mexcept\u001b[0m \u001b[0mKeyError\u001b[0m\u001b[0;34m:\u001b[0m\u001b[0;34m\u001b[0m\u001b[0;34m\u001b[0m\u001b[0m\n\u001b[1;32m   2659\u001b[0m                 \u001b[0;32mreturn\u001b[0m \u001b[0mself\u001b[0m\u001b[0;34m.\u001b[0m\u001b[0m_engine\u001b[0m\u001b[0;34m.\u001b[0m\u001b[0mget_loc\u001b[0m\u001b[0;34m(\u001b[0m\u001b[0mself\u001b[0m\u001b[0;34m.\u001b[0m\u001b[0m_maybe_cast_indexer\u001b[0m\u001b[0;34m(\u001b[0m\u001b[0mkey\u001b[0m\u001b[0;34m)\u001b[0m\u001b[0;34m)\u001b[0m\u001b[0;34m\u001b[0m\u001b[0;34m\u001b[0m\u001b[0m\n\u001b[0;32m-> 2660\u001b[0;31m         \u001b[0mindexer\u001b[0m \u001b[0;34m=\u001b[0m \u001b[0mself\u001b[0m\u001b[0;34m.\u001b[0m\u001b[0mget_indexer\u001b[0m\u001b[0;34m(\u001b[0m\u001b[0;34m[\u001b[0m\u001b[0mkey\u001b[0m\u001b[0;34m]\u001b[0m\u001b[0;34m,\u001b[0m \u001b[0mmethod\u001b[0m\u001b[0;34m=\u001b[0m\u001b[0mmethod\u001b[0m\u001b[0;34m,\u001b[0m \u001b[0mtolerance\u001b[0m\u001b[0;34m=\u001b[0m\u001b[0mtolerance\u001b[0m\u001b[0;34m)\u001b[0m\u001b[0;34m\u001b[0m\u001b[0;34m\u001b[0m\u001b[0m\n\u001b[0m\u001b[1;32m   2661\u001b[0m         \u001b[0;32mif\u001b[0m \u001b[0mindexer\u001b[0m\u001b[0;34m.\u001b[0m\u001b[0mndim\u001b[0m \u001b[0;34m>\u001b[0m \u001b[0;36m1\u001b[0m \u001b[0;32mor\u001b[0m \u001b[0mindexer\u001b[0m\u001b[0;34m.\u001b[0m\u001b[0msize\u001b[0m \u001b[0;34m>\u001b[0m \u001b[0;36m1\u001b[0m\u001b[0;34m:\u001b[0m\u001b[0;34m\u001b[0m\u001b[0;34m\u001b[0m\u001b[0m\n\u001b[1;32m   2662\u001b[0m             \u001b[0;32mraise\u001b[0m \u001b[0mTypeError\u001b[0m\u001b[0;34m(\u001b[0m\u001b[0;34m'get_loc requires scalar valued input'\u001b[0m\u001b[0;34m)\u001b[0m\u001b[0;34m\u001b[0m\u001b[0;34m\u001b[0m\u001b[0m\n",
      "\u001b[0;32m/srv/conda/envs/notebook/lib/python3.7/site-packages/pandas/core/indexes/base.py\u001b[0m in \u001b[0;36mget_indexer\u001b[0;34m(self, target, method, limit, tolerance)\u001b[0m\n\u001b[1;32m   2744\u001b[0m             \u001b[0mindexer\u001b[0m \u001b[0;34m=\u001b[0m \u001b[0mself\u001b[0m\u001b[0;34m.\u001b[0m\u001b[0m_get_fill_indexer\u001b[0m\u001b[0;34m(\u001b[0m\u001b[0mtarget\u001b[0m\u001b[0;34m,\u001b[0m \u001b[0mmethod\u001b[0m\u001b[0;34m,\u001b[0m \u001b[0mlimit\u001b[0m\u001b[0;34m,\u001b[0m \u001b[0mtolerance\u001b[0m\u001b[0;34m)\u001b[0m\u001b[0;34m\u001b[0m\u001b[0;34m\u001b[0m\u001b[0m\n\u001b[1;32m   2745\u001b[0m         \u001b[0;32melif\u001b[0m \u001b[0mmethod\u001b[0m \u001b[0;34m==\u001b[0m \u001b[0;34m'nearest'\u001b[0m\u001b[0;34m:\u001b[0m\u001b[0;34m\u001b[0m\u001b[0;34m\u001b[0m\u001b[0m\n\u001b[0;32m-> 2746\u001b[0;31m             \u001b[0mindexer\u001b[0m \u001b[0;34m=\u001b[0m \u001b[0mself\u001b[0m\u001b[0;34m.\u001b[0m\u001b[0m_get_nearest_indexer\u001b[0m\u001b[0;34m(\u001b[0m\u001b[0mtarget\u001b[0m\u001b[0;34m,\u001b[0m \u001b[0mlimit\u001b[0m\u001b[0;34m,\u001b[0m \u001b[0mtolerance\u001b[0m\u001b[0;34m)\u001b[0m\u001b[0;34m\u001b[0m\u001b[0;34m\u001b[0m\u001b[0m\n\u001b[0m\u001b[1;32m   2747\u001b[0m         \u001b[0;32melse\u001b[0m\u001b[0;34m:\u001b[0m\u001b[0;34m\u001b[0m\u001b[0;34m\u001b[0m\u001b[0m\n\u001b[1;32m   2748\u001b[0m             \u001b[0;32mif\u001b[0m \u001b[0mtolerance\u001b[0m \u001b[0;32mis\u001b[0m \u001b[0;32mnot\u001b[0m \u001b[0;32mNone\u001b[0m\u001b[0;34m:\u001b[0m\u001b[0;34m\u001b[0m\u001b[0;34m\u001b[0m\u001b[0m\n",
      "\u001b[0;32m/srv/conda/envs/notebook/lib/python3.7/site-packages/pandas/core/indexes/base.py\u001b[0m in \u001b[0;36m_get_nearest_indexer\u001b[0;34m(self, target, limit, tolerance)\u001b[0m\n\u001b[1;32m   2819\u001b[0m \u001b[0;34m\u001b[0m\u001b[0m\n\u001b[1;32m   2820\u001b[0m         \u001b[0mtarget\u001b[0m \u001b[0;34m=\u001b[0m \u001b[0mnp\u001b[0m\u001b[0;34m.\u001b[0m\u001b[0masarray\u001b[0m\u001b[0;34m(\u001b[0m\u001b[0mtarget\u001b[0m\u001b[0;34m)\u001b[0m\u001b[0;34m\u001b[0m\u001b[0;34m\u001b[0m\u001b[0m\n\u001b[0;32m-> 2821\u001b[0;31m         \u001b[0mleft_distances\u001b[0m \u001b[0;34m=\u001b[0m \u001b[0mabs\u001b[0m\u001b[0;34m(\u001b[0m\u001b[0mself\u001b[0m\u001b[0;34m.\u001b[0m\u001b[0mvalues\u001b[0m\u001b[0;34m[\u001b[0m\u001b[0mleft_indexer\u001b[0m\u001b[0;34m]\u001b[0m \u001b[0;34m-\u001b[0m \u001b[0mtarget\u001b[0m\u001b[0;34m)\u001b[0m\u001b[0;34m\u001b[0m\u001b[0;34m\u001b[0m\u001b[0m\n\u001b[0m\u001b[1;32m   2822\u001b[0m         \u001b[0mright_distances\u001b[0m \u001b[0;34m=\u001b[0m \u001b[0mabs\u001b[0m\u001b[0;34m(\u001b[0m\u001b[0mself\u001b[0m\u001b[0;34m.\u001b[0m\u001b[0mvalues\u001b[0m\u001b[0;34m[\u001b[0m\u001b[0mright_indexer\u001b[0m\u001b[0;34m]\u001b[0m \u001b[0;34m-\u001b[0m \u001b[0mtarget\u001b[0m\u001b[0;34m)\u001b[0m\u001b[0;34m\u001b[0m\u001b[0;34m\u001b[0m\u001b[0m\n\u001b[1;32m   2823\u001b[0m \u001b[0;34m\u001b[0m\u001b[0m\n",
      "\u001b[0;31mIndexError\u001b[0m: index -1 is out of bounds for axis 0 with size 0"
     ]
    }
   ],
   "source": [
    "ds_collocated = subset.interp(lat=ds_usv_subset.lat,lon=ds_usv_subset.lon,time=ds_usv_subset.time,method='linear')"
   ]
  },
  {
   "cell_type": "markdown",
   "metadata": {},
   "source": [
    "# Collocate USV data with MUR data\n",
    "There are different options when you interpolate.  First, let's just do a nearest point rather than interpolate the data\n",
    "`method = 'nearest'`"
   ]
  },
  {
   "cell_type": "code",
   "execution_count": null,
   "metadata": {},
   "outputs": [],
   "source": [
    "ds_collocated_nearest = subset.interp(lat=ds_usv_subset.lat,lon=ds_usv_subset.lon,time=ds_usv_subset.time,method='nearest')"
   ]
  },
  {
   "cell_type": "markdown",
   "metadata": {},
   "source": [
    "## Now, calculate the different in SSTs and print the [.mean()](http://xarray.pydata.org/en/stable/generated/xarray.DataArray.mean.html#xarray.DataArray.mean) and [.std()](http://xarray.pydata.org/en/stable/generated/xarray.DataArray.std.html#xarray.DataArray.std)\n",
    "For the satellite data we need to use `sst` and for the USV data we need to use `TEMP_CTD_MEAN`"
   ]
  },
  {
   "cell_type": "code",
   "execution_count": null,
   "metadata": {},
   "outputs": [],
   "source": [
    "dif = ds_collocated_nearest.sst-ds_usv.TEMP_CTD_MEAN\n",
    "print('mean difference = ',dif.mean().data)\n",
    "print('STD = ',dif.std().data)"
   ]
  },
  {
   "cell_type": "markdown",
   "metadata": {},
   "source": [
    "# A larger STD that isn't reflective of uncertainty in the observation\n",
    "The collocation above will result in multiple USV data points matched with a single satellite\n",
    "observation.    The USV is sampling every 1 min and approximately few meters, while the satellite\n",
    "is an average over a footprint that is interpolated onto a daily mean map.  While calculating the mean would results in a valid mean, the STD would be higher and consist of a component that reflects the uncertainty of the USV and the satellite and a component that reflects the natural variability in the region that is sampled by the USV\n",
    "\n",
    "Below we use the 'nearest' collocation results to identify when multiple USV data are collcated to\n",
    "a single satellite observation.\n",
    "This code goes through the data and creates averages of the USV data that match the single CCMP collocated value.\n"
   ]
  },
  {
   "cell_type": "code",
   "execution_count": null,
   "metadata": {},
   "outputs": [],
   "source": [
    "ilen,index = ds_collocated_nearest.dims['time'],0\n",
    "ds_tem = ds_collocated_nearest.copy(deep=True)\n",
    "duu, duv1, duv2, dlat, dlon, dut = [],[],[],[],[],np.empty((),dtype='datetime64')\n",
    "while index <= ilen-2:\n",
    "    index += 1\n",
    "    if np.isnan(ds_collocated_nearest.analysed_sst[index]):\n",
    "        continue\n",
    "    if np.isnan(ds_tem.analysed_sst[index]):\n",
    "        continue\n",
    "   # print(index, ilen)\n",
    "    iend = index + 1000\n",
    "    if iend > ilen-1:\n",
    "        iend = ilen-1\n",
    "    ds_tem_subset = ds_tem.analysed_sst[index:iend]\n",
    "    ds_usv_subset2sst = ds_usv_subset.TEMP_CTD_MEAN[index:iend]\n",
    "    ds_usv_subset2uwnd = ds_usv_subset.UWND_MEAN[index:iend]\n",
    "    ds_usv_subset2vwnd = ds_usv_subset.VWND_MEAN[index:iend]\n",
    "    ds_usv_subset2lat = ds_usv_subset.lat[index:iend]\n",
    "    ds_usv_subset2lon = ds_usv_subset.lon[index:iend]\n",
    "    ds_usv_subset2time = ds_usv_subset.time[index:iend]\n",
    "    cond = ((ds_tem_subset==ds_collocated_nearest.analysed_sst[index]))\n",
    "    notcond = np.logical_not(cond)\n",
    "    #cond = ((ds_tem.analysed_sst==ds_collocated_nearest.analysed_sst[index]))\n",
    "    #notcond = np.logical_not(cond)\n",
    "    masked = ds_tem_subset.where(cond)\n",
    "    if cond.sum().data==0:  #don't do if data not found\n",
    "        continue\n",
    "    if cond.sum().data>800:\n",
    "        print(cond.sum().data,index,ds_tem.time[index].data)\n",
    "    masked_usvsst = ds_usv_subset2sst.where(cond,drop=True)\n",
    "    masked_usvuwnd = ds_usv_subset2uwnd.where(cond,drop=True)\n",
    "    masked_usvvwnd = ds_usv_subset2vwnd.where(cond,drop=True)\n",
    "    masked_usvlat = ds_usv_subset2lat.where(cond,drop=True)\n",
    "    masked_usvlon = ds_usv_subset2lon.where(cond,drop=True)\n",
    "    masked_usvtime = ds_usv_subset2time.where(cond,drop=True)\n",
    "    duu=np.append(duu,masked_usvsst.mean().data)\n",
    "    duv1=np.append(duv1,masked_usvuwnd.mean().data)\n",
    "    duv2=np.append(duv2,masked_usvvwnd.mean().data)\n",
    "    dlat=np.append(dlat,masked_usvlat.mean().data)\n",
    "    dlon=np.append(dlon,masked_usvlon.mean().data)\n",
    "    tdif = masked_usvtime[-1].data-masked_usvtime[0].data\n",
    "    mtime=masked_usvtime[0].data+np.timedelta64(tdif/2,'ns')\n",
    "    if mtime>dut.max():\n",
    "        print(index,masked_usvtime[0].data,(masked_usvtime[-1].data-masked_usvtime[0].data)/1e9)\n",
    "    dut=np.append(dut,mtime)\n",
    "    ds_tem.analysed_sst[index:iend]=ds_tem.analysed_sst.where(notcond)\n",
    "#    ds_tem=ds_tem.where(notcond,np.nan)  #masked used values by setting to nan\n",
    "dut2 = dut[1:]  #remove first data point which is a repeat from what array defined    \n",
    "ds_new=xr.Dataset(data_vars={'sst_usv': ('time',duu),'uwnd_usv': ('time',duv1),'vwnd_usv': ('time',duv2),\n",
    "                             'lon': ('time',dlon),\n",
    "                             'lat': ('time',dlat)},\n",
    "                  coords={'time':dut2})\n",
    "#ds_new.to_netcdf('F:/data/cruise_data/saildrone/baja-2018/mur_downsampled_usv_data2.nc')"
   ]
  },
  {
   "cell_type": "code",
   "execution_count": null,
   "metadata": {},
   "outputs": [],
   "source": [
    "dif = ds_collocated_nearest.sst-ds_usv.TEMP_CTD_MEAN\n",
    "print('mean difference = ',dif.mean().data)\n",
    "print('STD = ',dif.std().data)\n"
   ]
  },
  {
   "cell_type": "code",
   "execution_count": null,
   "metadata": {},
   "outputs": [],
   "source": []
  }
 ],
 "metadata": {
  "anaconda-cloud": {},
  "celltoolbar": "Raw Cell Format",
  "kernelspec": {
   "display_name": "Python 3",
   "language": "python",
   "name": "python3"
  },
  "language_info": {
   "codemirror_mode": {
    "name": "ipython",
    "version": 3
   },
   "file_extension": ".py",
   "mimetype": "text/x-python",
   "name": "python",
   "nbconvert_exporter": "python",
   "pygments_lexer": "ipython3",
   "version": "3.7.3"
  }
 },
 "nbformat": 4,
 "nbformat_minor": 4
}
