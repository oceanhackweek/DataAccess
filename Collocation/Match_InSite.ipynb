{
 "cells": [
  {
   "cell_type": "markdown",
   "metadata": {},
   "source": [
    "# [SC57 - Working with big, multi-dimensional geoscientific datasets in Python: a tutorial introduction to xarray](http://meetingorganizer.copernicus.org/EGU2017/session/25651)  \n",
    "  \n",
    "  \n",
    "Original notebook by [Stephan Hoyer](http://stephanhoyer.com), Rossbypalooza, 2016.  \n",
    "Modified by Edward Byers, Matthew Gidden and [Fabien Maussion](http://fabienmaussion.info/) for EGU General Assembly 2017, Vienna, Austria\n",
    "Modified by C. Gentemann for GHRSST Science Team Tutorial 2019, Rome, Italy\n",
    "Modified to include podaacpy by C.Gentemann with help from @lewismc for OceanObs19\n",
    "  \n",
    "**Convenors**\n",
    "* [Dr Chelle Gentemann](mailto:gentemann@esr.org)    - Earth and Space Research, USA\n",
    "* [Dr Marisol Garcia-Reyes](mailto:marisolgr@faralloninstitute.org)  - Farallon Institute, USA \n",
    "-------------"
   ]
  },
  {
   "cell_type": "markdown",
   "metadata": {},
   "source": [
    "# Structure of this tutorial\n",
    "\n",
    "1. Opening data\n",
    "1. Collocating satellite data with a cruise dataset\n",
    "\n"
   ]
  },
  {
   "cell_type": "markdown",
   "metadata": {},
   "source": [
    "# 1. Key features of `xarray`"
   ]
  },
  {
   "cell_type": "markdown",
   "metadata": {
    "slideshow": {
     "slide_type": "slide"
    }
   },
   "source": [
    "-------------------\n",
    "\n",
    "## Import python packages\n",
    "\n",
    "You are going to want numpy, pandas, matplotlib.pyplot and xarray"
   ]
  },
  {
   "cell_type": "code",
   "execution_count": 1,
   "metadata": {},
   "outputs": [],
   "source": [
    "import warnings\n",
    "warnings.simplefilter('ignore') # filter some warning messages\n",
    "\n",
    "import numpy as np\n",
    "import pandas as pd\n",
    "import matplotlib.pyplot as plt\n",
    "import matplotlib.pyplot as plt\n",
    "import matplotlib.colors as colors\n",
    "\n",
    "import cmocean\n",
    "from pyproj import Proj\n",
    "import xarray as xr\n",
    "import cartopy.crs as ccrs\n",
    "\n",
    "\n",
    "#for search capabilites import podaacpy\n",
    "import podaac.podaac as podaac\n",
    "import podaac.podaac_utils as putil\n",
    "# then create an instance of the Podaac class\n",
    "p = podaac.Podaac()"
   ]
  },
  {
   "cell_type": "markdown",
   "metadata": {},
   "source": [
    "## A nice cartopy tutorial is [here](http://earthpy.org/tag/visualization.html)"
   ]
  },
  {
   "cell_type": "markdown",
   "metadata": {},
   "source": [
    "# Collocate a Saildrone cruise with PODAAC MUR SST data"
   ]
  },
  {
   "cell_type": "markdown",
   "metadata": {},
   "source": [
    "### The Saildrone cruise is 2 months long.  The MUR SST data is daily 1 km global SSTs"
   ]
  },
  {
   "cell_type": "markdown",
   "metadata": {},
   "source": [
    "`xarray`can open multiple files at once using string pattern matching.  \n",
    "  \n",
    "  In this case we open all the files that match our `filestr`, i.e. all the files for the 2080s. \n",
    "  \n",
    "  Each of these files (compressed) is approximately 800 MB."
   ]
  },
  {
   "cell_type": "markdown",
   "metadata": {},
   "source": [
    "# Collocating Saildrone cruise data with MUR SSTs \n",
    "\n",
    "* read in the Saildrone data "
   ]
  },
  {
   "cell_type": "code",
   "execution_count": 2,
   "metadata": {},
   "outputs": [
    {
     "data": {
      "text/plain": [
       "<xarray.Dataset>\n",
       "Dimensions:               (obs: 86839, trajectory: 1)\n",
       "Coordinates:\n",
       "  * trajectory            (trajectory) float32 1002.0\n",
       "    time                  (trajectory, obs) datetime64[ns] ...\n",
       "    latitude              (trajectory, obs) float64 ...\n",
       "    longitude             (trajectory, obs) float64 ...\n",
       "Dimensions without coordinates: obs\n",
       "Data variables:\n",
       "    SOG                   (trajectory, obs) float64 ...\n",
       "    COG                   (trajectory, obs) float64 ...\n",
       "    HDG                   (trajectory, obs) float64 ...\n",
       "    HDG_WING              (trajectory, obs) float64 ...\n",
       "    ROLL                  (trajectory, obs) float64 ...\n",
       "    PITCH                 (trajectory, obs) float64 ...\n",
       "    WING_ANGLE            (trajectory, obs) float64 ...\n",
       "    BARO_PRES_MEAN        (trajectory, obs) float64 ...\n",
       "    BARO_PRES_STDDEV      (trajectory, obs) float64 ...\n",
       "    TEMP_AIR_MEAN         (trajectory, obs) float64 ...\n",
       "    TEMP_AIR_STDDEV       (trajectory, obs) float64 ...\n",
       "    RH_MEAN               (trajectory, obs) float64 ...\n",
       "    RH_STDDEV             (trajectory, obs) float64 ...\n",
       "    TEMP_IR_UNCOR_MEAN    (trajectory, obs) float64 ...\n",
       "    TEMP_IR_UNCOR_STDDEV  (trajectory, obs) float64 ...\n",
       "    UWND_MEAN             (trajectory, obs) float64 ...\n",
       "    UWND_STDDEV           (trajectory, obs) float64 ...\n",
       "    VWND_MEAN             (trajectory, obs) float64 ...\n",
       "    VWND_STDDEV           (trajectory, obs) float64 ...\n",
       "    WWND_MEAN             (trajectory, obs) float64 ...\n",
       "    WWND_STDDEV           (trajectory, obs) float64 ...\n",
       "    GUST_WND_MEAN         (trajectory, obs) float64 ...\n",
       "    GUST_WND_STDDEV       (trajectory, obs) float64 ...\n",
       "    TEMP_CTD_MEAN         (trajectory, obs) float64 ...\n",
       "    TEMP_CTD_STDDEV       (trajectory, obs) float64 ...\n",
       "    COND_MEAN             (trajectory, obs) float64 ...\n",
       "    COND_STDDEV           (trajectory, obs) float64 ...\n",
       "    SAL_MEAN              (trajectory, obs) float64 ...\n",
       "    SAL_STDDEV            (trajectory, obs) float64 ...\n",
       "    O2_CONC_UNCOR_MEAN    (trajectory, obs) float64 ...\n",
       "    O2_CONC_UNCOR_STDDEV  (trajectory, obs) float64 ...\n",
       "    O2_SAT_MEAN           (trajectory, obs) float64 ...\n",
       "    O2_SAT_STDDEV         (trajectory, obs) float64 ...\n",
       "    TEMP_O2_MEAN          (trajectory, obs) float64 ...\n",
       "    TEMP_O2_STDDEV        (trajectory, obs) float64 ...\n",
       "    CHLOR_MEAN            (trajectory, obs) float64 ...\n",
       "    CHLOR_STDDEV          (trajectory, obs) float64 ...\n",
       "    CDOM_MEAN             (trajectory, obs) float64 ...\n",
       "    CDOM_STDDEV           (trajectory, obs) float64 ...\n",
       "    BKSCT_RED_MEAN        (trajectory, obs) float64 ...\n",
       "    BKSCT_RED_STDDEV      (trajectory, obs) float64 ...\n",
       "Attributes:\n",
       "    _NCProperties:             version=1|netcdflibversion=4.4.1.1|hdf5libvers...\n",
       "    title:                     Baja 2018 Near-Real-Time Mission Data\n",
       "    ncei_template_version:     NCEI_NetCDF_Trajectory_Template_v2.0\n",
       "    Conventions:               CF-1.6, ACDD-1.3\n",
       "    netcdf_version:            4.4.1.1\n",
       "    featureType:               trajectory\n",
       "    cdm_data_type:             Trajectory\n",
       "    standard_name_vocabulary:  CF Standard Name Table v58\n",
       "    description:               Saildrone NetCDF Format\n",
       "    creator_name:              Saildrone\n",
       "    platform:                  Saildrone\n",
       "    institution:               Saildrone\n",
       "    creator_email:             support@saildrone.com\n",
       "    creator_url:               http://saildrone.com/\n",
       "    date_created:              2018-08-29T21:02:49.774718Z\n",
       "    interval:                  60.0\n",
       "    time_coverage_resolution:  PT1M\n",
       "    time_coverage_start:       2018-04-11T18:00:00.000000Z\n",
       "    time_coverage_end:         2018-06-11T05:59:59.000000Z\n",
       "    time_coverage_duration:    P60DT11H59M59S\n",
       "    data_mode:                 realtime\n",
       "    drone_id:                  1002\n",
       "    id:                        3860\n",
       "    naming_authority:          com.saildrone\n",
       "    uuid:                      b98a9a81-d9f0-4751-aad6-8ea5b8cea963\n",
       "    geospatial_lat_min:        28.0176832\n",
       "    geospatial_lat_max:        37.8174912\n",
       "    geospatial_lat_units:      degrees_north\n",
       "    geospatial_lon_min:        -125.5529728\n",
       "    geospatial_lon_max:        -115.5226624\n",
       "    geospatial_lon_units:      degrees_east\n",
       "    area:                      Baja California Coast\n",
       "    project:                   baja_2018\n",
       "    product_version:           1\n",
       "    summary:                   The Saildrone unmanned surface vehicle (USV) c..."
      ]
     },
     "execution_count": 2,
     "metadata": {},
     "output_type": "execute_result"
    }
   ],
   "source": [
    "url = 'https://podaac-opendap.jpl.nasa.gov/opendap/hyrax/allData/insitu/L2/saildrone/Baja/saildrone-gen_4-baja_2018-sd1002-20180411T180000-20180611T055959-1_minutes-v1.nc'\n",
    "ds_usv = xr.open_dataset(url)\n",
    "ds_usv"
   ]
  },
  {
   "cell_type": "markdown",
   "metadata": {},
   "source": [
    "Input in the start and end time manually"
   ]
  },
  {
   "cell_type": "code",
   "execution_count": 3,
   "metadata": {},
   "outputs": [],
   "source": [
    "str_start_time = '2018-04-12'\n",
    "str_end_time = '2018-06-10'\n",
    "str_start_time = '2018-04-12T02'\n",
    "str_end_time = '2018-06-10T18'"
   ]
  },
  {
   "cell_type": "code",
   "execution_count": 4,
   "metadata": {},
   "outputs": [
    {
     "name": "stdout",
     "output_type": "stream",
     "text": [
      "start:  2018-04-11T18:04:00Z end:  2018-06-11T05:06:00Z\n"
     ]
    }
   ],
   "source": [
    "ds_usv2 = ds_usv.isel(trajectory=0).swap_dims({'obs':'time'}).rename({'longitude':'lon','latitude':'lat'})\n",
    "ds_usv_subset = ds_usv2.sel(time=slice(str_start_time,str_end_time)) \n",
    "start_time=pd.to_datetime(str(ds_usv2.time.min().data)).strftime('%Y-%m-%dT%H:%m:%SZ') \n",
    "end_time=pd.to_datetime(str(ds_usv2.time.max().data)).strftime('%Y-%m-%dT%H:%m:%SZ') \n",
    "ds_usv_subset\n",
    "print('start: ',start_time,'end: ',end_time)"
   ]
  },
  {
   "cell_type": "code",
   "execution_count": 8,
   "metadata": {},
   "outputs": [
    {
     "data": {
      "text/plain": [
       "Text(0, 0.5, 'Latitude')"
      ]
     },
     "execution_count": 8,
     "metadata": {},
     "output_type": "execute_result"
    },
    {
     "data": {
      "image/png": "[encoded data removed]",
      "text/plain": [
       "<Figure size 432x288 with 2 Axes>"
      ]
     },
     "metadata": {
      "needs_background": "light"
     },
     "output_type": "display_data"
    }
   ],
   "source": [
    "font = {'size' : 16}\n",
    "plt.rc('font', **font)\n",
    "ax = plt.axes(projection=ccrs.PlateCarree())\n",
    "cs1 = ax.scatter(ds_usv_subset.lon, ds_usv_subset.lat, s=3.0, c=ds_usv_subset.CHLOR_MEAN, edgecolor='none', cmap='jet')\n",
    "ax.coastlines()\n",
    "x1,x2,y1,y2 = -128,-112,25,40\n",
    "ax.set_xlim(x1,x2)\n",
    "ax.set_ylim(y1,y2)\n",
    "ax.set_xticks(np.arange(x1,x2,4))\n",
    "ax.set_yticks(np.arange(y1,y2,5))\n",
    "cax = plt.colorbar(cs1)\n",
    "cax.set_label('Mean Chlorophyll')\n",
    "plt.xlabel('Longitude')\n",
    "plt.ylabel('Latitude')"
   ]
  },
  {
   "cell_type": "markdown",
   "metadata": {
    "slideshow": {
     "slide_type": "slide"
    }
   },
   "source": [
    "Collocate with Ocean Color Observations\n",
    "\n",
    "Input "
   ]
  },
  {
   "cell_type": "code",
   "execution_count": 5,
   "metadata": {},
   "outputs": [],
   "source": [
    "## YYYY-MM-DD\n",
    "start_date = np.datetime64(str_start_time[:10])\n",
    "end_date   = np.datetime64(str_end_time[:10])\n",
    "\n",
    "num_days = (end_date - start_date).tolist().days\n",
    "\n",
    "# Track which days are kept\n",
    "the_days = []\n",
    "\n",
    "# variable to load\n",
    "VAR = 'CHL'\n",
    "\n",
    "# algorithm\n",
    "ALG = 'chl_ocx'\n",
    "\n",
    "# Binning period\n",
    "BIN = '8D'  # DAY, 8D, MO, R32\n",
    "\n",
    "# Spatial resolution\n",
    "SRES = '9km'   # 4km, 9km\n",
    "\n"
   ]
  },
  {
   "cell_type": "code",
   "execution_count": 6,
   "metadata": {},
   "outputs": [
    {
     "name": "stdout",
     "output_type": "stream",
     "text": [
      "dap_urls containts 7 urls for CHL data.\n"
     ]
    }
   ],
   "source": [
    "dap_urls = []\n",
    "\n",
    "url_base = \"https://oceandata.sci.gsfc.nasa.gov:443/opendap/MODISA/L3SMI/\"\n",
    "\n",
    "\n",
    "for ii in range(num_days):\n",
    "    \n",
    "    curr_date = start_date + ii\n",
    "    \n",
    "    curr_year = curr_date.tolist().year\n",
    "    ref_date = np.datetime64('{0:d}-01-01'.format(curr_year))\n",
    "    \n",
    "    day_num = 1 + (curr_date - ref_date).tolist().days\n",
    "    \n",
    "    # We need to change the formatting a bit depending on the binning\n",
    "    do = True\n",
    "    if BIN == 'DAY':\n",
    "        time_str = 'A{0:d}{1:03d}'.format(curr_year, day_num)\n",
    "    elif BIN == '8D':\n",
    "        if (int(day_num) - 1) % 8 == 0:\n",
    "            targ_day = day_num + 7\n",
    "            if targ_day > 365:\n",
    "                targ_day = 365\n",
    "            \n",
    "            time_str = 'A{0:d}{1:03d}{2:d}{3:03d}'.format(curr_year, day_num, curr_year, targ_day)\n",
    "        else:\n",
    "            # There isn't an 8D set starting here\n",
    "            do = False\n",
    "    \n",
    "    if do:\n",
    "        file_url = url_base + \\\n",
    "                '{0:d}/{1:03d}/{2}'.format(curr_year, day_num, time_str) + \\\n",
    "                '.L3m_{0}_{1}_{2}_{3}'.format(BIN, VAR, ALG, SRES) + \\\n",
    "                '.nc'\n",
    "    \n",
    "        dap_urls += [file_url]\n",
    "        \n",
    "        the_days += [curr_date]\n",
    "    \n",
    "print('dap_urls containts {0:d} urls for {1} data.'.format(len(dap_urls), VAR))"
   ]
  },
  {
   "cell_type": "code",
   "execution_count": 7,
   "metadata": {},
   "outputs": [],
   "source": [
    "#test that the file you generate actually opens data by loading one time point\n",
    "#single_set = xr.open_dataset(dap_urls[0])"
   ]
  },
  {
   "cell_type": "code",
   "execution_count": 8,
   "metadata": {},
   "outputs": [],
   "source": [
    "#dataset_id = 'PODAAC-GHGMR-4FJ04'  #MUR SST looked up on podaac website\n",
    "dataset_id = 'PODAAC-GHK10-41N01'  #smaller data\n",
    "gresult = p.granule_search(dataset_id=dataset_id,\n",
    "                           start_time=start_time,\n",
    "                           end_time=end_time,\n",
    "                           items_per_page='100')\n",
    "urls = putil.PodaacUtils.mine_opendap_urls_from_granule_search(gresult)\n",
    "urls = [w[:-5] for w in urls]  #remove html from urls"
   ]
  },
  {
   "cell_type": "code",
   "execution_count": 9,
   "metadata": {},
   "outputs": [],
   "source": [
    "ds_sst = xr.open_mfdataset(urls,coords='minimal')\n",
    "#ds_sst"
   ]
  },
  {
   "cell_type": "markdown",
   "metadata": {},
   "source": [
    "How big is all this data uncompressed? Will it fit into memory?\n",
    "Use `.nbytes` / 1e9  to convert it into gigabytes"
   ]
  },
  {
   "cell_type": "code",
   "execution_count": 10,
   "metadata": {},
   "outputs": [
    {
     "data": {
      "text/plain": [
       "4.0198541"
      ]
     },
     "execution_count": 10,
     "metadata": {},
     "output_type": "execute_result"
    }
   ],
   "source": [
    "ds_sst.nbytes / 1e9  "
   ]
  },
  {
   "cell_type": "markdown",
   "metadata": {},
   "source": [
    "## The NCEI trajectory format uses 'obs' as the coordinate.  This is an example of an 'older' style of data formatting that doesn't really mesh well with modern software capabilities. \n",
    "\n",
    "* So, let's change that by using [.swap_dims](http://xarray.pydata.org/en/stable/generated/xarray.DataArray.swap_dims.html) to change the coordinate from `obs` to `time`\n",
    "* Another thing, `latitude` and `longitude` are just long and annoying, lets [.rename](http://xarray.pydata.org/en/stable/generated/xarray.Dataset.rename.html) them to `lat` and `lon`\n",
    "\n",
    "* Finally, the first and last part of the cruise the USV is being towed, so let's only include data from `2018-04-12T02` to `2018-06-10T18`\n"
   ]
  },
  {
   "cell_type": "markdown",
   "metadata": {},
   "source": [
    "# Xarray interpolation won't run on chunked dimensions.  \n",
    "1. First let's subset the data to make it smaller to deal with by using the cruise lat/lons\n",
    "    * Find the max/min of the lat/lon using `.lon.min().data`\n",
    "\n",
    "1. Now load the data into memory (de-Dask-ify) it using `.load()`  \n"
   ]
  },
  {
   "cell_type": "code",
   "execution_count": 11,
   "metadata": {},
   "outputs": [
    {
     "name": "stdout",
     "output_type": "stream",
     "text": [
      "min max lat lon: -125.55297279999999 -115.5226624 28.0176832 37.6797408\n"
     ]
    }
   ],
   "source": [
    "#Step 1 from above\n",
    "print('min max lat lon:', ds_usv_subset.lon.min().data,ds_usv_subset.lon.max().data,ds_usv_subset.lat.min().data,ds_usv_subset.lat.max().data)\n",
    "lon_min,lon_max = ds_usv_subset.lon.min().data,ds_usv_subset.lon.max().data\n",
    "lat_min,lat_max = ds_usv_subset.lat.min().data,ds_usv_subset.lat.max().data\n",
    "subset_sst = ds_sst.sel(lon=slice(lon_min,lon_max),\n",
    "                  lat=slice(lat_max,lat_min))\n",
    "\n"
   ]
  },
  {
   "cell_type": "code",
   "execution_count": 12,
   "metadata": {},
   "outputs": [
    {
     "data": {
      "text/plain": [
       "<xarray.Dataset>\n",
       "Dimensions:  (eightbitcolor: 256, lat: 116, lon: 121, rgb: 3, time: 7)\n",
       "Coordinates:\n",
       "  * lat      (lat) float32 37.624996 37.541664 37.458332 ... 28.124998 28.041666\n",
       "  * lon      (lon) float32 -125.541664 -125.458336 ... -115.625 -115.541664\n",
       "  * time     (time) datetime64[ns] 2018-04-15 2018-04-23 ... 2018-06-02\n",
       "Dimensions without coordinates: eightbitcolor, rgb\n",
       "Data variables:\n",
       "    palette  (time, rgb, eightbitcolor) int8 -109 0 108 -112 0 111 ... 0 0 0 0 0\n",
       "    chl_ocx  (time, lat, lon) float32 0.33946106 0.40241784 ... 1.282373\n",
       "Attributes:\n",
       "    _NCProperties:                     version=1|netcdflibversion=4.4.1.1|hdf...\n",
       "    product_name:                      A20181052018112.L3m_8D_CHL_chl_ocx_9km.nc\n",
       "    instrument:                        MODIS\n",
       "    title:                             MODISA Level-3 Standard Mapped Image\n",
       "    project:                           Ocean Biology Processing Group (NASA/G...\n",
       "    platform:                          Aqua\n",
       "    temporal_range:                    8-day\n",
       "    processing_version:                2018.0\n",
       "    date_created:                      2018-06-05T21:48:03.000Z\n",
       "    history:                           l3mapgen par=A20181052018112.L3m_8D_CH...\n",
       "    l2_flag_names:                     ATMFAIL,LAND,HILT,HISATZEN,STRAYLIGHT,...\n",
       "    time_coverage_start:               2018-04-15T00:40:01.000Z\n",
       "    time_coverage_end:                 2018-04-23T03:00:00.000Z\n",
       "    start_orbit_number:                84824\n",
       "    end_orbit_number:                  84941\n",
       "    map_projection:                    Equidistant Cylindrical\n",
       "    latitude_units:                    degrees_north\n",
       "    longitude_units:                   degrees_east\n",
       "    northernmost_latitude:             90.0\n",
       "    southernmost_latitude:             -90.0\n",
       "    westernmost_longitude:             -180.0\n",
       "    easternmost_longitude:             180.0\n",
       "    geospatial_lat_max:                90.0\n",
       "    geospatial_lat_min:                -90.0\n",
       "    geospatial_lon_max:                180.0\n",
       "    geospatial_lon_min:                -180.0\n",
       "    grid_mapping_name:                 latitude_longitude\n",
       "    latitude_step:                     0.083333336\n",
       "    longitude_step:                    0.083333336\n",
       "    sw_point_latitude:                 -89.958336\n",
       "    sw_point_longitude:                -179.95833\n",
       "    geospatial_lon_resolution:         9.276625\n",
       "    geospatial_lat_resolution:         9.276625\n",
       "    geospatial_lat_units:              degrees_north\n",
       "    geospatial_lon_units:              degrees_east\n",
       "    spatialResolution:                 9.28 km\n",
       "    number_of_lines:                   2160\n",
       "    number_of_columns:                 4320\n",
       "    measure:                           Mean\n",
       "    suggested_image_scaling_minimum:   0.01\n",
       "    suggested_image_scaling_maximum:   20.0\n",
       "    suggested_image_scaling_type:      LOG\n",
       "    suggested_image_scaling_applied:   No\n",
       "    _lastModified:                     2018-06-05T21:48:03.000Z\n",
       "    Conventions:                       CF-1.6 ACDD-1.3\n",
       "    institution:                       NASA Goddard Space Flight Center, Ocea...\n",
       "    standard_name_vocabulary:          CF Standard Name Table v36\n",
       "    naming_authority:                  gov.nasa.gsfc.sci.oceandata\n",
       "    id:                                A20181052018112.L3b_8D_CHL.nc/L3/A2018...\n",
       "    license:                           http://science.nasa.gov/earth-science/...\n",
       "    creator_name:                      NASA/GSFC/OBPG\n",
       "    publisher_name:                    NASA/GSFC/OBPG\n",
       "    creator_email:                     data@oceancolor.gsfc.nasa.gov\n",
       "    publisher_email:                   data@oceancolor.gsfc.nasa.gov\n",
       "    creator_url:                       http://oceandata.sci.gsfc.nasa.gov\n",
       "    publisher_url:                     http://oceandata.sci.gsfc.nasa.gov\n",
       "    processing_level:                  L3 Mapped\n",
       "    cdm_data_type:                     grid\n",
       "    identifier_product_doi_authority:  http://dx.doi.org\n",
       "    identifier_product_doi:            10.5067/AQUA/MODIS/L3M/CHL/2018\n",
       "    keywords:                          Earth Science > Oceans > Ocean Chemist...\n",
       "    keywords_vocabulary:               NASA Global Change Master Directory (G...\n",
       "    data_bins:                         2875647\n",
       "    data_minimum:                      0.001\n",
       "    data_maximum:                      99.24475"
      ]
     },
     "execution_count": 12,
     "metadata": {},
     "output_type": "execute_result"
    }
   ],
   "source": [
    "\n",
    "def preprocess_set(dset, time):\n",
    "    return dset.sel(lon=slice(lon_min,lon_max),lat=slice(lat_max,lat_min))\n",
    "\n",
    "data_sets = [preprocess_set(xr.open_dataset(url), ind) \\\n",
    "             for (url,ind) \\\n",
    "             in zip(dap_urls, np.arange(num_days))]\n",
    "\n",
    "time_array = xr.DataArray(the_days, None, 'time', 'time')\n",
    "\n",
    "subset_chl = xr.concat(data_sets, time_array)\n",
    "\n",
    "\n",
    "#Step 2 from above\n",
    "subset_sst.load()\n",
    "subset_chl.load()"
   ]
  },
  {
   "cell_type": "markdown",
   "metadata": {},
   "source": [
    "# Collocate USV data with MUR data and Ocean Color Data\n",
    "There are different options when you interpolate.  First, let's just do a linear interpolation using [.interp()](http://xarray.pydata.org/en/stable/generated/xarray.Dataset.interp.html#xarray.Dataset.interp)\n",
    "\n",
    "`Dataset.interp(coords=None, method='linear', assume_sorted=False, kwargs={}, **coords_kwargs))`\n",
    "\n"
   ]
  },
  {
   "cell_type": "code",
   "execution_count": 13,
   "metadata": {},
   "outputs": [
    {
     "data": {
      "text/plain": [
       "<xarray.DataArray 'time' (time: 62)>\n",
       "array(['2018-04-12T00:00:00.000000000', '2018-04-13T00:00:00.000000000',\n",
       "       '2018-04-14T00:00:00.000000000', '2018-04-15T00:00:00.000000000',\n",
       "       '2018-04-16T00:00:00.000000000', '2018-04-17T00:00:00.000000000',\n",
       "       '2018-04-18T00:00:00.000000000', '2018-04-19T00:00:00.000000000',\n",
       "       '2018-04-20T00:00:00.000000000', '2018-04-21T00:00:00.000000000',\n",
       "       '2018-04-22T00:00:00.000000000', '2018-04-23T00:00:00.000000000',\n",
       "       '2018-04-24T00:00:00.000000000', '2018-04-25T00:00:00.000000000',\n",
       "       '2018-04-26T00:00:00.000000000', '2018-04-27T00:00:00.000000000',\n",
       "       '2018-04-28T00:00:00.000000000', '2018-04-29T00:00:00.000000000',\n",
       "       '2018-04-30T00:00:00.000000000', '2018-05-01T00:00:00.000000000',\n",
       "       '2018-05-02T00:00:00.000000000', '2018-05-03T00:00:00.000000000',\n",
       "       '2018-05-04T00:00:00.000000000', '2018-05-05T00:00:00.000000000',\n",
       "       '2018-05-06T00:00:00.000000000', '2018-05-07T00:00:00.000000000',\n",
       "       '2018-05-08T00:00:00.000000000', '2018-05-09T00:00:00.000000000',\n",
       "       '2018-05-10T00:00:00.000000000', '2018-05-11T00:00:00.000000000',\n",
       "       '2018-05-12T00:00:00.000000000', '2018-05-13T00:00:00.000000000',\n",
       "       '2018-05-14T00:00:00.000000000', '2018-05-15T00:00:00.000000000',\n",
       "       '2018-05-16T00:00:00.000000000', '2018-05-17T00:00:00.000000000',\n",
       "       '2018-05-18T00:00:00.000000000', '2018-05-19T00:00:00.000000000',\n",
       "       '2018-05-20T00:00:00.000000000', '2018-05-21T00:00:00.000000000',\n",
       "       '2018-05-22T00:00:00.000000000', '2018-05-23T00:00:00.000000000',\n",
       "       '2018-05-24T00:00:00.000000000', '2018-05-25T00:00:00.000000000',\n",
       "       '2018-05-26T00:00:00.000000000', '2018-05-27T00:00:00.000000000',\n",
       "       '2018-05-28T00:00:00.000000000', '2018-05-29T00:00:00.000000000',\n",
       "       '2018-05-30T00:00:00.000000000', '2018-05-31T00:00:00.000000000',\n",
       "       '2018-06-01T00:00:00.000000000', '2018-06-02T00:00:00.000000000',\n",
       "       '2018-06-03T00:00:00.000000000', '2018-06-04T00:00:00.000000000',\n",
       "       '2018-06-05T00:00:00.000000000', '2018-06-06T00:00:00.000000000',\n",
       "       '2018-06-07T00:00:00.000000000', '2018-06-08T00:00:00.000000000',\n",
       "       '2018-06-09T00:00:00.000000000', '2018-06-10T00:00:00.000000000',\n",
       "       '2018-06-11T00:00:00.000000000', '2018-06-12T00:00:00.000000000'],\n",
       "      dtype='datetime64[ns]')\n",
       "Coordinates:\n",
       "  * time     (time) datetime64[ns] 2018-04-12 2018-04-13 ... 2018-06-12"
      ]
     },
     "execution_count": 13,
     "metadata": {},
     "output_type": "execute_result"
    }
   ],
   "source": [
    "#make sure they both have the same time stamp format\n",
    "subset_sst['time'] = subset_sst.indexes['time'].to_datetimeindex()\n",
    "subset_sst.time\n"
   ]
  },
  {
   "cell_type": "code",
   "execution_count": 14,
   "metadata": {},
   "outputs": [],
   "source": [
    "#ts.index = pd.to_datetime([DT.datetime.fromtimestamp(time.mktime(item))for item in ds_usv_subset.index])\n",
    "ds_collocated_mur = subset_sst.interp(lat=ds_usv_subset.lat,lon=ds_usv_subset.lon,time=ds_usv_subset.time,method='linear')\n",
    "ds_collocated_oc = subset_chl.interp(lat=ds_usv_subset.lat,lon=ds_usv_subset.lon,time=ds_usv_subset.time,method='linear')"
   ]
  },
  {
   "cell_type": "code",
   "execution_count": 15,
   "metadata": {},
   "outputs": [
    {
     "data": {
      "text/plain": [
       "<xarray.Dataset>\n",
       "Dimensions:         (time: 85980)\n",
       "Coordinates:\n",
       "    lat             (time) float64 37.51 37.51 37.51 37.51 ... 37.68 37.68 37.68\n",
       "    lon             (time) float64 -122.8 -122.8 -122.8 ... -122.7 -122.7 -122.7\n",
       "  * time            (time) datetime64[ns] 2018-04-12T02:00:00 ... 2018-06-10T18:59:00\n",
       "    trajectory      float32 1002.0\n",
       "Data variables:\n",
       "    analysed_sst    (time) float64 286.3 286.3 286.3 286.3 ... nan nan nan nan\n",
       "    analysis_error  (time) float64 0.43 0.43 0.4301 0.4301 ... nan nan nan nan\n",
       "    mask            (time) float64 1.0 1.0 1.0 1.0 1.0 ... nan nan nan nan nan\n",
       "Attributes:\n",
       "    Conventions:            NAVO_netcdf_v3.4\n",
       "    title:                  NAVOCEANO 10km Analyzed Sea Surface Temperature\n",
       "    DSD_entry_id:           NAVO-L4HR1m-GLOB-K10_SST\n",
       "    reference:              https://oceanography.navy.mil/legacy/web\n",
       "    institution:            Naval Oceanographic Office\n",
       "    contact:                doug.may@navy.mil\n",
       "    GDS_version_id:         v1.0-rev1.7\n",
       "    netcdf_version_id:      netcdf v3.4\n",
       "    creation_date:          created: 2018-04-12 07:00:03\n",
       "    history:                Created from k10.out, k10a.out\n",
       "    operational_status:     operational\n",
       "    spatial_resolution:     10 km\n",
       "    source_data:            AVHRR18_G-NAVO, AVHRR19_G-NAVO, AVHRRMTA_G-NAVO, ...\n",
       "    comment:                Distribution Statement: Approved for public relea...\n",
       "    start_date:             2018-04-11 UTC\n",
       "    start_time:             00:00:00 UTC\n",
       "    stop_date:              2018-04-11 UTC\n",
       "    stop_time:              23:59:59 UTC\n",
       "    southernmost_latitude:  -90.0\n",
       "    northernmost_latitude:  90.0\n",
       "    westernmost_longitude:  -180.0\n",
       "    easternmost_longitude:  179.9\n",
       "    file_quality_index:     1"
      ]
     },
     "execution_count": 15,
     "metadata": {},
     "output_type": "execute_result"
    }
   ],
   "source": [
    "ds_collocated_mur"
   ]
  },
  {
   "cell_type": "markdown",
   "metadata": {},
   "source": [
    "# Collocate USV data with MUR data\n",
    "There are different options when you interpolate.  First, let's just do a nearest point rather than interpolate the data\n",
    "`method = 'nearest'`"
   ]
  },
  {
   "cell_type": "code",
   "execution_count": 16,
   "metadata": {},
   "outputs": [],
   "source": [
    "ds_collocated_nearest_mur = subset_sst.interp(lat=ds_usv_subset.lat,lon=ds_usv_subset.lon,time=ds_usv_subset.time,method='nearest')\n",
    "ds_collocated_nearest_oc = subset_chl.interp(lat=ds_usv_subset.lat,lon=ds_usv_subset.lon,time=ds_usv_subset.time,method='nearest')"
   ]
  },
  {
   "cell_type": "markdown",
   "metadata": {},
   "source": [
    "## Now, calculate the different in SSTs and print the [.mean()](http://xarray.pydata.org/en/stable/generated/xarray.DataArray.mean.html#xarray.DataArray.mean) and [.std()](http://xarray.pydata.org/en/stable/generated/xarray.DataArray.std.html#xarray.DataArray.std)\n",
    "For the satellite data we need to use `sst` and for the USV data we need to use `TEMP_CTD_MEAN`"
   ]
  },
  {
   "cell_type": "code",
   "execution_count": 35,
   "metadata": {},
   "outputs": [
    {
     "data": {
      "text/plain": [
       "<xarray.DataArray 'analysed_sst' (time: 85980)>\n",
       "array([286.35, 286.35, 286.35, ...,    nan,    nan,    nan], dtype=float32)\n",
       "Coordinates:\n",
       "    lat         (time) float64 37.51 37.51 37.51 37.51 ... 37.68 37.68 37.68\n",
       "    lon         (time) float64 -122.8 -122.8 -122.8 ... -122.7 -122.7 -122.7\n",
       "  * time        (time) datetime64[ns] 2018-04-12T02:00:00 ... 2018-06-10T18:59:00\n",
       "    trajectory  float32 1002.0\n",
       "Attributes:\n",
       "    long_name:      Analyzed Sea Surface Temperature\n",
       "    standard_name:  sea_surface_temperature\n",
       "    type:           depth 1m\n",
       "    units:          kelvin\n",
       "    valid_min:      -20\n",
       "    valid_max:      350"
      ]
     },
     "execution_count": 35,
     "metadata": {},
     "output_type": "execute_result"
    }
   ],
   "source": [
    "ds_collocated_nearest_mur.analysed_sst\n"
   ]
  },
  {
   "cell_type": "code",
   "execution_count": 36,
   "metadata": {},
   "outputs": [
    {
     "data": {
      "text/plain": [
       "<xarray.DataArray 'TEMP_CTD_MEAN' (time: 85980)>\n",
       "array([13.54 , 13.558, 13.573, ..., 10.581, 10.548, 10.541])\n",
       "Coordinates:\n",
       "    trajectory  float32 1002.0\n",
       "  * time        (time) datetime64[ns] 2018-04-12T02:00:00 ... 2018-06-10T18:59:00\n",
       "    lat         (time) float64 37.51 37.51 37.51 37.51 ... 37.68 37.68 37.68\n",
       "    lon         (time) float64 -122.8 -122.8 -122.8 ... -122.7 -122.7 -122.7\n",
       "Attributes:\n",
       "    standard_name:              sea_water_temperature\n",
       "    long_name:                  Seawater temperature\n",
       "    units:                      degrees_c\n",
       "    last_calibrated:            2017-12-14\n",
       "    update_period:              Attribute edlided: Unsupported attribute type...\n",
       "    model_product_page:         http://rdinstruments.com/product/ctd/citadel-...\n",
       "    device_name:                Teledyne CTD (2632)\n",
       "    installed_date:             2017-10-02T18:48:43Z\n",
       "    nominal_sampling_schedule:  12s on, 48s off, centered at :00\n",
       "    installed_height:           -0.6\n",
       "    serial_number:              2632\n",
       "    vendor_name:                Teledyne\n",
       "    model_name:                 Citadel CTD-NH-0-000110-500-500-0"
      ]
     },
     "execution_count": 36,
     "metadata": {},
     "output_type": "execute_result"
    }
   ],
   "source": [
    "ds_usv_subset.TEMP_CTD_MEAN"
   ]
  },
  {
   "cell_type": "code",
   "execution_count": 38,
   "metadata": {},
   "outputs": [
    {
     "name": "stdout",
     "output_type": "stream",
     "text": [
      "mean difference =  0.20544484005976774\n",
      "STD =  0.48167126451293674\n",
      "mean difference =  0.004300322455089829\n",
      "STD =  0.4741116726838073\n"
     ]
    }
   ],
   "source": [
    "dif_mur = ds_collocated_nearest_mur.analysed_sst-(ds_usv_subset.TEMP_CTD_MEAN + 273.15)\n",
    "print('mean difference = ',dif_mur.mean().data)\n",
    "print('STD = ',dif_mur.std().data)\n",
    "\n",
    "dif_oc = ds_collocated_nearest_oc.chl_ocx-ds_usv_subset.CHLOR_MEAN\n",
    "print('mean difference = ',dif_oc.mean().data)\n",
    "print('STD = ',dif_oc.std().data)"
   ]
  },
  {
   "cell_type": "code",
   "execution_count": 53,
   "metadata": {},
   "outputs": [
    {
     "data": {
      "text/plain": [
       "[<matplotlib.lines.Line2D at 0x7f8564090908>]"
      ]
     },
     "execution_count": 53,
     "metadata": {},
     "output_type": "execute_result"
    },
    {
     "data": {
      "image/png": "[encoded data removed]",
      "text/plain": [
       "<Figure size 432x288 with 1 Axes>"
      ]
     },
     "metadata": {
      "needs_background": "light"
     },
     "output_type": "display_data"
    }
   ],
   "source": [
    "plt.plot(ds_collocated_nearest_oc.time,ds_collocated_nearest_oc.chl_ocx)"
   ]
  },
  {
   "cell_type": "code",
   "execution_count": null,
   "metadata": {},
   "outputs": [],
   "source": []
  }
 ],
 "metadata": {
  "anaconda-cloud": {},
  "celltoolbar": "Raw Cell Format",
  "kernelspec": {
   "display_name": "Python 3",
   "language": "python",
   "name": "python3"
  },
  "language_info": {
   "codemirror_mode": {
    "name": "ipython",
    "version": 3
   },
   "file_extension": ".py",
   "mimetype": "text/x-python",
   "name": "python",
   "nbconvert_exporter": "python",
   "pygments_lexer": "ipython3",
   "version": "3.7.3"
  }
 },
 "nbformat": 4,
 "nbformat_minor": 4
}
