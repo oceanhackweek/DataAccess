{
 "cells": [
  {
   "cell_type": "code",
   "execution_count": 1,
   "metadata": {},
   "outputs": [],
   "source": [
    "from scipy import interpolate\n",
    "import gsw\n",
    "import numpy as np\n",
    "import xarray as xr\n",
    "from matplotlib import pyplot as plt\n",
    "%matplotlib inline"
   ]
  },
  {
   "cell_type": "markdown",
   "metadata": {},
   "source": [
    "### Dask Cluster"
   ]
  },
  {
   "cell_type": "code",
   "execution_count": 53,
   "metadata": {},
   "outputs": [
    {
     "data": {
      "application/vnd.jupyter.widget-view+json": {
       "model_id": "780c52eecd3547bb86c618b9c1f5aa60",
       "version_major": 2,
       "version_minor": 0
      },
      "text/plain": [
       "VBox(children=(HTML(value='<h2>KubeCluster</h2>'), HBox(children=(HTML(value='\\n<div>\\n  <style scoped>\\n    .…"
      ]
     },
     "metadata": {},
     "output_type": "display_data"
    }
   ],
   "source": [
    "from dask_kubernetes import KubeCluster\n",
    "from dask.distributed import Client\n",
    "cluster = KubeCluster()\n",
    "# cluster.adapt(minimum=1, maximum=10)\n",
    "cluster.scale(4)\n",
    "\n",
    "client = Client(cluster)\n",
    "cluster"
   ]
  },
  {
   "cell_type": "markdown",
   "metadata": {},
   "source": [
    "### Gridded monthly mean Argo data"
   ]
  },
  {
   "cell_type": "code",
   "execution_count": 66,
   "metadata": {},
   "outputs": [
    {
     "data": {
      "text/plain": [
       "<xarray.Dataset>\n",
       "Dimensions:  (lat: 180, lev: 27, lon: 360, time: 180)\n",
       "Coordinates:\n",
       "  * time     (time) datetime64[ns] 2005-01-15 2005-02-15 ... 2019-12-15\n",
       "  * lev      (lev) float64 0.0 5.0 10.0 20.0 ... 1.4e+03 1.5e+03 1.75e+03 2e+03\n",
       "  * lat      (lat) float64 -89.5 -88.5 -87.5 -86.5 -85.5 ... 86.5 87.5 88.5 89.5\n",
       "  * lon      (lon) float64 0.5 1.5 2.5 3.5 4.5 ... 355.5 356.5 357.5 358.5 359.5\n",
       "Data variables:\n",
       "    temp     (time, lev, lat, lon) float32 dask.array<shape=(180, 27, 180, 360), chunksize=(180, 27, 45, 90)>\n",
       "    salt     (time, lev, lat, lon) float32 dask.array<shape=(180, 27, 180, 360), chunksize=(180, 27, 45, 90)>\n",
       "    ptemp    (time, lev, lat, lon) float32 dask.array<shape=(180, 27, 180, 360), chunksize=(180, 27, 45, 90)>\n",
       "    pden     (time, lev, lat, lon) float32 dask.array<shape=(180, 27, 180, 360), chunksize=(180, 27, 45, 90)>\n",
       "    addep    (time, lev, lat, lon) float32 dask.array<shape=(180, 27, 180, 360), chunksize=(180, 27, 45, 90)>\n",
       "    spice    (time, lev, lat, lon) float32 dask.array<shape=(180, 27, 180, 360), chunksize=(180, 27, 45, 90)>\n",
       "Attributes:\n",
       "    title:          1x1 gridded Monthly mean on Standard Levels (from 2005)\n",
       "    Conventions:    COARDS\\nGrADS\n",
       "    dataType:       Grid\n",
       "    documentation:  http://apdrc.soest.hawaii.edu/projects/Argo/index.html\n",
       "    history:        Fri Jul 19 13:26:16 HST 2019 : imported by GrADS Data Ser..."
      ]
     },
     "execution_count": 66,
     "metadata": {},
     "output_type": "execute_result"
    }
   ],
   "source": [
    "url = 'http://apdrc.soest.hawaii.edu:80/dods/public_data/Argo_Products/monthly_mean/Gridded_monthly_mean'\n",
    "# ds = xr.open_dataset(url) #,chunks={'lat': 90, 'lon': 90, 'time': -1}\n",
    "ds = xr.open_dataset(url,chunks={'lat': 45, 'lon': 90, 'time': -1}) \n",
    "# ds = xr.open_dataset(url,chunks={'lat': 10, 'lon': 10, 'time': -1}) \n",
    "ds"
   ]
  },
  {
   "cell_type": "code",
   "execution_count": 67,
   "metadata": {},
   "outputs": [
    {
     "data": {
      "text/plain": [
       "<xarray.DataArray 'pden' (time: 180, lev: 27, lat: 180, lon: 360)>\n",
       "dask.array<shape=(180, 27, 180, 360), dtype=float32, chunksize=(180, 27, 45, 90)>\n",
       "Coordinates:\n",
       "  * time     (time) datetime64[ns] 2005-01-15 2005-02-15 ... 2019-12-15\n",
       "  * lev      (lev) float64 0.0 5.0 10.0 20.0 ... 1.4e+03 1.5e+03 1.75e+03 2e+03\n",
       "  * lat      (lat) float64 -89.5 -88.5 -87.5 -86.5 -85.5 ... 86.5 87.5 88.5 89.5\n",
       "  * lon      (lon) float64 0.5 1.5 2.5 3.5 4.5 ... 355.5 356.5 357.5 358.5 359.5\n",
       "Attributes:\n",
       "    long_name:  argo potential density (kg/m3) "
      ]
     },
     "execution_count": 67,
     "metadata": {},
     "output_type": "execute_result"
    }
   ],
   "source": [
    "ds.pden"
   ]
  },
  {
   "cell_type": "markdown",
   "metadata": {},
   "source": [
    "### Function for computing isopycnal depth"
   ]
  },
  {
   "cell_type": "code",
   "execution_count": 68,
   "metadata": {},
   "outputs": [],
   "source": [
    "def compute_iso(pden, iso, z):\n",
    "\n",
    "    dep_iso = np.zeros((pden.shape[1], pden.shape[2]))\n",
    "    dep_iso[:, :] = np.nan\n",
    "    for i in np.arange(0, pden.shape[2], 1):\n",
    "        for j in np.arange(0, pden.shape[1], 1):\n",
    "\n",
    "            den_tmp = pden[:, j, i]\n",
    "\n",
    "            id1 = np.where(den_tmp < iso)\n",
    "\n",
    "            if np.size(id1) > 0 and np.size(id1) < len(z):\n",
    "\n",
    "                den1 = den_tmp[id1[0][-1]]\n",
    "                den2 = den_tmp[id1[0][-1] + 1]\n",
    "\n",
    "                if den1 < den2:\n",
    "                    fun2 = interpolate.interp1d([den1, den2], [z[id1[0][-1]], z[id1[0][-1] + 1]])\n",
    "                    dep_iso[j, i] = fun2(iso)\n",
    "\n",
    "    return dep_iso"
   ]
  },
  {
   "cell_type": "code",
   "execution_count": 69,
   "metadata": {},
   "outputs": [
    {
     "name": "stderr",
     "output_type": "stream",
     "text": [
      "/srv/conda/envs/notebook/lib/python3.7/site-packages/ipykernel_launcher.py:10: RuntimeWarning: invalid value encountered in less\n",
      "  # Remove the CWD from sys.path while we load stuff.\n"
     ]
    },
    {
     "name": "stdout",
     "output_type": "stream",
     "text": [
      "CPU times: user 6.29 s, sys: 1.58 s, total: 7.87 s\n",
      "Wall time: 12.4 s\n"
     ]
    }
   ],
   "source": [
    "%%time\n",
    "# pden = ds.sel(lat=slice(40,80),lon=slice(100,140)).pden\n",
    "pden = ds.pden\n",
    "z = pden.lev.values\n",
    "iso = [24]\n",
    "\n",
    "size = pden.shape\n",
    "dep_iso = np.zeros((size[0], size[2], size[3]))\n",
    "# for t in np.arange(size[0]):\n",
    "for t in np.arange(1):\n",
    "    data = pden[t, :, :, :].values\n",
    "    dep_iso[t, :, :] = compute_iso(data, iso, z)\n",
    "    #print(str(pden.time[t].values))\n",
    "    \n",
    "ds_dep_iso = xr.DataArray(dep_iso, coords={'time': pden.time, 'lat': pden.lat, 'lon': pden.lon}, dims=['time', 'lat', 'lon'])"
   ]
  },
  {
   "cell_type": "markdown",
   "metadata": {},
   "source": [
    "### Dask speed up"
   ]
  },
  {
   "cell_type": "code",
   "execution_count": 27,
   "metadata": {},
   "outputs": [
    {
     "name": "stderr",
     "output_type": "stream",
     "text": [
      "/srv/conda/envs/notebook/lib/python3.7/site-packages/ipykernel_launcher.py:10: RuntimeWarning: invalid value encountered in less\n",
      "  # Remove the CWD from sys.path while we load stuff.\n"
     ]
    },
    {
     "name": "stdout",
     "output_type": "stream",
     "text": [
      "CPU times: user 10.6 s, sys: 1.5 s, total: 12.1 s\n",
      "Wall time: 45.7 s\n"
     ]
    }
   ],
   "source": [
    "%%time\n",
    "pden = ds.sel(lat=slice(40,80),lon=slice(100,140)).pden\n",
    "z = pden.lev.values\n",
    "iso = [24]\n",
    "\n",
    "size = pden.shape\n",
    "dep_iso = np.zeros((size[0], size[2], size[3]))\n",
    "for t in np.arange(size[0]):\n",
    "#for t in np.arange(1):\n",
    "    data = pden[t, :, :, :].values\n",
    "    dep_iso[t, :, :] = compute_iso(data, iso, z)\n",
    "    #print(str(pden.time[t].values))\n",
    "    \n",
    "ds_dep_iso = xr.DataArray(dep_iso, coords={'time': pden.time, 'lat': pden.lat, 'lon': pden.lon}, dims=['time', 'lat', 'lon'])"
   ]
  },
  {
   "cell_type": "code",
   "execution_count": 22,
   "metadata": {},
   "outputs": [
    {
     "data": {
      "text/plain": [
       "<xarray.DataArray 'lev' (lev: 27)>\n",
       "array([   0.,    5.,   10.,   20.,   30.,   50.,   75.,  100.,  125.,  150.,\n",
       "        200.,  250.,  300.,  400.,  500.,  600.,  700.,  800.,  900., 1000.,\n",
       "       1100., 1200., 1300., 1400., 1500., 1750., 2000.])\n",
       "Coordinates:\n",
       "  * lev      (lev) float64 0.0 5.0 10.0 20.0 ... 1.4e+03 1.5e+03 1.75e+03 2e+03\n",
       "Attributes:\n",
       "    units:          meters\n",
       "    positive:       down\n",
       "    name:           Depth\n",
       "    grads_dim:      z\n",
       "    grads_mapping:  levels\n",
       "    long_name:      altitude\n",
       "    minimum:        0.0\n",
       "    maximum:        2000.0\n",
       "    resolution:     76.92308"
      ]
     },
     "execution_count": 22,
     "metadata": {},
     "output_type": "execute_result"
    }
   ],
   "source": [
    "pden.lev"
   ]
  },
  {
   "cell_type": "code",
   "execution_count": 18,
   "metadata": {},
   "outputs": [
    {
     "data": {
      "text/plain": [
       "<xarray.DataArray (time: 180, lat: 40, lon: 40)>\n",
       "array([[[nan, nan, ..., nan, nan],\n",
       "        [nan, nan, ..., nan, nan],\n",
       "        ...,\n",
       "        [nan, nan, ..., nan, nan],\n",
       "        [nan, nan, ..., nan, nan]],\n",
       "\n",
       "       [[nan, nan, ..., nan, nan],\n",
       "        [nan, nan, ..., nan, nan],\n",
       "        ...,\n",
       "        [nan, nan, ..., nan, nan],\n",
       "        [nan, nan, ..., nan, nan]],\n",
       "\n",
       "       ...,\n",
       "\n",
       "       [[nan, nan, ..., nan, nan],\n",
       "        [nan, nan, ..., nan, nan],\n",
       "        ...,\n",
       "        [nan, nan, ..., nan, nan],\n",
       "        [nan, nan, ..., nan, nan]],\n",
       "\n",
       "       [[nan, nan, ..., nan, nan],\n",
       "        [nan, nan, ..., nan, nan],\n",
       "        ...,\n",
       "        [nan, nan, ..., nan, nan],\n",
       "        [nan, nan, ..., nan, nan]]])\n",
       "Coordinates:\n",
       "  * time     (time) datetime64[ns] 2005-01-15 2005-02-15 ... 2019-12-15\n",
       "  * lat      (lat) float64 40.5 41.5 42.5 43.5 44.5 ... 75.5 76.5 77.5 78.5 79.5\n",
       "  * lon      (lon) float64 100.5 101.5 102.5 103.5 ... 136.5 137.5 138.5 139.5"
      ]
     },
     "execution_count": 18,
     "metadata": {},
     "output_type": "execute_result"
    }
   ],
   "source": [
    "ds_dep_iso"
   ]
  },
  {
   "cell_type": "code",
   "execution_count": 20,
   "metadata": {},
   "outputs": [
    {
     "name": "stderr",
     "output_type": "stream",
     "text": [
      "/srv/conda/envs/notebook/lib/python3.7/site-packages/ipykernel_launcher.py:2: UserWarning: No contour levels were found within the data range.\n",
      "  \n"
     ]
    },
    {
     "data": {
      "text/plain": [
       "<matplotlib.contour.QuadContourSet at 0x7fdff975b0f0>"
      ]
     },
     "execution_count": 20,
     "metadata": {},
     "output_type": "execute_result"
    },
    {
     "data": {
      "image/png": "[encoded data removed]",
      "text/plain": [
       "<Figure size 720x576 with 2 Axes>"
      ]
     },
     "metadata": {
      "needs_background": "light"
     },
     "output_type": "display_data"
    }
   ],
   "source": [
    "ds_dep_iso[0, :, :].plot(figsize=(10, 8))\n",
    "plt.contour(pden.lon, pden.lat, ds_dep_iso[170, :, :], colors='k')"
   ]
  },
  {
   "cell_type": "code",
   "execution_count": 6,
   "metadata": {},
   "outputs": [
    {
     "name": "stderr",
     "output_type": "stream",
     "text": [
      "/srv/conda/envs/notebook/lib/python3.7/site-packages/pandas/plotting/_converter.py:129: FutureWarning: Using an implicitly registered datetime converter for a matplotlib plotting method. The converter was registered by pandas on import. Future versions of pandas will require you to explicitly register matplotlib converters.\n",
      "\n",
      "To register the converters:\n",
      "\t>>> from pandas.plotting import register_matplotlib_converters\n",
      "\t>>> register_matplotlib_converters()\n",
      "  warnings.warn(msg, FutureWarning)\n"
     ]
    },
    {
     "data": {
      "text/plain": [
       "[<matplotlib.lines.Line2D at 0x7fdff9fab588>]"
      ]
     },
     "execution_count": 6,
     "metadata": {},
     "output_type": "execute_result"
    },
    {
     "data": {
      "image/png": "[encoded data removed]",
      "text/plain": [
       "<Figure size 720x360 with 1 Axes>"
      ]
     },
     "metadata": {
      "needs_background": "light"
     },
     "output_type": "display_data"
    }
   ],
   "source": [
    "ds_dep_iso[:, 40, 20].plot(figsize=(10, 5))"
   ]
  },
  {
   "cell_type": "code",
   "execution_count": null,
   "metadata": {},
   "outputs": [],
   "source": []
  }
 ],
 "metadata": {
  "kernelspec": {
   "display_name": "Python 3",
   "language": "python",
   "name": "python3"
  },
  "language_info": {
   "codemirror_mode": {
    "name": "ipython",
    "version": 3
   },
   "file_extension": ".py",
   "mimetype": "text/x-python",
   "name": "python",
   "nbconvert_exporter": "python",
   "pygments_lexer": "ipython3",
   "version": "3.7.3"
  }
 },
 "nbformat": 4,
 "nbformat_minor": 4
}
